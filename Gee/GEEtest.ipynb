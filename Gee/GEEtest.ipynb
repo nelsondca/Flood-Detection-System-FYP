{
 "cells": [
  {
   "cell_type": "code",
   "execution_count": 2,
   "id": "6f169947-9446-4a84-8e49-a5f28cc56ebb",
   "metadata": {
    "scrolled": true
   },
   "outputs": [
    {
     "name": "stdout",
     "output_type": "stream",
     "text": [
      "Requirement already satisfied: geemap in c:\\users\\neo\\.anaconda\\envs\\gee\\lib\\site-packages (0.35.0)\n",
      "Requirement already satisfied: bqplot in c:\\users\\neo\\.anaconda\\envs\\gee\\lib\\site-packages (from geemap) (0.12.43)\n",
      "Requirement already satisfied: colour in c:\\users\\neo\\.anaconda\\envs\\gee\\lib\\site-packages (from geemap) (0.1.5)\n",
      "Requirement already satisfied: earthengine-api>=1.0.0 in c:\\users\\neo\\.anaconda\\envs\\gee\\lib\\site-packages (from geemap) (1.2.0)\n",
      "Requirement already satisfied: eerepr>=0.0.4 in c:\\users\\neo\\.anaconda\\envs\\gee\\lib\\site-packages (from geemap) (0.0.4)\n",
      "Requirement already satisfied: folium>=0.17.0 in c:\\users\\neo\\.anaconda\\envs\\gee\\lib\\site-packages (from geemap) (0.17.0)\n",
      "Requirement already satisfied: geocoder in c:\\users\\neo\\.anaconda\\envs\\gee\\lib\\site-packages (from geemap) (1.38.1)\n",
      "Requirement already satisfied: ipyevents in c:\\users\\neo\\.anaconda\\envs\\gee\\lib\\site-packages (from geemap) (2.0.2)\n",
      "Requirement already satisfied: ipyfilechooser>=0.6.0 in c:\\users\\neo\\.anaconda\\envs\\gee\\lib\\site-packages (from geemap) (0.6.0)\n",
      "Requirement already satisfied: ipyleaflet>=0.19.2 in c:\\users\\neo\\.anaconda\\envs\\gee\\lib\\site-packages (from geemap) (0.19.2)\n",
      "Requirement already satisfied: ipytree in c:\\users\\neo\\.anaconda\\envs\\gee\\lib\\site-packages (from geemap) (0.2.2)\n",
      "Requirement already satisfied: matplotlib in c:\\users\\neo\\.anaconda\\envs\\gee\\lib\\site-packages (from geemap) (3.9.2)\n",
      "Requirement already satisfied: numpy in c:\\users\\neo\\.anaconda\\envs\\gee\\lib\\site-packages (from geemap) (2.1.2)\n",
      "Requirement already satisfied: pandas in c:\\users\\neo\\.anaconda\\envs\\gee\\lib\\site-packages (from geemap) (2.2.3)\n",
      "Requirement already satisfied: plotly in c:\\users\\neo\\.anaconda\\envs\\gee\\lib\\site-packages (from geemap) (5.24.1)\n",
      "Requirement already satisfied: pyperclip in c:\\users\\neo\\.anaconda\\envs\\gee\\lib\\site-packages (from geemap) (1.9.0)\n",
      "Requirement already satisfied: pyshp>=2.3.1 in c:\\users\\neo\\.anaconda\\envs\\gee\\lib\\site-packages (from geemap) (2.3.1)\n",
      "Requirement already satisfied: python-box in c:\\users\\neo\\.anaconda\\envs\\gee\\lib\\site-packages (from geemap) (7.2.0)\n",
      "Requirement already satisfied: scooby in c:\\users\\neo\\.anaconda\\envs\\gee\\lib\\site-packages (from geemap) (0.10.0)\n",
      "Requirement already satisfied: google-cloud-storage in c:\\users\\neo\\.anaconda\\envs\\gee\\lib\\site-packages (from earthengine-api>=1.0.0->geemap) (2.18.2)\n",
      "Requirement already satisfied: google-api-python-client>=1.12.1 in c:\\users\\neo\\.anaconda\\envs\\gee\\lib\\site-packages (from earthengine-api>=1.0.0->geemap) (2.149.0)\n",
      "Requirement already satisfied: google-auth>=1.4.1 in c:\\users\\neo\\.anaconda\\envs\\gee\\lib\\site-packages (from earthengine-api>=1.0.0->geemap) (2.35.0)\n",
      "Requirement already satisfied: google-auth-httplib2>=0.0.3 in c:\\users\\neo\\.anaconda\\envs\\gee\\lib\\site-packages (from earthengine-api>=1.0.0->geemap) (0.2.0)\n",
      "Requirement already satisfied: httplib2<1dev,>=0.9.2 in c:\\users\\neo\\.anaconda\\envs\\gee\\lib\\site-packages (from earthengine-api>=1.0.0->geemap) (0.22.0)\n",
      "Requirement already satisfied: requests in c:\\users\\neo\\.anaconda\\envs\\gee\\lib\\site-packages (from earthengine-api>=1.0.0->geemap) (2.32.3)\n",
      "Requirement already satisfied: branca>=0.6.0 in c:\\users\\neo\\.anaconda\\envs\\gee\\lib\\site-packages (from folium>=0.17.0->geemap) (0.7.2)\n",
      "Requirement already satisfied: jinja2>=2.9 in c:\\users\\neo\\.anaconda\\envs\\gee\\lib\\site-packages (from folium>=0.17.0->geemap) (3.1.4)\n",
      "Requirement already satisfied: xyzservices in c:\\users\\neo\\.anaconda\\envs\\gee\\lib\\site-packages (from folium>=0.17.0->geemap) (2024.9.0)\n",
      "Requirement already satisfied: ipywidgets in c:\\users\\neo\\.anaconda\\envs\\gee\\lib\\site-packages (from ipyfilechooser>=0.6.0->geemap) (8.1.5)\n",
      "Requirement already satisfied: jupyter-leaflet<0.20,>=0.19 in c:\\users\\neo\\.anaconda\\envs\\gee\\lib\\site-packages (from ipyleaflet>=0.19.2->geemap) (0.19.2)\n",
      "Requirement already satisfied: traittypes<3,>=0.2.1 in c:\\users\\neo\\.anaconda\\envs\\gee\\lib\\site-packages (from ipyleaflet>=0.19.2->geemap) (0.2.1)\n",
      "Requirement already satisfied: traitlets>=4.3.0 in c:\\users\\neo\\appdata\\roaming\\python\\python311\\site-packages (from bqplot->geemap) (5.14.3)\n",
      "Requirement already satisfied: python-dateutil>=2.8.2 in c:\\users\\neo\\.anaconda\\envs\\gee\\lib\\site-packages (from pandas->geemap) (2.9.0)\n",
      "Requirement already satisfied: pytz>=2020.1 in c:\\users\\neo\\.anaconda\\envs\\gee\\lib\\site-packages (from pandas->geemap) (2024.1)\n",
      "Requirement already satisfied: tzdata>=2022.7 in c:\\users\\neo\\.anaconda\\envs\\gee\\lib\\site-packages (from pandas->geemap) (2024.2)\n",
      "Requirement already satisfied: click in c:\\users\\neo\\.anaconda\\envs\\gee\\lib\\site-packages (from geocoder->geemap) (8.1.7)\n",
      "Requirement already satisfied: future in c:\\users\\neo\\.anaconda\\envs\\gee\\lib\\site-packages (from geocoder->geemap) (1.0.0)\n",
      "Requirement already satisfied: ratelim in c:\\users\\neo\\.anaconda\\envs\\gee\\lib\\site-packages (from geocoder->geemap) (0.1.6)\n",
      "Requirement already satisfied: six in c:\\users\\neo\\.anaconda\\envs\\gee\\lib\\site-packages (from geocoder->geemap) (1.16.0)\n",
      "Requirement already satisfied: contourpy>=1.0.1 in c:\\users\\neo\\.anaconda\\envs\\gee\\lib\\site-packages (from matplotlib->geemap) (1.3.0)\n",
      "Requirement already satisfied: cycler>=0.10 in c:\\users\\neo\\.anaconda\\envs\\gee\\lib\\site-packages (from matplotlib->geemap) (0.12.1)\n",
      "Requirement already satisfied: fonttools>=4.22.0 in c:\\users\\neo\\.anaconda\\envs\\gee\\lib\\site-packages (from matplotlib->geemap) (4.54.1)\n",
      "Requirement already satisfied: kiwisolver>=1.3.1 in c:\\users\\neo\\.anaconda\\envs\\gee\\lib\\site-packages (from matplotlib->geemap) (1.4.7)\n",
      "Requirement already satisfied: packaging>=20.0 in c:\\users\\neo\\.anaconda\\envs\\gee\\lib\\site-packages (from matplotlib->geemap) (24.1)\n",
      "Requirement already satisfied: pillow>=8 in c:\\users\\neo\\.anaconda\\envs\\gee\\lib\\site-packages (from matplotlib->geemap) (10.3.0)\n",
      "Requirement already satisfied: pyparsing>=2.3.1 in c:\\users\\neo\\.anaconda\\envs\\gee\\lib\\site-packages (from matplotlib->geemap) (3.2.0)\n",
      "Requirement already satisfied: tenacity>=6.2.0 in c:\\users\\neo\\.anaconda\\envs\\gee\\lib\\site-packages (from plotly->geemap) (9.0.0)\n",
      "Requirement already satisfied: google-api-core!=2.0.*,!=2.1.*,!=2.2.*,!=2.3.0,<3.0.0.dev0,>=1.31.5 in c:\\users\\neo\\.anaconda\\envs\\gee\\lib\\site-packages (from google-api-python-client>=1.12.1->earthengine-api>=1.0.0->geemap) (2.22.0)\n",
      "Requirement already satisfied: uritemplate<5,>=3.0.1 in c:\\users\\neo\\.anaconda\\envs\\gee\\lib\\site-packages (from google-api-python-client>=1.12.1->earthengine-api>=1.0.0->geemap) (4.1.1)\n",
      "Requirement already satisfied: cachetools<6.0,>=2.0.0 in c:\\users\\neo\\.anaconda\\envs\\gee\\lib\\site-packages (from google-auth>=1.4.1->earthengine-api>=1.0.0->geemap) (5.5.0)\n",
      "Requirement already satisfied: pyasn1-modules>=0.2.1 in c:\\users\\neo\\.anaconda\\envs\\gee\\lib\\site-packages (from google-auth>=1.4.1->earthengine-api>=1.0.0->geemap) (0.4.1)\n",
      "Requirement already satisfied: rsa<5,>=3.1.4 in c:\\users\\neo\\.anaconda\\envs\\gee\\lib\\site-packages (from google-auth>=1.4.1->earthengine-api>=1.0.0->geemap) (4.9)\n",
      "Requirement already satisfied: comm>=0.1.3 in c:\\users\\neo\\appdata\\roaming\\python\\python311\\site-packages (from ipywidgets->ipyfilechooser>=0.6.0->geemap) (0.2.2)\n",
      "Requirement already satisfied: ipython>=6.1.0 in c:\\users\\neo\\appdata\\roaming\\python\\python311\\site-packages (from ipywidgets->ipyfilechooser>=0.6.0->geemap) (8.28.0)\n",
      "Requirement already satisfied: widgetsnbextension~=4.0.12 in c:\\users\\neo\\.anaconda\\envs\\gee\\lib\\site-packages (from ipywidgets->ipyfilechooser>=0.6.0->geemap) (4.0.13)\n",
      "Requirement already satisfied: jupyterlab-widgets~=3.0.12 in c:\\users\\neo\\.anaconda\\envs\\gee\\lib\\site-packages (from ipywidgets->ipyfilechooser>=0.6.0->geemap) (3.0.13)\n",
      "Requirement already satisfied: MarkupSafe>=2.0 in c:\\users\\neo\\.anaconda\\envs\\gee\\lib\\site-packages (from jinja2>=2.9->folium>=0.17.0->geemap) (3.0.1)\n",
      "Requirement already satisfied: colorama in c:\\users\\neo\\.anaconda\\envs\\gee\\lib\\site-packages (from click->geocoder->geemap) (0.4.6)\n",
      "Requirement already satisfied: google-cloud-core<3.0dev,>=2.3.0 in c:\\users\\neo\\.anaconda\\envs\\gee\\lib\\site-packages (from google-cloud-storage->earthengine-api>=1.0.0->geemap) (2.4.1)\n",
      "Requirement already satisfied: google-resumable-media>=2.7.2 in c:\\users\\neo\\.anaconda\\envs\\gee\\lib\\site-packages (from google-cloud-storage->earthengine-api>=1.0.0->geemap) (2.7.2)\n",
      "Requirement already satisfied: google-crc32c<2.0dev,>=1.0 in c:\\users\\neo\\.anaconda\\envs\\gee\\lib\\site-packages (from google-cloud-storage->earthengine-api>=1.0.0->geemap) (1.6.0)\n",
      "Requirement already satisfied: charset-normalizer<4,>=2 in c:\\users\\neo\\.anaconda\\envs\\gee\\lib\\site-packages (from requests->earthengine-api>=1.0.0->geemap) (3.4.0)\n",
      "Requirement already satisfied: idna<4,>=2.5 in c:\\users\\neo\\.anaconda\\envs\\gee\\lib\\site-packages (from requests->earthengine-api>=1.0.0->geemap) (3.10)\n",
      "Requirement already satisfied: urllib3<3,>=1.21.1 in c:\\users\\neo\\.anaconda\\envs\\gee\\lib\\site-packages (from requests->earthengine-api>=1.0.0->geemap) (2.2.3)\n",
      "Requirement already satisfied: certifi>=2017.4.17 in c:\\users\\neo\\.anaconda\\envs\\gee\\lib\\site-packages (from requests->earthengine-api>=1.0.0->geemap) (2024.8.30)\n",
      "Requirement already satisfied: decorator in c:\\users\\neo\\appdata\\roaming\\python\\python311\\site-packages (from ratelim->geocoder->geemap) (5.1.1)\n",
      "Requirement already satisfied: googleapis-common-protos<2.0.dev0,>=1.56.2 in c:\\users\\neo\\.anaconda\\envs\\gee\\lib\\site-packages (from google-api-core!=2.0.*,!=2.1.*,!=2.2.*,!=2.3.0,<3.0.0.dev0,>=1.31.5->google-api-python-client>=1.12.1->earthengine-api>=1.0.0->geemap) (1.65.0)\n",
      "Requirement already satisfied: protobuf!=3.20.0,!=3.20.1,!=4.21.0,!=4.21.1,!=4.21.2,!=4.21.3,!=4.21.4,!=4.21.5,<6.0.0.dev0,>=3.19.5 in c:\\users\\neo\\.anaconda\\envs\\gee\\lib\\site-packages (from google-api-core!=2.0.*,!=2.1.*,!=2.2.*,!=2.3.0,<3.0.0.dev0,>=1.31.5->google-api-python-client>=1.12.1->earthengine-api>=1.0.0->geemap) (5.28.3)\n",
      "Requirement already satisfied: proto-plus<2.0.0dev,>=1.22.3 in c:\\users\\neo\\.anaconda\\envs\\gee\\lib\\site-packages (from google-api-core!=2.0.*,!=2.1.*,!=2.2.*,!=2.3.0,<3.0.0.dev0,>=1.31.5->google-api-python-client>=1.12.1->earthengine-api>=1.0.0->geemap) (1.25.0)\n",
      "Requirement already satisfied: jedi>=0.16 in c:\\users\\neo\\appdata\\roaming\\python\\python311\\site-packages (from ipython>=6.1.0->ipywidgets->ipyfilechooser>=0.6.0->geemap) (0.19.1)\n",
      "Requirement already satisfied: matplotlib-inline in c:\\users\\neo\\appdata\\roaming\\python\\python311\\site-packages (from ipython>=6.1.0->ipywidgets->ipyfilechooser>=0.6.0->geemap) (0.1.7)\n",
      "Requirement already satisfied: prompt-toolkit<3.1.0,>=3.0.41 in c:\\users\\neo\\appdata\\roaming\\python\\python311\\site-packages (from ipython>=6.1.0->ipywidgets->ipyfilechooser>=0.6.0->geemap) (3.0.48)\n",
      "Requirement already satisfied: pygments>=2.4.0 in c:\\users\\neo\\appdata\\roaming\\python\\python311\\site-packages (from ipython>=6.1.0->ipywidgets->ipyfilechooser>=0.6.0->geemap) (2.18.0)\n",
      "Requirement already satisfied: stack-data in c:\\users\\neo\\appdata\\roaming\\python\\python311\\site-packages (from ipython>=6.1.0->ipywidgets->ipyfilechooser>=0.6.0->geemap) (0.6.3)\n",
      "Requirement already satisfied: typing-extensions>=4.6 in c:\\users\\neo\\.anaconda\\envs\\gee\\lib\\site-packages (from ipython>=6.1.0->ipywidgets->ipyfilechooser>=0.6.0->geemap) (4.12.2)\n",
      "Requirement already satisfied: pyasn1<0.7.0,>=0.4.6 in c:\\users\\neo\\.anaconda\\envs\\gee\\lib\\site-packages (from pyasn1-modules>=0.2.1->google-auth>=1.4.1->earthengine-api>=1.0.0->geemap) (0.6.1)\n",
      "Requirement already satisfied: parso<0.9.0,>=0.8.3 in c:\\users\\neo\\appdata\\roaming\\python\\python311\\site-packages (from jedi>=0.16->ipython>=6.1.0->ipywidgets->ipyfilechooser>=0.6.0->geemap) (0.8.4)\n",
      "Requirement already satisfied: wcwidth in c:\\users\\neo\\appdata\\roaming\\python\\python311\\site-packages (from prompt-toolkit<3.1.0,>=3.0.41->ipython>=6.1.0->ipywidgets->ipyfilechooser>=0.6.0->geemap) (0.2.13)\n",
      "Requirement already satisfied: executing>=1.2.0 in c:\\users\\neo\\appdata\\roaming\\python\\python311\\site-packages (from stack-data->ipython>=6.1.0->ipywidgets->ipyfilechooser>=0.6.0->geemap) (2.1.0)\n",
      "Requirement already satisfied: asttokens>=2.1.0 in c:\\users\\neo\\appdata\\roaming\\python\\python311\\site-packages (from stack-data->ipython>=6.1.0->ipywidgets->ipyfilechooser>=0.6.0->geemap) (2.4.1)\n",
      "Requirement already satisfied: pure-eval in c:\\users\\neo\\appdata\\roaming\\python\\python311\\site-packages (from stack-data->ipython>=6.1.0->ipywidgets->ipyfilechooser>=0.6.0->geemap) (0.2.3)\n"
     ]
    }
   ],
   "source": [
    "!pip install geemap\n"
   ]
  },
  {
   "cell_type": "markdown",
   "id": "c5ae01eb",
   "metadata": {},
   "source": [
    "# IMPORTING LIBRARIES & STARTING EARTH ENGINE"
   ]
  },
  {
   "cell_type": "code",
   "execution_count": 10,
   "id": "cd4aa6cf-31e4-43d9-a54f-86797e97a4ea",
   "metadata": {},
   "outputs": [
    {
     "data": {
      "application/vnd.jupyter.widget-view+json": {
       "model_id": "841bc592787847699f0b3ff31321cf5d",
       "version_major": 2,
       "version_minor": 0
      },
      "text/plain": [
       "Map(center=[0, 0], controls=(WidgetControl(options=['position', 'transparent_bg'], widget=SearchDataGUI(childr…"
      ]
     },
     "metadata": {},
     "output_type": "display_data"
    }
   ],
   "source": [
    "# Import the geemap and Earth Engine libraries\n",
    "import geemap\n",
    "import ee\n",
    "# import datetime\n",
    "\n",
    "# Starts the Earth Engine API\n",
    "ee.Initialize()\n",
    "\n",
    "# Creates the interactive map shown in the next cell\n",
    "Map = geemap.Map()\n",
    "\n",
    "# Displaying the map\n",
    "Map"
   ]
  },
  {
   "cell_type": "markdown",
   "id": "f0cb609c",
   "metadata": {},
   "source": [
    "## CHOOSING THE GEOGRAPHIC SPACE ( Cork )\n",
    "According to \n",
    "The irish times: https://www.irishtimes.com/ireland/2023/10/19/cork-flooding-floods-in-co-cork-absolutely-devastating-as-safety-warning-issued-to-motorists/\n",
    "Picked the area that got more affected with the floods of 2023\n"
   ]
  },
  {
   "cell_type": "code",
   "execution_count": 11,
   "id": "1d3600a7",
   "metadata": {},
   "outputs": [
    {
     "data": {
      "text/html": [
       "\n",
       "            <style>\n",
       "                .geemap-dark {\n",
       "                    --jp-widgets-color: white;\n",
       "                    --jp-widgets-label-color: white;\n",
       "                    --jp-ui-font-color1: white;\n",
       "                    --jp-layout-color2: #454545;\n",
       "                    background-color: #383838;\n",
       "                }\n",
       "\n",
       "                .geemap-dark .jupyter-button {\n",
       "                    --jp-layout-color3: #383838;\n",
       "                }\n",
       "\n",
       "                .geemap-colab {\n",
       "                    background-color: var(--colab-primary-surface-color, white);\n",
       "                }\n",
       "\n",
       "                .geemap-colab .jupyter-button {\n",
       "                    --jp-layout-color3: var(--colab-primary-surface-color, white);\n",
       "                }\n",
       "            </style>\n",
       "            "
      ],
      "text/plain": [
       "<IPython.core.display.HTML object>"
      ]
     },
     "metadata": {},
     "output_type": "display_data"
    },
    {
     "data": {
      "application/vnd.jupyter.widget-view+json": {
       "model_id": "25e8d39d10d043289a3c3d60d650f025",
       "version_major": 2,
       "version_minor": 0
      },
      "text/plain": [
       "Map(center=[51.8691, -8.2646], controls=(WidgetControl(options=['position', 'transparent_bg'], widget=SearchDa…"
      ]
     },
     "metadata": {},
     "output_type": "display_data"
    }
   ],
   "source": [
    "# Defines the area of interest in a rectangular shape \n",
    "area_of_interest = ee.Geometry.Polygon([ # This polygon is defined using four sets of coodinates , each representing a corner of the rectangle\n",
    "        [[-8.570156845611686, 52.00904254772663], # Top-left corner\n",
    "         [-8.570156845611686, 51.7292195887807], # Bottom-left corner\n",
    "         [-7.959042343658562, 51.7292195887807], # Bottom-right corner\n",
    "         [-7.959042343658562, 52.00904254772663]] # Top-right corner these coordinates are in [longitude, latitude] format, following the convention for geographic coordinates in Earth Engine\n",
    "    ]).buffer(5000) # Adding a buffer to expand the area only for data analyses process further in the project\n",
    "\n",
    "# Initialize the map\n",
    "Map = geemap.Map(center=[51.8691, -8.2646], zoom=10)  # Adjusts center and zoom as needed\n",
    "\n",
    "# Adds the area of interest to the map\n",
    "Map.addLayer(area_of_interest, {'color': 'red'}, 'Area of Interest')\n",
    "\n",
    "# Display the map\n",
    "Map\n"
   ]
  },
  {
   "cell_type": "markdown",
   "id": "46c01939",
   "metadata": {},
   "source": [
    "## DATE RANGE AND FILTERING SENTINEL COLLECTION"
   ]
  },
  {
   "cell_type": "code",
   "execution_count": 25,
   "id": "7b7132cb-50f7-40ac-92f8-d5afeaa689b6",
   "metadata": {},
   "outputs": [
    {
     "data": {
      "text/html": [
       "\n",
       "            <style>\n",
       "                .geemap-dark {\n",
       "                    --jp-widgets-color: white;\n",
       "                    --jp-widgets-label-color: white;\n",
       "                    --jp-ui-font-color1: white;\n",
       "                    --jp-layout-color2: #454545;\n",
       "                    background-color: #383838;\n",
       "                }\n",
       "\n",
       "                .geemap-dark .jupyter-button {\n",
       "                    --jp-layout-color3: #383838;\n",
       "                }\n",
       "\n",
       "                .geemap-colab {\n",
       "                    background-color: var(--colab-primary-surface-color, white);\n",
       "                }\n",
       "\n",
       "                .geemap-colab .jupyter-button {\n",
       "                    --jp-layout-color3: var(--colab-primary-surface-color, white);\n",
       "                }\n",
       "            </style>\n",
       "            "
      ],
      "text/plain": [
       "<IPython.core.display.HTML object>"
      ]
     },
     "metadata": {},
     "output_type": "display_data"
    }
   ],
   "source": [
    "\n",
    "# Time range from 2015 to 2023\n",
    "start_date = '2015-01-01'\n",
    "end_date = '2023-12-31'\n",
    "\n",
    "# Fetch Landsat images for the defined area and time range, and applying a cloud cover filter\n",
    "sentinel_collection = ee.ImageCollection('COPERNICUS/S1_GRD') \\\n",
    "                     .filterBounds(area_of_interest) \\\n",
    "                     .filterDate(start_date, end_date) "
   ]
  },
  {
   "cell_type": "markdown",
   "id": "127c75c2",
   "metadata": {},
   "source": [
    "## RETRIEVING AND DISPLAYING FIRST IMAGE METADATA"
   ]
  },
  {
   "cell_type": "code",
   "execution_count": 36,
   "id": "a189f945",
   "metadata": {},
   "outputs": [
    {
     "data": {
      "text/html": [
       "\n",
       "            <style>\n",
       "                .geemap-dark {\n",
       "                    --jp-widgets-color: white;\n",
       "                    --jp-widgets-label-color: white;\n",
       "                    --jp-ui-font-color1: white;\n",
       "                    --jp-layout-color2: #454545;\n",
       "                    background-color: #383838;\n",
       "                }\n",
       "\n",
       "                .geemap-dark .jupyter-button {\n",
       "                    --jp-layout-color3: #383838;\n",
       "                }\n",
       "\n",
       "                .geemap-colab {\n",
       "                    background-color: var(--colab-primary-surface-color, white);\n",
       "                }\n",
       "\n",
       "                .geemap-colab .jupyter-button {\n",
       "                    --jp-layout-color3: var(--colab-primary-surface-color, white);\n",
       "                }\n",
       "            </style>\n",
       "            "
      ],
      "text/plain": [
       "<IPython.core.display.HTML object>"
      ]
     },
     "metadata": {},
     "output_type": "display_data"
    },
    {
     "name": "stdout",
     "output_type": "stream",
     "text": [
      "{'type': 'Image', 'bands': [{'id': 'HH', 'data_type': {'type': 'PixelType', 'precision': 'double'}, 'dimensions': [12688, 12341], 'crs': 'EPSG:32630', 'crs_transform': [40, 0, 75010.67228783463, 0, -40, 5920472.687766667]}, {'id': 'HV', 'data_type': {'type': 'PixelType', 'precision': 'double'}, 'dimensions': [12688, 12341], 'crs': 'EPSG:32630', 'crs_transform': [40, 0, 75010.67228783463, 0, -40, 5920472.687766667]}, {'id': 'angle', 'data_type': {'type': 'PixelType', 'precision': 'float'}, 'dimensions': [21, 22], 'crs': 'EPSG:32630', 'crs_transform': [20481.23323360778, -3402.2406153591, 172027.2353513519, 3343.503048089333, 20199.185939010233, 5436476.418459804]}], 'version': 1731443682323982, 'id': 'COPERNICUS/S1_GRD/S1A_EW_GRDM_1SDH_20150104T180509_20150104T180610_004025_004D9B_C7FC', 'properties': {'SNAP_Graph_Processing_Framework_GPF_vers': '6.0.4', 'SLC_Processing_facility_org': 'Airbus DS', 'SLC_Processing_facility_country': 'United Kingdom', 'GRD_Post_Processing_facility_org': 'Airbus DS', 'transmitterReceiverPolarisation': ['HH', 'HV'], 'GRD_Post_Processing_start': 1420416363020, 'sliceNumber': 0, 'GRD_Post_Processing_facility_name': 'UPA_', 'resolution': 'M', 'SLC_Processing_facility_name': 'UPA_', 'system:footprint': {'type': 'LinearRing', 'coordinates': [[-2.701043369552408, 53.11368499796661], [-2.7395790864619314, 53.26371904124249], [-2.74800794134533, 53.29208270411591], [-2.7629727394210697, 53.292113319097815], [-3.6302055566575486, 53.21256659484579], [-8.75349451158432, 52.44619808775783], [-8.736969485504765, 52.40029526938941], [-8.544687108709255, 51.89066364230611], [-8.402978452697813, 51.51841555340479], [-8.230914741385567, 51.06019077023425], [-8.013716131423564, 50.474274792782154], [-7.941094335487, 50.27543390431583], [-7.869990475749292, 50.07945951402907], [-7.8022858257627, 49.89179772985263], [-7.581628097876477, 49.27223427726731], [-7.483903610355387, 48.99384070396679], [-5.889668954989165, 49.21743090368699], [-2.74618700125549, 49.70905338212061], [-1.9213036332024027, 49.8278607531719], [-2.3029368867014304, 51.49477935132618], [-2.701043369552408, 53.11368499796661]]}, 'familyName': 'SENTINEL-1', 'segmentStartTime': 1420394711200, 'missionDataTakeID': 19867, 'GRD_Post_Processing_facility_country': 'United Kingdom', 'nssdcIdentifier': '0000-000A', 'productClass': 'S', 'phaseIdentifier': 1, 'orbitProperties_pass': 'ASCENDING', 'relativeOrbitNumber_stop': 103, 'system:time_end': 1420394709840, 'SLC_Processing_facility_site': 'Farnborough', 'GRD_Post_Processing_stop': 1420416871000, 'system:time_start': 1420394709840, 'instrumentMode': 'EW', 'totalSlices': 0, 'SLC_Processing_stop': 1420416673000, 'startTimeANX': 805473.1, 'SLC_Processing_start': 1420416454000, 'resolution_meters': 40, 'instrumentSwath': 'EW', 'relativeOrbitNumber_start': 103, 'productTimelinessCategory': 'Fast-24h', 'SLC_Processing_software_name': 'Sentinel-1 IPF', 'sliceProductFlag': 'false', 'S1TBX_Calibration_vers': '6.0.4', 'orbitNumber_start': 4025, 'GRD_Post_Processing_facility_site': 'Farnborough', 'instrument': 'Synthetic Aperture Radar', 'GRD_Post_Processing_software_name': 'Sentinel-1 IPF', 'platform_number': 'A', 'S1TBX_SAR_Processing_vers': '6.0.4', 'productType': 'GRD', 'orbitProperties_ascendingNodeTime': 1420393904370, 'stopTimeANX': 865915.6, 'productComposition': 'Individual', 'productClassDescription': 'SAR Standard L1 Product', 'GRD_Post_Processing_software_version': '002.36', 'SLC_Processing_software_version': '002.36', 'orbitNumber_stop': 4025, 'instrumentConfigurationID': 3, 'system:asset_size': 943926183, 'cycleNumber': 37, 'system:index': 'S1A_EW_GRDM_1SDH_20150104T180509_20150104T180610_004025_004D9B_C7FC'}}\n"
     ]
    }
   ],
   "source": [
    "# Get the first image from the collection\n",
    "first_image = sentinel_collection.first()\n",
    "\n",
    "# Print image information\n",
    "print(first_image.getInfo())"
   ]
  },
  {
   "cell_type": "markdown",
   "id": "7d274a90",
   "metadata": {},
   "source": [
    "## EXPORT FIRST IMAGE TO GOOGLE DRIVE"
   ]
  },
  {
   "cell_type": "code",
   "execution_count": 37,
   "id": "cab1e438-a685-466e-ba93-43b6c83c6494",
   "metadata": {},
   "outputs": [
    {
     "data": {
      "text/html": [
       "\n",
       "            <style>\n",
       "                .geemap-dark {\n",
       "                    --jp-widgets-color: white;\n",
       "                    --jp-widgets-label-color: white;\n",
       "                    --jp-ui-font-color1: white;\n",
       "                    --jp-layout-color2: #454545;\n",
       "                    background-color: #383838;\n",
       "                }\n",
       "\n",
       "                .geemap-dark .jupyter-button {\n",
       "                    --jp-layout-color3: #383838;\n",
       "                }\n",
       "\n",
       "                .geemap-colab {\n",
       "                    background-color: var(--colab-primary-surface-color, white);\n",
       "                }\n",
       "\n",
       "                .geemap-colab .jupyter-button {\n",
       "                    --jp-layout-color3: var(--colab-primary-surface-color, white);\n",
       "                }\n",
       "            </style>\n",
       "            "
      ],
      "text/plain": [
       "<IPython.core.display.HTML object>"
      ]
     },
     "metadata": {},
     "output_type": "display_data"
    },
    {
     "name": "stdout",
     "output_type": "stream",
     "text": [
      "Image export task completed...\n"
     ]
    }
   ],
   "source": [
    "# Export the image to Google Drive (you'll need to have Google Drive connected)\n",
    "task = ee.batch.Export.image.toDrive(\n",
    "    image=first_image,\n",
    "    description='Sentinel_Composite',\n",
    "    folder='EarthEngineImages',\n",
    "    scale=30,\n",
    "    region=area_of_interest\n",
    ")\n",
    "task.start()\n",
    "\n",
    "print(\"Image export task completed...\")\n"
   ]
  },
  {
   "cell_type": "markdown",
   "id": "77c4c72e",
   "metadata": {},
   "source": [
    "## CONVERING IMAGE TO Uint16 FORMAT IN GEE\n",
    "images have different data types across bands. I was having an error saying that i couldnt display the image in ( \"Map\" ) from gee this is often required for further image processing and exporting tasks."
   ]
  },
  {
   "cell_type": "code",
   "execution_count": 49,
   "id": "6ae9dbd1",
   "metadata": {},
   "outputs": [
    {
     "data": {
      "text/html": [
       "\n",
       "            <style>\n",
       "                .geemap-dark {\n",
       "                    --jp-widgets-color: white;\n",
       "                    --jp-widgets-label-color: white;\n",
       "                    --jp-ui-font-color1: white;\n",
       "                    --jp-layout-color2: #454545;\n",
       "                    background-color: #383838;\n",
       "                }\n",
       "\n",
       "                .geemap-dark .jupyter-button {\n",
       "                    --jp-layout-color3: #383838;\n",
       "                }\n",
       "\n",
       "                .geemap-colab {\n",
       "                    background-color: var(--colab-primary-surface-color, white);\n",
       "                }\n",
       "\n",
       "                .geemap-colab .jupyter-button {\n",
       "                    --jp-layout-color3: var(--colab-primary-surface-color, white);\n",
       "                }\n",
       "            </style>\n",
       "            "
      ],
      "text/plain": [
       "<IPython.core.display.HTML object>"
      ]
     },
     "metadata": {},
     "output_type": "display_data"
    },
    {
     "name": "stdout",
     "output_type": "stream",
     "text": [
      "Export task started...\n"
     ]
    }
   ],
   "source": [
    "# Convert the image to Uint16 to standardize data types across all bands\n",
    "first_image = first_image.toUint16()\n",
    "\n",
    "# Exporting task to export the image to google drive cloud services\n",
    "task = ee.batch.Export.image.toDrive(\n",
    "    image=first_image,\n",
    "    description='Sentinel_Composite',\n",
    "    folder='EarthEngineImages',\n",
    "    scale=30,\n",
    "    region=area_of_interest\n",
    ")\n",
    "# This task runs asynchronously and we can monitor its progress on GEE.\n",
    "task.start()\n",
    "\n",
    "print(\"Export task started...\")\n"
   ]
  },
  {
   "cell_type": "code",
   "execution_count": null,
   "id": "cde58c16",
   "metadata": {},
   "outputs": [
    {
     "data": {
      "text/html": [
       "\n",
       "            <style>\n",
       "                .geemap-dark {\n",
       "                    --jp-widgets-color: white;\n",
       "                    --jp-widgets-label-color: white;\n",
       "                    --jp-ui-font-color1: white;\n",
       "                    --jp-layout-color2: #454545;\n",
       "                    background-color: #383838;\n",
       "                }\n",
       "\n",
       "                .geemap-dark .jupyter-button {\n",
       "                    --jp-layout-color3: #383838;\n",
       "                }\n",
       "\n",
       "                .geemap-colab {\n",
       "                    background-color: var(--colab-primary-surface-color, white);\n",
       "                }\n",
       "\n",
       "                .geemap-colab .jupyter-button {\n",
       "                    --jp-layout-color3: var(--colab-primary-surface-color, white);\n",
       "                }\n",
       "            </style>\n",
       "            "
      ],
      "text/plain": [
       "<IPython.core.display.HTML object>"
      ]
     },
     "metadata": {},
     "output_type": "display_data"
    },
    {
     "data": {
      "text/plain": [
       "{'state': 'COMPLETED',\n",
       " 'description': 'Sentinel_Composite',\n",
       " 'priority': 100,\n",
       " 'creation_timestamp_ms': 1731446018825,\n",
       " 'update_timestamp_ms': 1731446078877,\n",
       " 'start_timestamp_ms': 1731446022677,\n",
       " 'task_type': 'EXPORT_IMAGE',\n",
       " 'destination_uris': ['https://drive.google.com/#folders/17qUEKLpM_mjH69xbXNX_ivnMJV180FQ1'],\n",
       " 'attempt': 1,\n",
       " 'batch_eecu_usage_seconds': 8.076157569885254,\n",
       " 'id': 'E2QKZB6J7ROF5RLEPYDVQDLJ',\n",
       " 'name': 'projects/312891332570/operations/E2QKZB6J7ROF5RLEPYDVQDLJ'}"
      ]
     },
     "execution_count": 50,
     "metadata": {},
     "output_type": "execute_result"
    }
   ],
   "source": [
    "#Provides information wether the export is still in progress,completed, or failed.\n",
    "task.status()"
   ]
  }
 ],
 "metadata": {
  "kernelspec": {
   "display_name": "base",
   "language": "python",
   "name": "python3"
  },
  "language_info": {
   "codemirror_mode": {
    "name": "ipython",
    "version": 3
   },
   "file_extension": ".py",
   "mimetype": "text/x-python",
   "name": "python",
   "nbconvert_exporter": "python",
   "pygments_lexer": "ipython3",
   "version": "3.12.3"
  }
 },
 "nbformat": 4,
 "nbformat_minor": 5
}
