{
 "cells": [
  {
   "cell_type": "code",
   "execution_count": 1,
   "id": "6f169947-9446-4a84-8e49-a5f28cc56ebb",
   "metadata": {
    "scrolled": true
   },
   "outputs": [
    {
     "name": "stdout",
     "output_type": "stream",
     "text": [
      "Requirement already satisfied: geemap in c:\\users\\neo\\anaconda3\\lib\\site-packages (0.35.0)\n",
      "Requirement already satisfied: bqplot in c:\\users\\neo\\anaconda3\\lib\\site-packages (from geemap) (0.12.43)\n",
      "Requirement already satisfied: colour in c:\\users\\neo\\anaconda3\\lib\\site-packages (from geemap) (0.1.5)\n",
      "Requirement already satisfied: earthengine-api>=1.0.0 in c:\\users\\neo\\anaconda3\\lib\\site-packages (from geemap) (1.1.4)\n",
      "Requirement already satisfied: eerepr>=0.0.4 in c:\\users\\neo\\anaconda3\\lib\\site-packages (from geemap) (0.0.4)\n",
      "Requirement already satisfied: folium>=0.17.0 in c:\\users\\neo\\anaconda3\\lib\\site-packages (from geemap) (0.17.0)\n",
      "Requirement already satisfied: geocoder in c:\\users\\neo\\anaconda3\\lib\\site-packages (from geemap) (1.38.1)\n",
      "Requirement already satisfied: ipyevents in c:\\users\\neo\\anaconda3\\lib\\site-packages (from geemap) (2.0.2)\n",
      "Requirement already satisfied: ipyfilechooser>=0.6.0 in c:\\users\\neo\\anaconda3\\lib\\site-packages (from geemap) (0.6.0)\n",
      "Requirement already satisfied: ipyleaflet>=0.19.2 in c:\\users\\neo\\anaconda3\\lib\\site-packages (from geemap) (0.19.2)\n",
      "Requirement already satisfied: ipytree in c:\\users\\neo\\anaconda3\\lib\\site-packages (from geemap) (0.2.2)\n",
      "Requirement already satisfied: matplotlib in c:\\users\\neo\\anaconda3\\lib\\site-packages (from geemap) (3.8.4)\n",
      "Requirement already satisfied: numpy in c:\\users\\neo\\anaconda3\\lib\\site-packages (from geemap) (1.26.4)\n",
      "Requirement already satisfied: pandas in c:\\users\\neo\\anaconda3\\lib\\site-packages (from geemap) (2.2.2)\n",
      "Requirement already satisfied: plotly in c:\\users\\neo\\anaconda3\\lib\\site-packages (from geemap) (5.22.0)\n",
      "Requirement already satisfied: pyperclip in c:\\users\\neo\\anaconda3\\lib\\site-packages (from geemap) (1.9.0)\n",
      "Requirement already satisfied: pyshp>=2.3.1 in c:\\users\\neo\\anaconda3\\lib\\site-packages (from geemap) (2.3.1)\n",
      "Requirement already satisfied: python-box in c:\\users\\neo\\anaconda3\\lib\\site-packages (from geemap) (7.2.0)\n",
      "Requirement already satisfied: scooby in c:\\users\\neo\\anaconda3\\lib\\site-packages (from geemap) (0.10.0)\n",
      "Requirement already satisfied: google-cloud-storage in c:\\users\\neo\\anaconda3\\lib\\site-packages (from earthengine-api>=1.0.0->geemap) (2.18.2)\n",
      "Requirement already satisfied: google-api-python-client>=1.12.1 in c:\\users\\neo\\anaconda3\\lib\\site-packages (from earthengine-api>=1.0.0->geemap) (2.149.0)\n",
      "Requirement already satisfied: google-auth>=1.4.1 in c:\\users\\neo\\anaconda3\\lib\\site-packages (from earthengine-api>=1.0.0->geemap) (2.35.0)\n",
      "Requirement already satisfied: google-auth-httplib2>=0.0.3 in c:\\users\\neo\\anaconda3\\lib\\site-packages (from earthengine-api>=1.0.0->geemap) (0.2.0)\n",
      "Requirement already satisfied: httplib2<1dev,>=0.9.2 in c:\\users\\neo\\anaconda3\\lib\\site-packages (from earthengine-api>=1.0.0->geemap) (0.22.0)\n",
      "Requirement already satisfied: requests in c:\\users\\neo\\anaconda3\\lib\\site-packages (from earthengine-api>=1.0.0->geemap) (2.32.2)\n",
      "Requirement already satisfied: branca>=0.6.0 in c:\\users\\neo\\anaconda3\\lib\\site-packages (from folium>=0.17.0->geemap) (0.8.0)\n",
      "Requirement already satisfied: jinja2>=2.9 in c:\\users\\neo\\anaconda3\\lib\\site-packages (from folium>=0.17.0->geemap) (3.1.4)\n",
      "Requirement already satisfied: xyzservices in c:\\users\\neo\\anaconda3\\lib\\site-packages (from folium>=0.17.0->geemap) (2022.9.0)\n",
      "Requirement already satisfied: ipywidgets in c:\\users\\neo\\anaconda3\\lib\\site-packages (from ipyfilechooser>=0.6.0->geemap) (7.8.1)\n",
      "Requirement already satisfied: jupyter-leaflet<0.20,>=0.19 in c:\\users\\neo\\anaconda3\\lib\\site-packages (from ipyleaflet>=0.19.2->geemap) (0.19.2)\n",
      "Requirement already satisfied: traittypes<3,>=0.2.1 in c:\\users\\neo\\anaconda3\\lib\\site-packages (from ipyleaflet>=0.19.2->geemap) (0.2.1)\n",
      "Requirement already satisfied: traitlets>=4.3.0 in c:\\users\\neo\\anaconda3\\lib\\site-packages (from bqplot->geemap) (5.14.3)\n",
      "Requirement already satisfied: python-dateutil>=2.8.2 in c:\\users\\neo\\anaconda3\\lib\\site-packages (from pandas->geemap) (2.9.0.post0)\n",
      "Requirement already satisfied: pytz>=2020.1 in c:\\users\\neo\\anaconda3\\lib\\site-packages (from pandas->geemap) (2024.1)\n",
      "Requirement already satisfied: tzdata>=2022.7 in c:\\users\\neo\\anaconda3\\lib\\site-packages (from pandas->geemap) (2023.3)\n",
      "Requirement already satisfied: click in c:\\users\\neo\\anaconda3\\lib\\site-packages (from geocoder->geemap) (8.1.7)\n",
      "Requirement already satisfied: future in c:\\users\\neo\\anaconda3\\lib\\site-packages (from geocoder->geemap) (1.0.0)\n",
      "Requirement already satisfied: ratelim in c:\\users\\neo\\anaconda3\\lib\\site-packages (from geocoder->geemap) (0.1.6)\n",
      "Requirement already satisfied: six in c:\\users\\neo\\anaconda3\\lib\\site-packages (from geocoder->geemap) (1.16.0)\n",
      "Requirement already satisfied: contourpy>=1.0.1 in c:\\users\\neo\\anaconda3\\lib\\site-packages (from matplotlib->geemap) (1.2.0)\n",
      "Requirement already satisfied: cycler>=0.10 in c:\\users\\neo\\anaconda3\\lib\\site-packages (from matplotlib->geemap) (0.11.0)\n",
      "Requirement already satisfied: fonttools>=4.22.0 in c:\\users\\neo\\anaconda3\\lib\\site-packages (from matplotlib->geemap) (4.51.0)\n",
      "Requirement already satisfied: kiwisolver>=1.3.1 in c:\\users\\neo\\anaconda3\\lib\\site-packages (from matplotlib->geemap) (1.4.4)\n",
      "Requirement already satisfied: packaging>=20.0 in c:\\users\\neo\\anaconda3\\lib\\site-packages (from matplotlib->geemap) (23.2)\n",
      "Requirement already satisfied: pillow>=8 in c:\\users\\neo\\anaconda3\\lib\\site-packages (from matplotlib->geemap) (10.3.0)\n",
      "Requirement already satisfied: pyparsing>=2.3.1 in c:\\users\\neo\\anaconda3\\lib\\site-packages (from matplotlib->geemap) (3.0.9)\n",
      "Requirement already satisfied: tenacity>=6.2.0 in c:\\users\\neo\\anaconda3\\lib\\site-packages (from plotly->geemap) (8.2.2)\n",
      "Requirement already satisfied: google-api-core!=2.0.*,!=2.1.*,!=2.2.*,!=2.3.0,<3.0.0.dev0,>=1.31.5 in c:\\users\\neo\\anaconda3\\lib\\site-packages (from google-api-python-client>=1.12.1->earthengine-api>=1.0.0->geemap) (2.21.0)\n",
      "Requirement already satisfied: uritemplate<5,>=3.0.1 in c:\\users\\neo\\anaconda3\\lib\\site-packages (from google-api-python-client>=1.12.1->earthengine-api>=1.0.0->geemap) (4.1.1)\n",
      "Requirement already satisfied: cachetools<6.0,>=2.0.0 in c:\\users\\neo\\anaconda3\\lib\\site-packages (from google-auth>=1.4.1->earthengine-api>=1.0.0->geemap) (5.3.3)\n",
      "Requirement already satisfied: pyasn1-modules>=0.2.1 in c:\\users\\neo\\anaconda3\\lib\\site-packages (from google-auth>=1.4.1->earthengine-api>=1.0.0->geemap) (0.2.8)\n",
      "Requirement already satisfied: rsa<5,>=3.1.4 in c:\\users\\neo\\anaconda3\\lib\\site-packages (from google-auth>=1.4.1->earthengine-api>=1.0.0->geemap) (4.9)\n",
      "Requirement already satisfied: comm>=0.1.3 in c:\\users\\neo\\anaconda3\\lib\\site-packages (from ipywidgets->ipyfilechooser>=0.6.0->geemap) (0.2.1)\n",
      "Requirement already satisfied: ipython-genutils~=0.2.0 in c:\\users\\neo\\anaconda3\\lib\\site-packages (from ipywidgets->ipyfilechooser>=0.6.0->geemap) (0.2.0)\n",
      "Requirement already satisfied: widgetsnbextension~=3.6.6 in c:\\users\\neo\\anaconda3\\lib\\site-packages (from ipywidgets->ipyfilechooser>=0.6.0->geemap) (3.6.6)\n",
      "Requirement already satisfied: ipython>=4.0.0 in c:\\users\\neo\\anaconda3\\lib\\site-packages (from ipywidgets->ipyfilechooser>=0.6.0->geemap) (8.25.0)\n",
      "Requirement already satisfied: jupyterlab-widgets<3,>=1.0.0 in c:\\users\\neo\\anaconda3\\lib\\site-packages (from ipywidgets->ipyfilechooser>=0.6.0->geemap) (1.0.0)\n",
      "Requirement already satisfied: MarkupSafe>=2.0 in c:\\users\\neo\\anaconda3\\lib\\site-packages (from jinja2>=2.9->folium>=0.17.0->geemap) (2.1.3)\n",
      "Requirement already satisfied: colorama in c:\\users\\neo\\anaconda3\\lib\\site-packages (from click->geocoder->geemap) (0.4.6)\n",
      "Requirement already satisfied: google-cloud-core<3.0dev,>=2.3.0 in c:\\users\\neo\\anaconda3\\lib\\site-packages (from google-cloud-storage->earthengine-api>=1.0.0->geemap) (2.4.1)\n",
      "Requirement already satisfied: google-resumable-media>=2.7.2 in c:\\users\\neo\\anaconda3\\lib\\site-packages (from google-cloud-storage->earthengine-api>=1.0.0->geemap) (2.7.2)\n",
      "Requirement already satisfied: google-crc32c<2.0dev,>=1.0 in c:\\users\\neo\\anaconda3\\lib\\site-packages (from google-cloud-storage->earthengine-api>=1.0.0->geemap) (1.6.0)\n",
      "Requirement already satisfied: charset-normalizer<4,>=2 in c:\\users\\neo\\anaconda3\\lib\\site-packages (from requests->earthengine-api>=1.0.0->geemap) (2.0.4)\n",
      "Requirement already satisfied: idna<4,>=2.5 in c:\\users\\neo\\anaconda3\\lib\\site-packages (from requests->earthengine-api>=1.0.0->geemap) (3.7)\n",
      "Requirement already satisfied: urllib3<3,>=1.21.1 in c:\\users\\neo\\anaconda3\\lib\\site-packages (from requests->earthengine-api>=1.0.0->geemap) (2.2.2)\n",
      "Requirement already satisfied: certifi>=2017.4.17 in c:\\users\\neo\\anaconda3\\lib\\site-packages (from requests->earthengine-api>=1.0.0->geemap) (2024.8.30)\n",
      "Requirement already satisfied: decorator in c:\\users\\neo\\anaconda3\\lib\\site-packages (from ratelim->geocoder->geemap) (5.1.1)\n",
      "Requirement already satisfied: googleapis-common-protos<2.0.dev0,>=1.56.2 in c:\\users\\neo\\anaconda3\\lib\\site-packages (from google-api-core!=2.0.*,!=2.1.*,!=2.2.*,!=2.3.0,<3.0.0.dev0,>=1.31.5->google-api-python-client>=1.12.1->earthengine-api>=1.0.0->geemap) (1.65.0)\n",
      "Requirement already satisfied: protobuf!=3.20.0,!=3.20.1,!=4.21.0,!=4.21.1,!=4.21.2,!=4.21.3,!=4.21.4,!=4.21.5,<6.0.0.dev0,>=3.19.5 in c:\\users\\neo\\anaconda3\\lib\\site-packages (from google-api-core!=2.0.*,!=2.1.*,!=2.2.*,!=2.3.0,<3.0.0.dev0,>=1.31.5->google-api-python-client>=1.12.1->earthengine-api>=1.0.0->geemap) (3.20.3)\n",
      "Requirement already satisfied: proto-plus<2.0.0dev,>=1.22.3 in c:\\users\\neo\\anaconda3\\lib\\site-packages (from google-api-core!=2.0.*,!=2.1.*,!=2.2.*,!=2.3.0,<3.0.0.dev0,>=1.31.5->google-api-python-client>=1.12.1->earthengine-api>=1.0.0->geemap) (1.24.0)\n",
      "Requirement already satisfied: jedi>=0.16 in c:\\users\\neo\\anaconda3\\lib\\site-packages (from ipython>=4.0.0->ipywidgets->ipyfilechooser>=0.6.0->geemap) (0.18.1)\n",
      "Requirement already satisfied: matplotlib-inline in c:\\users\\neo\\anaconda3\\lib\\site-packages (from ipython>=4.0.0->ipywidgets->ipyfilechooser>=0.6.0->geemap) (0.1.6)\n",
      "Requirement already satisfied: prompt-toolkit<3.1.0,>=3.0.41 in c:\\users\\neo\\anaconda3\\lib\\site-packages (from ipython>=4.0.0->ipywidgets->ipyfilechooser>=0.6.0->geemap) (3.0.43)\n",
      "Requirement already satisfied: pygments>=2.4.0 in c:\\users\\neo\\anaconda3\\lib\\site-packages (from ipython>=4.0.0->ipywidgets->ipyfilechooser>=0.6.0->geemap) (2.15.1)\n",
      "Requirement already satisfied: stack-data in c:\\users\\neo\\anaconda3\\lib\\site-packages (from ipython>=4.0.0->ipywidgets->ipyfilechooser>=0.6.0->geemap) (0.2.0)\n",
      "Requirement already satisfied: pyasn1<0.5.0,>=0.4.6 in c:\\users\\neo\\anaconda3\\lib\\site-packages (from pyasn1-modules>=0.2.1->google-auth>=1.4.1->earthengine-api>=1.0.0->geemap) (0.4.8)\n",
      "Requirement already satisfied: notebook>=4.4.1 in c:\\users\\neo\\anaconda3\\lib\\site-packages (from widgetsnbextension~=3.6.6->ipywidgets->ipyfilechooser>=0.6.0->geemap) (7.0.8)\n",
      "Requirement already satisfied: parso<0.9.0,>=0.8.0 in c:\\users\\neo\\anaconda3\\lib\\site-packages (from jedi>=0.16->ipython>=4.0.0->ipywidgets->ipyfilechooser>=0.6.0->geemap) (0.8.3)\n",
      "Requirement already satisfied: jupyter-server<3,>=2.4.0 in c:\\users\\neo\\anaconda3\\lib\\site-packages (from notebook>=4.4.1->widgetsnbextension~=3.6.6->ipywidgets->ipyfilechooser>=0.6.0->geemap) (2.14.1)\n",
      "Requirement already satisfied: jupyterlab-server<3,>=2.22.1 in c:\\users\\neo\\anaconda3\\lib\\site-packages (from notebook>=4.4.1->widgetsnbextension~=3.6.6->ipywidgets->ipyfilechooser>=0.6.0->geemap) (2.25.1)\n",
      "Requirement already satisfied: jupyterlab<4.1,>=4.0.2 in c:\\users\\neo\\anaconda3\\lib\\site-packages (from notebook>=4.4.1->widgetsnbextension~=3.6.6->ipywidgets->ipyfilechooser>=0.6.0->geemap) (4.0.11)\n",
      "Requirement already satisfied: notebook-shim<0.3,>=0.2 in c:\\users\\neo\\anaconda3\\lib\\site-packages (from notebook>=4.4.1->widgetsnbextension~=3.6.6->ipywidgets->ipyfilechooser>=0.6.0->geemap) (0.2.3)\n",
      "Requirement already satisfied: tornado>=6.2.0 in c:\\users\\neo\\anaconda3\\lib\\site-packages (from notebook>=4.4.1->widgetsnbextension~=3.6.6->ipywidgets->ipyfilechooser>=0.6.0->geemap) (6.4.1)\n",
      "Requirement already satisfied: wcwidth in c:\\users\\neo\\anaconda3\\lib\\site-packages (from prompt-toolkit<3.1.0,>=3.0.41->ipython>=4.0.0->ipywidgets->ipyfilechooser>=0.6.0->geemap) (0.2.5)\n",
      "Requirement already satisfied: executing in c:\\users\\neo\\anaconda3\\lib\\site-packages (from stack-data->ipython>=4.0.0->ipywidgets->ipyfilechooser>=0.6.0->geemap) (0.8.3)\n",
      "Requirement already satisfied: asttokens in c:\\users\\neo\\anaconda3\\lib\\site-packages (from stack-data->ipython>=4.0.0->ipywidgets->ipyfilechooser>=0.6.0->geemap) (2.0.5)\n",
      "Requirement already satisfied: pure-eval in c:\\users\\neo\\anaconda3\\lib\\site-packages (from stack-data->ipython>=4.0.0->ipywidgets->ipyfilechooser>=0.6.0->geemap) (0.2.2)\n",
      "Requirement already satisfied: anyio>=3.1.0 in c:\\users\\neo\\anaconda3\\lib\\site-packages (from jupyter-server<3,>=2.4.0->notebook>=4.4.1->widgetsnbextension~=3.6.6->ipywidgets->ipyfilechooser>=0.6.0->geemap) (4.2.0)\n",
      "Requirement already satisfied: argon2-cffi>=21.1 in c:\\users\\neo\\anaconda3\\lib\\site-packages (from jupyter-server<3,>=2.4.0->notebook>=4.4.1->widgetsnbextension~=3.6.6->ipywidgets->ipyfilechooser>=0.6.0->geemap) (21.3.0)\n",
      "Requirement already satisfied: jupyter-client>=7.4.4 in c:\\users\\neo\\anaconda3\\lib\\site-packages (from jupyter-server<3,>=2.4.0->notebook>=4.4.1->widgetsnbextension~=3.6.6->ipywidgets->ipyfilechooser>=0.6.0->geemap) (8.6.0)\n",
      "Requirement already satisfied: jupyter-core!=5.0.*,>=4.12 in c:\\users\\neo\\anaconda3\\lib\\site-packages (from jupyter-server<3,>=2.4.0->notebook>=4.4.1->widgetsnbextension~=3.6.6->ipywidgets->ipyfilechooser>=0.6.0->geemap) (5.7.2)\n",
      "Requirement already satisfied: jupyter-events>=0.9.0 in c:\\users\\neo\\anaconda3\\lib\\site-packages (from jupyter-server<3,>=2.4.0->notebook>=4.4.1->widgetsnbextension~=3.6.6->ipywidgets->ipyfilechooser>=0.6.0->geemap) (0.10.0)\n",
      "Requirement already satisfied: jupyter-server-terminals>=0.4.4 in c:\\users\\neo\\anaconda3\\lib\\site-packages (from jupyter-server<3,>=2.4.0->notebook>=4.4.1->widgetsnbextension~=3.6.6->ipywidgets->ipyfilechooser>=0.6.0->geemap) (0.4.4)\n",
      "Requirement already satisfied: nbconvert>=6.4.4 in c:\\users\\neo\\anaconda3\\lib\\site-packages (from jupyter-server<3,>=2.4.0->notebook>=4.4.1->widgetsnbextension~=3.6.6->ipywidgets->ipyfilechooser>=0.6.0->geemap) (7.10.0)\n",
      "Requirement already satisfied: nbformat>=5.3.0 in c:\\users\\neo\\anaconda3\\lib\\site-packages (from jupyter-server<3,>=2.4.0->notebook>=4.4.1->widgetsnbextension~=3.6.6->ipywidgets->ipyfilechooser>=0.6.0->geemap) (5.9.2)\n",
      "Requirement already satisfied: overrides>=5.0 in c:\\users\\neo\\anaconda3\\lib\\site-packages (from jupyter-server<3,>=2.4.0->notebook>=4.4.1->widgetsnbextension~=3.6.6->ipywidgets->ipyfilechooser>=0.6.0->geemap) (7.4.0)\n",
      "Requirement already satisfied: prometheus-client>=0.9 in c:\\users\\neo\\anaconda3\\lib\\site-packages (from jupyter-server<3,>=2.4.0->notebook>=4.4.1->widgetsnbextension~=3.6.6->ipywidgets->ipyfilechooser>=0.6.0->geemap) (0.14.1)\n",
      "Requirement already satisfied: pywinpty>=2.0.1 in c:\\users\\neo\\anaconda3\\lib\\site-packages (from jupyter-server<3,>=2.4.0->notebook>=4.4.1->widgetsnbextension~=3.6.6->ipywidgets->ipyfilechooser>=0.6.0->geemap) (2.0.10)\n",
      "Requirement already satisfied: pyzmq>=24 in c:\\users\\neo\\anaconda3\\lib\\site-packages (from jupyter-server<3,>=2.4.0->notebook>=4.4.1->widgetsnbextension~=3.6.6->ipywidgets->ipyfilechooser>=0.6.0->geemap) (25.1.2)\n",
      "Requirement already satisfied: send2trash>=1.8.2 in c:\\users\\neo\\anaconda3\\lib\\site-packages (from jupyter-server<3,>=2.4.0->notebook>=4.4.1->widgetsnbextension~=3.6.6->ipywidgets->ipyfilechooser>=0.6.0->geemap) (1.8.2)\n",
      "Requirement already satisfied: terminado>=0.8.3 in c:\\users\\neo\\anaconda3\\lib\\site-packages (from jupyter-server<3,>=2.4.0->notebook>=4.4.1->widgetsnbextension~=3.6.6->ipywidgets->ipyfilechooser>=0.6.0->geemap) (0.17.1)\n",
      "Requirement already satisfied: websocket-client>=1.7 in c:\\users\\neo\\anaconda3\\lib\\site-packages (from jupyter-server<3,>=2.4.0->notebook>=4.4.1->widgetsnbextension~=3.6.6->ipywidgets->ipyfilechooser>=0.6.0->geemap) (1.8.0)\n",
      "Requirement already satisfied: async-lru>=1.0.0 in c:\\users\\neo\\anaconda3\\lib\\site-packages (from jupyterlab<4.1,>=4.0.2->notebook>=4.4.1->widgetsnbextension~=3.6.6->ipywidgets->ipyfilechooser>=0.6.0->geemap) (2.0.4)\n",
      "Requirement already satisfied: ipykernel in c:\\users\\neo\\anaconda3\\lib\\site-packages (from jupyterlab<4.1,>=4.0.2->notebook>=4.4.1->widgetsnbextension~=3.6.6->ipywidgets->ipyfilechooser>=0.6.0->geemap) (6.28.0)\n",
      "Requirement already satisfied: jupyter-lsp>=2.0.0 in c:\\users\\neo\\anaconda3\\lib\\site-packages (from jupyterlab<4.1,>=4.0.2->notebook>=4.4.1->widgetsnbextension~=3.6.6->ipywidgets->ipyfilechooser>=0.6.0->geemap) (2.2.0)\n",
      "Requirement already satisfied: babel>=2.10 in c:\\users\\neo\\anaconda3\\lib\\site-packages (from jupyterlab-server<3,>=2.22.1->notebook>=4.4.1->widgetsnbextension~=3.6.6->ipywidgets->ipyfilechooser>=0.6.0->geemap) (2.11.0)\n",
      "Requirement already satisfied: json5>=0.9.0 in c:\\users\\neo\\anaconda3\\lib\\site-packages (from jupyterlab-server<3,>=2.22.1->notebook>=4.4.1->widgetsnbextension~=3.6.6->ipywidgets->ipyfilechooser>=0.6.0->geemap) (0.9.6)\n",
      "Requirement already satisfied: jsonschema>=4.18.0 in c:\\users\\neo\\anaconda3\\lib\\site-packages (from jupyterlab-server<3,>=2.22.1->notebook>=4.4.1->widgetsnbextension~=3.6.6->ipywidgets->ipyfilechooser>=0.6.0->geemap) (4.19.2)\n",
      "Requirement already satisfied: sniffio>=1.1 in c:\\users\\neo\\anaconda3\\lib\\site-packages (from anyio>=3.1.0->jupyter-server<3,>=2.4.0->notebook>=4.4.1->widgetsnbextension~=3.6.6->ipywidgets->ipyfilechooser>=0.6.0->geemap) (1.3.0)\n",
      "Requirement already satisfied: argon2-cffi-bindings in c:\\users\\neo\\anaconda3\\lib\\site-packages (from argon2-cffi>=21.1->jupyter-server<3,>=2.4.0->notebook>=4.4.1->widgetsnbextension~=3.6.6->ipywidgets->ipyfilechooser>=0.6.0->geemap) (21.2.0)\n",
      "Requirement already satisfied: attrs>=22.2.0 in c:\\users\\neo\\anaconda3\\lib\\site-packages (from jsonschema>=4.18.0->jupyterlab-server<3,>=2.22.1->notebook>=4.4.1->widgetsnbextension~=3.6.6->ipywidgets->ipyfilechooser>=0.6.0->geemap) (23.1.0)\n",
      "Requirement already satisfied: jsonschema-specifications>=2023.03.6 in c:\\users\\neo\\anaconda3\\lib\\site-packages (from jsonschema>=4.18.0->jupyterlab-server<3,>=2.22.1->notebook>=4.4.1->widgetsnbextension~=3.6.6->ipywidgets->ipyfilechooser>=0.6.0->geemap) (2023.7.1)\n",
      "Requirement already satisfied: referencing>=0.28.4 in c:\\users\\neo\\anaconda3\\lib\\site-packages (from jsonschema>=4.18.0->jupyterlab-server<3,>=2.22.1->notebook>=4.4.1->widgetsnbextension~=3.6.6->ipywidgets->ipyfilechooser>=0.6.0->geemap) (0.30.2)\n",
      "Requirement already satisfied: rpds-py>=0.7.1 in c:\\users\\neo\\anaconda3\\lib\\site-packages (from jsonschema>=4.18.0->jupyterlab-server<3,>=2.22.1->notebook>=4.4.1->widgetsnbextension~=3.6.6->ipywidgets->ipyfilechooser>=0.6.0->geemap) (0.10.6)\n",
      "Requirement already satisfied: platformdirs>=2.5 in c:\\users\\neo\\anaconda3\\lib\\site-packages (from jupyter-core!=5.0.*,>=4.12->jupyter-server<3,>=2.4.0->notebook>=4.4.1->widgetsnbextension~=3.6.6->ipywidgets->ipyfilechooser>=0.6.0->geemap) (3.10.0)\n",
      "Requirement already satisfied: pywin32>=300 in c:\\users\\neo\\anaconda3\\lib\\site-packages (from jupyter-core!=5.0.*,>=4.12->jupyter-server<3,>=2.4.0->notebook>=4.4.1->widgetsnbextension~=3.6.6->ipywidgets->ipyfilechooser>=0.6.0->geemap) (305.1)\n",
      "Requirement already satisfied: python-json-logger>=2.0.4 in c:\\users\\neo\\anaconda3\\lib\\site-packages (from jupyter-events>=0.9.0->jupyter-server<3,>=2.4.0->notebook>=4.4.1->widgetsnbextension~=3.6.6->ipywidgets->ipyfilechooser>=0.6.0->geemap) (2.0.7)\n",
      "Requirement already satisfied: pyyaml>=5.3 in c:\\users\\neo\\anaconda3\\lib\\site-packages (from jupyter-events>=0.9.0->jupyter-server<3,>=2.4.0->notebook>=4.4.1->widgetsnbextension~=3.6.6->ipywidgets->ipyfilechooser>=0.6.0->geemap) (6.0.1)\n",
      "Requirement already satisfied: rfc3339-validator in c:\\users\\neo\\anaconda3\\lib\\site-packages (from jupyter-events>=0.9.0->jupyter-server<3,>=2.4.0->notebook>=4.4.1->widgetsnbextension~=3.6.6->ipywidgets->ipyfilechooser>=0.6.0->geemap) (0.1.4)\n",
      "Requirement already satisfied: rfc3986-validator>=0.1.1 in c:\\users\\neo\\anaconda3\\lib\\site-packages (from jupyter-events>=0.9.0->jupyter-server<3,>=2.4.0->notebook>=4.4.1->widgetsnbextension~=3.6.6->ipywidgets->ipyfilechooser>=0.6.0->geemap) (0.1.1)\n",
      "Requirement already satisfied: beautifulsoup4 in c:\\users\\neo\\anaconda3\\lib\\site-packages (from nbconvert>=6.4.4->jupyter-server<3,>=2.4.0->notebook>=4.4.1->widgetsnbextension~=3.6.6->ipywidgets->ipyfilechooser>=0.6.0->geemap) (4.12.3)\n",
      "Requirement already satisfied: bleach!=5.0.0 in c:\\users\\neo\\anaconda3\\lib\\site-packages (from nbconvert>=6.4.4->jupyter-server<3,>=2.4.0->notebook>=4.4.1->widgetsnbextension~=3.6.6->ipywidgets->ipyfilechooser>=0.6.0->geemap) (4.1.0)\n",
      "Requirement already satisfied: defusedxml in c:\\users\\neo\\anaconda3\\lib\\site-packages (from nbconvert>=6.4.4->jupyter-server<3,>=2.4.0->notebook>=4.4.1->widgetsnbextension~=3.6.6->ipywidgets->ipyfilechooser>=0.6.0->geemap) (0.7.1)\n",
      "Requirement already satisfied: jupyterlab-pygments in c:\\users\\neo\\anaconda3\\lib\\site-packages (from nbconvert>=6.4.4->jupyter-server<3,>=2.4.0->notebook>=4.4.1->widgetsnbextension~=3.6.6->ipywidgets->ipyfilechooser>=0.6.0->geemap) (0.1.2)\n",
      "Requirement already satisfied: mistune<4,>=2.0.3 in c:\\users\\neo\\anaconda3\\lib\\site-packages (from nbconvert>=6.4.4->jupyter-server<3,>=2.4.0->notebook>=4.4.1->widgetsnbextension~=3.6.6->ipywidgets->ipyfilechooser>=0.6.0->geemap) (2.0.4)\n",
      "Requirement already satisfied: nbclient>=0.5.0 in c:\\users\\neo\\anaconda3\\lib\\site-packages (from nbconvert>=6.4.4->jupyter-server<3,>=2.4.0->notebook>=4.4.1->widgetsnbextension~=3.6.6->ipywidgets->ipyfilechooser>=0.6.0->geemap) (0.8.0)\n",
      "Requirement already satisfied: pandocfilters>=1.4.1 in c:\\users\\neo\\anaconda3\\lib\\site-packages (from nbconvert>=6.4.4->jupyter-server<3,>=2.4.0->notebook>=4.4.1->widgetsnbextension~=3.6.6->ipywidgets->ipyfilechooser>=0.6.0->geemap) (1.5.0)\n",
      "Requirement already satisfied: tinycss2 in c:\\users\\neo\\anaconda3\\lib\\site-packages (from nbconvert>=6.4.4->jupyter-server<3,>=2.4.0->notebook>=4.4.1->widgetsnbextension~=3.6.6->ipywidgets->ipyfilechooser>=0.6.0->geemap) (1.2.1)\n",
      "Requirement already satisfied: fastjsonschema in c:\\users\\neo\\anaconda3\\lib\\site-packages (from nbformat>=5.3.0->jupyter-server<3,>=2.4.0->notebook>=4.4.1->widgetsnbextension~=3.6.6->ipywidgets->ipyfilechooser>=0.6.0->geemap) (2.16.2)\n",
      "Requirement already satisfied: debugpy>=1.6.5 in c:\\users\\neo\\anaconda3\\lib\\site-packages (from ipykernel->jupyterlab<4.1,>=4.0.2->notebook>=4.4.1->widgetsnbextension~=3.6.6->ipywidgets->ipyfilechooser>=0.6.0->geemap) (1.6.7)\n",
      "Requirement already satisfied: nest-asyncio in c:\\users\\neo\\anaconda3\\lib\\site-packages (from ipykernel->jupyterlab<4.1,>=4.0.2->notebook>=4.4.1->widgetsnbextension~=3.6.6->ipywidgets->ipyfilechooser>=0.6.0->geemap) (1.6.0)\n",
      "Requirement already satisfied: psutil in c:\\users\\neo\\anaconda3\\lib\\site-packages (from ipykernel->jupyterlab<4.1,>=4.0.2->notebook>=4.4.1->widgetsnbextension~=3.6.6->ipywidgets->ipyfilechooser>=0.6.0->geemap) (5.9.0)\n",
      "Requirement already satisfied: webencodings in c:\\users\\neo\\anaconda3\\lib\\site-packages (from bleach!=5.0.0->nbconvert>=6.4.4->jupyter-server<3,>=2.4.0->notebook>=4.4.1->widgetsnbextension~=3.6.6->ipywidgets->ipyfilechooser>=0.6.0->geemap) (0.5.1)\n",
      "Requirement already satisfied: fqdn in c:\\users\\neo\\anaconda3\\lib\\site-packages (from jsonschema[format-nongpl]>=4.18.0->jupyter-events>=0.9.0->jupyter-server<3,>=2.4.0->notebook>=4.4.1->widgetsnbextension~=3.6.6->ipywidgets->ipyfilechooser>=0.6.0->geemap) (1.5.1)\n",
      "Requirement already satisfied: isoduration in c:\\users\\neo\\anaconda3\\lib\\site-packages (from jsonschema[format-nongpl]>=4.18.0->jupyter-events>=0.9.0->jupyter-server<3,>=2.4.0->notebook>=4.4.1->widgetsnbextension~=3.6.6->ipywidgets->ipyfilechooser>=0.6.0->geemap) (20.11.0)\n",
      "Requirement already satisfied: jsonpointer>1.13 in c:\\users\\neo\\anaconda3\\lib\\site-packages (from jsonschema[format-nongpl]>=4.18.0->jupyter-events>=0.9.0->jupyter-server<3,>=2.4.0->notebook>=4.4.1->widgetsnbextension~=3.6.6->ipywidgets->ipyfilechooser>=0.6.0->geemap) (2.1)\n",
      "Requirement already satisfied: uri-template in c:\\users\\neo\\anaconda3\\lib\\site-packages (from jsonschema[format-nongpl]>=4.18.0->jupyter-events>=0.9.0->jupyter-server<3,>=2.4.0->notebook>=4.4.1->widgetsnbextension~=3.6.6->ipywidgets->ipyfilechooser>=0.6.0->geemap) (1.3.0)\n",
      "Requirement already satisfied: webcolors>=1.11 in c:\\users\\neo\\anaconda3\\lib\\site-packages (from jsonschema[format-nongpl]>=4.18.0->jupyter-events>=0.9.0->jupyter-server<3,>=2.4.0->notebook>=4.4.1->widgetsnbextension~=3.6.6->ipywidgets->ipyfilechooser>=0.6.0->geemap) (24.8.0)\n",
      "Requirement already satisfied: cffi>=1.0.1 in c:\\users\\neo\\anaconda3\\lib\\site-packages (from argon2-cffi-bindings->argon2-cffi>=21.1->jupyter-server<3,>=2.4.0->notebook>=4.4.1->widgetsnbextension~=3.6.6->ipywidgets->ipyfilechooser>=0.6.0->geemap) (1.16.0)\n",
      "Requirement already satisfied: soupsieve>1.2 in c:\\users\\neo\\anaconda3\\lib\\site-packages (from beautifulsoup4->nbconvert>=6.4.4->jupyter-server<3,>=2.4.0->notebook>=4.4.1->widgetsnbextension~=3.6.6->ipywidgets->ipyfilechooser>=0.6.0->geemap) (2.5)\n",
      "Requirement already satisfied: pycparser in c:\\users\\neo\\anaconda3\\lib\\site-packages (from cffi>=1.0.1->argon2-cffi-bindings->argon2-cffi>=21.1->jupyter-server<3,>=2.4.0->notebook>=4.4.1->widgetsnbextension~=3.6.6->ipywidgets->ipyfilechooser>=0.6.0->geemap) (2.21)\n",
      "Requirement already satisfied: arrow>=0.15.0 in c:\\users\\neo\\anaconda3\\lib\\site-packages (from isoduration->jsonschema[format-nongpl]>=4.18.0->jupyter-events>=0.9.0->jupyter-server<3,>=2.4.0->notebook>=4.4.1->widgetsnbextension~=3.6.6->ipywidgets->ipyfilechooser>=0.6.0->geemap) (1.2.3)\n"
     ]
    }
   ],
   "source": [
    "%pip install geemap"
   ]
  },
  {
   "cell_type": "code",
   "execution_count": 2,
   "id": "cd4aa6cf-31e4-43d9-a54f-86797e97a4ea",
   "metadata": {},
   "outputs": [],
   "source": [
    "import geemap"
   ]
  },
  {
   "cell_type": "code",
   "execution_count": 3,
   "id": "c76e8ce6-9ad3-49f6-a1cb-cd7af7d869be",
   "metadata": {},
   "outputs": [
    {
     "data": {
      "text/html": [
       "\n",
       "            <style>\n",
       "                .geemap-dark {\n",
       "                    --jp-widgets-color: white;\n",
       "                    --jp-widgets-label-color: white;\n",
       "                    --jp-ui-font-color1: white;\n",
       "                    --jp-layout-color2: #454545;\n",
       "                    background-color: #383838;\n",
       "                }\n",
       "\n",
       "                .geemap-dark .jupyter-button {\n",
       "                    --jp-layout-color3: #383838;\n",
       "                }\n",
       "\n",
       "                .geemap-colab {\n",
       "                    background-color: var(--colab-primary-surface-color, white);\n",
       "                }\n",
       "\n",
       "                .geemap-colab .jupyter-button {\n",
       "                    --jp-layout-color3: var(--colab-primary-surface-color, white);\n",
       "                }\n",
       "            </style>\n",
       "            "
      ],
      "text/plain": [
       "<IPython.core.display.HTML object>"
      ]
     },
     "metadata": {},
     "output_type": "display_data"
    }
   ],
   "source": [
    "Map = geemap.Map()"
   ]
  },
  {
   "cell_type": "code",
   "execution_count": 4,
   "id": "9860fd7b-824b-4f66-836f-933f0204c55c",
   "metadata": {},
   "outputs": [
    {
     "data": {
      "text/html": [
       "\n",
       "            <style>\n",
       "                .geemap-dark {\n",
       "                    --jp-widgets-color: white;\n",
       "                    --jp-widgets-label-color: white;\n",
       "                    --jp-ui-font-color1: white;\n",
       "                    --jp-layout-color2: #454545;\n",
       "                    background-color: #383838;\n",
       "                }\n",
       "\n",
       "                .geemap-dark .jupyter-button {\n",
       "                    --jp-layout-color3: #383838;\n",
       "                }\n",
       "\n",
       "                .geemap-colab {\n",
       "                    background-color: var(--colab-primary-surface-color, white);\n",
       "                }\n",
       "\n",
       "                .geemap-colab .jupyter-button {\n",
       "                    --jp-layout-color3: var(--colab-primary-surface-color, white);\n",
       "                }\n",
       "            </style>\n",
       "            "
      ],
      "text/plain": [
       "<IPython.core.display.HTML object>"
      ]
     },
     "metadata": {},
     "output_type": "display_data"
    },
    {
     "data": {
      "application/vnd.jupyter.widget-view+json": {
       "model_id": "5e2f77524f394d70a3751602be21c6be",
       "version_major": 2,
       "version_minor": 0
      },
      "text/plain": [
       "Map(center=[0, 0], controls=(WidgetControl(options=['position', 'transparent_bg'], widget=SearchDataGUI(childr…"
      ]
     },
     "metadata": {},
     "output_type": "display_data"
    }
   ],
   "source": [
    "Map"
   ]
  },
  {
   "cell_type": "code",
   "execution_count": 5,
   "id": "b80ab58c-1402-41ec-b29c-fc5a7b14795d",
   "metadata": {},
   "outputs": [
    {
     "data": {
      "text/html": [
       "\n",
       "            <style>\n",
       "                .geemap-dark {\n",
       "                    --jp-widgets-color: white;\n",
       "                    --jp-widgets-label-color: white;\n",
       "                    --jp-ui-font-color1: white;\n",
       "                    --jp-layout-color2: #454545;\n",
       "                    background-color: #383838;\n",
       "                }\n",
       "\n",
       "                .geemap-dark .jupyter-button {\n",
       "                    --jp-layout-color3: #383838;\n",
       "                }\n",
       "\n",
       "                .geemap-colab {\n",
       "                    background-color: var(--colab-primary-surface-color, white);\n",
       "                }\n",
       "\n",
       "                .geemap-colab .jupyter-button {\n",
       "                    --jp-layout-color3: var(--colab-primary-surface-color, white);\n",
       "                }\n",
       "            </style>\n",
       "            "
      ],
      "text/plain": [
       "<IPython.core.display.HTML object>"
      ]
     },
     "metadata": {},
     "output_type": "display_data"
    }
   ],
   "source": [
    "import ee\n"
   ]
  },
  {
   "cell_type": "code",
   "execution_count": 6,
   "id": "eb68338f-0a3a-4a6a-b6e4-66b2a16c0cb0",
   "metadata": {},
   "outputs": [
    {
     "data": {
      "text/html": [
       "\n",
       "            <style>\n",
       "                .geemap-dark {\n",
       "                    --jp-widgets-color: white;\n",
       "                    --jp-widgets-label-color: white;\n",
       "                    --jp-ui-font-color1: white;\n",
       "                    --jp-layout-color2: #454545;\n",
       "                    background-color: #383838;\n",
       "                }\n",
       "\n",
       "                .geemap-dark .jupyter-button {\n",
       "                    --jp-layout-color3: #383838;\n",
       "                }\n",
       "\n",
       "                .geemap-colab {\n",
       "                    background-color: var(--colab-primary-surface-color, white);\n",
       "                }\n",
       "\n",
       "                .geemap-colab .jupyter-button {\n",
       "                    --jp-layout-color3: var(--colab-primary-surface-color, white);\n",
       "                }\n",
       "            </style>\n",
       "            "
      ],
      "text/plain": [
       "<IPython.core.display.HTML object>"
      ]
     },
     "metadata": {},
     "output_type": "display_data"
    },
    {
     "data": {
      "text/plain": [
       "True"
      ]
     },
     "execution_count": 6,
     "metadata": {},
     "output_type": "execute_result"
    }
   ],
   "source": [
    "ee.Authenticate()"
   ]
  },
  {
   "cell_type": "code",
   "execution_count": 7,
   "id": "b9bab4ab-2d18-45f8-a3c7-9b90ae12a93d",
   "metadata": {},
   "outputs": [
    {
     "data": {
      "text/html": [
       "\n",
       "            <style>\n",
       "                .geemap-dark {\n",
       "                    --jp-widgets-color: white;\n",
       "                    --jp-widgets-label-color: white;\n",
       "                    --jp-ui-font-color1: white;\n",
       "                    --jp-layout-color2: #454545;\n",
       "                    background-color: #383838;\n",
       "                }\n",
       "\n",
       "                .geemap-dark .jupyter-button {\n",
       "                    --jp-layout-color3: #383838;\n",
       "                }\n",
       "\n",
       "                .geemap-colab {\n",
       "                    background-color: var(--colab-primary-surface-color, white);\n",
       "                }\n",
       "\n",
       "                .geemap-colab .jupyter-button {\n",
       "                    --jp-layout-color3: var(--colab-primary-surface-color, white);\n",
       "                }\n",
       "            </style>\n",
       "            "
      ],
      "text/plain": [
       "<IPython.core.display.HTML object>"
      ]
     },
     "metadata": {},
     "output_type": "display_data"
    }
   ],
   "source": [
    "ee.Initialize()\n"
   ]
  },
  {
   "cell_type": "code",
   "execution_count": 8,
   "id": "7b7132cb-50f7-40ac-92f8-d5afeaa689b6",
   "metadata": {},
   "outputs": [
    {
     "data": {
      "text/html": [
       "\n",
       "            <style>\n",
       "                .geemap-dark {\n",
       "                    --jp-widgets-color: white;\n",
       "                    --jp-widgets-label-color: white;\n",
       "                    --jp-ui-font-color1: white;\n",
       "                    --jp-layout-color2: #454545;\n",
       "                    background-color: #383838;\n",
       "                }\n",
       "\n",
       "                .geemap-dark .jupyter-button {\n",
       "                    --jp-layout-color3: #383838;\n",
       "                }\n",
       "\n",
       "                .geemap-colab {\n",
       "                    background-color: var(--colab-primary-surface-color, white);\n",
       "                }\n",
       "\n",
       "                .geemap-colab .jupyter-button {\n",
       "                    --jp-layout-color3: var(--colab-primary-surface-color, white);\n",
       "                }\n",
       "            </style>\n",
       "            "
      ],
      "text/plain": [
       "<IPython.core.display.HTML object>"
      ]
     },
     "metadata": {},
     "output_type": "display_data"
    },
    {
     "ename": "AttributeError",
     "evalue": "'str' object has no attribute 'filterBounds'",
     "output_type": "error",
     "traceback": [
      "\u001b[1;31m---------------------------------------------------------------------------\u001b[0m",
      "\u001b[1;31mAttributeError\u001b[0m                            Traceback (most recent call last)",
      "Cell \u001b[1;32mIn[8], line 17\u001b[0m\n\u001b[0;32m     13\u001b[0m end_date \u001b[38;5;241m=\u001b[39m \u001b[38;5;124m'\u001b[39m\u001b[38;5;124m2023-12-31\u001b[39m\u001b[38;5;124m'\u001b[39m\n\u001b[0;32m     15\u001b[0m \u001b[38;5;66;03m# Fetch Landsat 8 images for the defined area and time range\u001b[39;00m\n\u001b[0;32m     16\u001b[0m landsat_collection \u001b[38;5;241m=\u001b[39m (\u001b[38;5;124m'\u001b[39m\u001b[38;5;124mLANDSAT/LC08/C02/T1_L2\u001b[39m\u001b[38;5;124m'\u001b[39m) \\\n\u001b[1;32m---> 17\u001b[0m                      \u001b[38;5;241m.\u001b[39mfilterBounds(area_of_interest) \\\n\u001b[0;32m     18\u001b[0m                      \u001b[38;5;241m.\u001b[39mfilterDate(start_date, end_date) \\\n\u001b[0;32m     19\u001b[0m                      \u001b[38;5;241m.\u001b[39mfilterMetadata(\u001b[38;5;124m'\u001b[39m\u001b[38;5;124mCLOUD_COVER\u001b[39m\u001b[38;5;124m'\u001b[39m, \u001b[38;5;124m'\u001b[39m\u001b[38;5;124mless_than\u001b[39m\u001b[38;5;124m'\u001b[39m, \u001b[38;5;241m20\u001b[39m)\n\u001b[0;32m     21\u001b[0m \u001b[38;5;66;03m# Get the first image from the collection\u001b[39;00m\n\u001b[0;32m     22\u001b[0m first_image \u001b[38;5;241m=\u001b[39m landsat_collection\u001b[38;5;241m.\u001b[39mfirst()\n",
      "\u001b[1;31mAttributeError\u001b[0m: 'str' object has no attribute 'filterBounds'"
     ]
    }
   ],
   "source": [
    "import ee\n",
    "import datetime\n",
    "\n",
    "# Initialize the Earth Engine API\n",
    "ee.Initialize()\n",
    "\n",
    "# Define the area of interest (latitude, longitude, and buffer)\n",
    "point = ee.Geometry.Point([-22.105617279590938, 51.898232058011594])\n",
    "area_of_interest = point.buffer(5000)  # 5km buffer\n",
    "\n",
    "# Define time range (start and end date)\n",
    "start_date = '2015-01-01'\n",
    "end_date = '2023-12-31'\n",
    "\n",
    "# Fetch Landsat 8 images for the defined area and time range\n",
    "landsat_collection = ('LANDSAT/LC08/C02/T1_L2') \\\n",
    "                     .filterBounds(area_of_interest) \\\n",
    "                     .filterDate(start_date, end_date) \\\n",
    "                     .filterMetadata('CLOUD_COVER', 'less_than', 20)\n",
    "\n",
    "# Get the first image from the collection\n",
    "first_image = landsat_collection.first()\n",
    "\n",
    "# Print image information\n",
    "print(first_image.getInfo())\n",
    "\n",
    "# Export the image to Google Drive (you'll need to have Google Drive connected)\n",
    "task = ee.batch.Export.image.toDrive(\n",
    "    image=first_image,\n",
    "    description='Landsat_image',\n",
    "    folder='EarthEngineImages',\n",
    "    scale=30,\n",
    "    region=area_of_interest\n",
    ")\n",
    "task.start()\n",
    "\n",
    "print(\"Image export task started...\")\n"
   ]
  }
 ],
 "metadata": {
  "kernelspec": {
   "display_name": "Python 3",
   "language": "python",
   "name": "python3"
  },
  "language_info": {
   "codemirror_mode": {
    "name": "ipython",
    "version": 3
   },
   "file_extension": ".py",
   "mimetype": "text/x-python",
   "name": "python",
   "nbconvert_exporter": "python",
   "pygments_lexer": "ipython3",
   "version": "3.12.4"
  }
 },
 "nbformat": 4,
 "nbformat_minor": 5
}
