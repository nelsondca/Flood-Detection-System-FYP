{
 "cells": [
  {
   "cell_type": "markdown",
   "id": "c5ae01eb",
   "metadata": {},
   "source": [
    "# Chapter 1: Introduction\n",
    "\n",
    "## 1.1 Overview\n",
    "This project aims to perform flood detection using Sentinel-1 SAR imagery and Google Earth Engine (GEE). The area of interest (AOI) is Cork, Ireland, which experienced significant flooding in 2023.\n",
    "\n",
    "## 1.2 Objectives\n",
    "- Set up the environment and initialize Google Earth Engine.\n",
    "- Define the Area of Interest (AOI) and fetch satellite images.\n",
    "- Process and visualize the data to detect changes in water-covered areas.\n",
    "- Export the processed images for further analysis.\n"
   ]
  },
  {
   "cell_type": "markdown",
   "id": "f0cb609c",
   "metadata": {},
   "source": [
    "# Chapter 2: Setting Up the Environment\n",
    "\n",
    "## 2.1 Importing Libraries & Starting Earth Engine\n",
    "In this phase, we are setting up Google Earth Engine to fetch and process satellite images for a specific area and time range.\n",
    "\n",
    "## 2.2 Defining the Area of Interest (AOI)\n",
    "According to The Irish Times: https://www.irishtimes.com/ireland/2023/10/19/cork-flooding-floods-in-co-cork-absolutely-devastating-as-safety-warning-issued-to-motorists/\n",
    "Picked the area that got more affected with the floods of 2023.3\n",
    "\n",
    "This phase is crucial for gathering the necessary data to analyze changes in water-covered areas, which is essential for flood detection.\n"
   ]
  },
  {
   "cell_type": "code",
   "execution_count": 1,
   "id": "19b4ea4a",
   "metadata": {},
   "outputs": [],
   "source": [
    "import ee\n",
    "import geemap\n",
    "\n",
    "# Initialize GEE\n",
    "ee.Authenticate()\n",
    "ee.Initialize(project='atu-fyp')"
   ]
  },
  {
   "cell_type": "markdown",
   "id": "83224aab",
   "metadata": {},
   "source": [
    "# Chapter 3: Data Collection and Processing\n",
    "\n",
    "## 3.1 Setting Up Google Earth Engine\n",
    "Defining the Area of Interest (AOI): Specifying the geographic region.\n",
    "Fetching Satellite Images: Retrieving Landsat and Sentinel-2 images for the defined AOI and time range, with filters for cloud cover.\n",
    "Visualizing the Data: Adding the median composite images to an interactive map for visualization.\n",
    "Exporting the Data: Exporting the processed images to Google Drive for further analysis.\n",
    "This phase is crucial for gathering the necessary data to analyze changes in water-covered areas, which is essential for flood detection.\n",
    "\n",
    "## 3.2 Setting Area Chosen\n",
    "Setting up the environment."
   ]
  },
  {
   "cell_type": "code",
   "execution_count": 2,
   "id": "ccb0af4d",
   "metadata": {},
   "outputs": [
    {
     "data": {
      "text/html": [
       "\n",
       "            <style>\n",
       "                .geemap-dark {\n",
       "                    --jp-widgets-color: white;\n",
       "                    --jp-widgets-label-color: white;\n",
       "                    --jp-ui-font-color1: white;\n",
       "                    --jp-layout-color2: #454545;\n",
       "                    background-color: #383838;\n",
       "                }\n",
       "\n",
       "                .geemap-dark .jupyter-button {\n",
       "                    --jp-layout-color3: #383838;\n",
       "                }\n",
       "\n",
       "                .geemap-colab {\n",
       "                    background-color: var(--colab-primary-surface-color, white);\n",
       "                }\n",
       "\n",
       "                .geemap-colab .jupyter-button {\n",
       "                    --jp-layout-color3: var(--colab-primary-surface-color, white);\n",
       "                }\n",
       "            </style>\n",
       "            "
      ],
      "text/plain": [
       "<IPython.core.display.HTML object>"
      ]
     },
     "metadata": {},
     "output_type": "display_data"
    },
    {
     "data": {
      "application/vnd.jupyter.widget-view+json": {
       "model_id": "e3ec98859dc644a5910d52772a599605",
       "version_major": 2,
       "version_minor": 0
      },
      "text/plain": [
       "Map(center=[51.8691, -8.2646], controls=(WidgetControl(options=['position', 'transparent_bg'], widget=SearchDa…"
      ]
     },
     "metadata": {},
     "output_type": "display_data"
    }
   ],
   "source": [
    "# Define AOI for Cork\n",
    "# Define pre-flood and post-flood dates\n",
    "#We tell the computer when to look.\n",
    "#We check images before the flood (September) and after the flood (October).\n",
    "aoi = ee.Geometry.Polygon([\n",
    "    [-8.570156845611686, 52.00904254772663],\n",
    "    [-8.570156845611686, 51.7292195887807],\n",
    "    [-7.959042343658562, 51.7292195887807],\n",
    "    [-7.959042343658562, 52.00904254772663]\n",
    "]).buffer(5000)  # Buffer to expand the area\n",
    "\n",
    "# Initialize the map\n",
    "Map = geemap.Map(center=[51.8691, -8.2646], zoom=10)\n",
    "Map.addLayer(aoi, {'color': 'red'}, 'Area of Interest')\n",
    "Map"
   ]
  },
  {
   "cell_type": "markdown",
   "id": "5aa0d238",
   "metadata": {},
   "source": [
    "# Chapter 4: Loading and Visualizing Data\n",
    "\n",
    "## 4.1 Loading Sentinel-1 Data\n",
    "Load Sentinel-1 GRD data for pre-flood and post-flood periods."
   ]
  },
  {
   "cell_type": "code",
   "execution_count": 3,
   "id": "f143224a",
   "metadata": {},
   "outputs": [
    {
     "data": {
      "text/html": [
       "\n",
       "            <style>\n",
       "                .geemap-dark {\n",
       "                    --jp-widgets-color: white;\n",
       "                    --jp-widgets-label-color: white;\n",
       "                    --jp-ui-font-color1: white;\n",
       "                    --jp-layout-color2: #454545;\n",
       "                    background-color: #383838;\n",
       "                }\n",
       "\n",
       "                .geemap-dark .jupyter-button {\n",
       "                    --jp-layout-color3: #383838;\n",
       "                }\n",
       "\n",
       "                .geemap-colab {\n",
       "                    background-color: var(--colab-primary-surface-color, white);\n",
       "                }\n",
       "\n",
       "                .geemap-colab .jupyter-button {\n",
       "                    --jp-layout-color3: var(--colab-primary-surface-color, white);\n",
       "                }\n",
       "            </style>\n",
       "            "
      ],
      "text/plain": [
       "<IPython.core.display.HTML object>"
      ]
     },
     "metadata": {},
     "output_type": "display_data"
    },
    {
     "data": {
      "application/vnd.jupyter.widget-view+json": {
       "model_id": "e3ec98859dc644a5910d52772a599605",
       "version_major": 2,
       "version_minor": 0
      },
      "text/plain": [
       "Map(center=[51.8691, -8.2646], controls=(WidgetControl(options=['position', 'transparent_bg'], widget=SearchDa…"
      ]
     },
     "metadata": {},
     "output_type": "display_data"
    }
   ],
   "source": [
    "# Defines pre-flood and post-flood dates\n",
    "pre_flood_start = '2023-09-01'\n",
    "pre_flood_end = '2023-09-30'\n",
    "post_flood_start = '2023-10-18'\n",
    "post_flood_end = '2023-10-25'\n",
    "# Load Sentinel-1 GRD data for pre-flood period\n",
    "pre_flood_collection = ee.ImageCollection('COPERNICUS/S1_GRD') \\\n",
    "    .filterBounds(aoi) \\\n",
    "    .filterDate(pre_flood_start, pre_flood_end) \\\n",
    "    .filter(ee.Filter.listContains('transmitterReceiverPolarisation', 'VV')) \\\n",
    "    .filter(ee.Filter.eq('instrumentMode', 'IW')) \\\n",
    "    .select('VV')\n",
    "\n",
    "# Load Sentinel-1 GRD data for post-flood period\n",
    "post_flood_collection = ee.ImageCollection('COPERNICUS/S1_GRD') \\\n",
    "    .filterBounds(aoi) \\\n",
    "    .filterDate(post_flood_start, post_flood_end) \\\n",
    "    .filter(ee.Filter.listContains('transmitterReceiverPolarisation', 'VV')) \\\n",
    "    .filter(ee.Filter.eq('instrumentMode', 'IW')) \\\n",
    "    .select('VV')\n",
    "\n",
    "# Get the median image for each period\n",
    "pre_flood_image = pre_flood_collection.median()\n",
    "post_flood_image = post_flood_collection.median()\n",
    "\n",
    "# Add pre-flood and post-flood images to the map\n",
    "Map.addLayer(pre_flood_image.clip(aoi), {'min': -20, 'max': 0}, 'Pre-Flood VV')\n",
    "Map.addLayer(post_flood_image.clip(aoi), {'min': -20, 'max': 0}, 'Post-Flood VV')\n",
    "Map.centerObject(aoi)\n",
    "Map"
   ]
  },
  {
   "cell_type": "markdown",
   "id": "065db069",
   "metadata": {},
   "source": [
    "# Chapter 5: Analyzing Changes\n",
    "\n",
    "## 5.1 Calculate the Difference Between Pre-Flood and Post-Flood Images\n",
    "Subtracting the pre-flood image from the post-flood image to detect changes."
   ]
  },
  {
   "cell_type": "markdown",
   "id": "a1d0da67",
   "metadata": {},
   "source": [
    "This cell calculates the difference between the post-flood and pre-flood images by subtracting the pre-flood image from the post-flood image. The resulting difference image highlights changes in the area. The difference image is then added to the map with a color palette to visualize the changes."
   ]
  },
  {
   "cell_type": "code",
   "execution_count": 4,
   "id": "c1a59d76",
   "metadata": {},
   "outputs": [
    {
     "data": {
      "text/html": [
       "\n",
       "            <style>\n",
       "                .geemap-dark {\n",
       "                    --jp-widgets-color: white;\n",
       "                    --jp-widgets-label-color: white;\n",
       "                    --jp-ui-font-color1: white;\n",
       "                    --jp-layout-color2: #454545;\n",
       "                    background-color: #383838;\n",
       "                }\n",
       "\n",
       "                .geemap-dark .jupyter-button {\n",
       "                    --jp-layout-color3: #383838;\n",
       "                }\n",
       "\n",
       "                .geemap-colab {\n",
       "                    background-color: var(--colab-primary-surface-color, white);\n",
       "                }\n",
       "\n",
       "                .geemap-colab .jupyter-button {\n",
       "                    --jp-layout-color3: var(--colab-primary-surface-color, white);\n",
       "                }\n",
       "            </style>\n",
       "            "
      ],
      "text/plain": [
       "<IPython.core.display.HTML object>"
      ]
     },
     "metadata": {},
     "output_type": "display_data"
    },
    {
     "data": {
      "application/vnd.jupyter.widget-view+json": {
       "model_id": "e3ec98859dc644a5910d52772a599605",
       "version_major": 2,
       "version_minor": 0
      },
      "text/plain": [
       "Map(center=[51.86932901232889, -8.264599594635124], controls=(WidgetControl(options=['position', 'transparent_…"
      ]
     },
     "metadata": {},
     "output_type": "display_data"
    }
   ],
   "source": [
    "# Calculate the difference between post-flood and pre-flood images\n",
    "difference_image = post_flood_image.subtract(pre_flood_image)\n",
    "\n",
    "# Add the difference image to the map\n",
    "Map.addLayer(difference_image.clip(aoi), {'min': -5, 'max': 5, 'palette': ['red', 'white', 'blue']}, 'Difference Image')\n",
    "Map.centerObject(aoi)\n",
    "Map\n"
   ]
  },
  {
   "cell_type": "markdown",
   "id": "9edcdc83",
   "metadata": {},
   "source": [
    "## 5.2 Thresholding to Identify Flooded Areas\n",
    "Applying a threshold to the difference image to identify flooded areas.\n",
    "This code defines a threshold value for flood detection. The gt(threshold) function creates a binary flood mask by identifying pixels in the difference image that exceed the threshold value. The flood mask is then added to the map with a color palette to visualize the flooded areas."
   ]
  },
  {
   "cell_type": "code",
   "execution_count": 5,
   "id": "aa7107fd",
   "metadata": {},
   "outputs": [
    {
     "data": {
      "text/html": [
       "\n",
       "            <style>\n",
       "                .geemap-dark {\n",
       "                    --jp-widgets-color: white;\n",
       "                    --jp-widgets-label-color: white;\n",
       "                    --jp-ui-font-color1: white;\n",
       "                    --jp-layout-color2: #454545;\n",
       "                    background-color: #383838;\n",
       "                }\n",
       "\n",
       "                .geemap-dark .jupyter-button {\n",
       "                    --jp-layout-color3: #383838;\n",
       "                }\n",
       "\n",
       "                .geemap-colab {\n",
       "                    background-color: var(--colab-primary-surface-color, white);\n",
       "                }\n",
       "\n",
       "                .geemap-colab .jupyter-button {\n",
       "                    --jp-layout-color3: var(--colab-primary-surface-color, white);\n",
       "                }\n",
       "            </style>\n",
       "            "
      ],
      "text/plain": [
       "<IPython.core.display.HTML object>"
      ]
     },
     "metadata": {},
     "output_type": "display_data"
    },
    {
     "data": {
      "application/vnd.jupyter.widget-view+json": {
       "model_id": "e3ec98859dc644a5910d52772a599605",
       "version_major": 2,
       "version_minor": 0
      },
      "text/plain": [
       "Map(center=[51.86932901232889, -8.264599594635124], controls=(WidgetControl(options=['position', 'transparent_…"
      ]
     },
     "metadata": {},
     "output_type": "display_data"
    }
   ],
   "source": [
    "# Define a threshold for flood detection\n",
    "threshold = 2  # Adjust this value based on your analysis\n",
    "\n",
    "# Create a binary flood mask\n",
    "flood_mask = difference_image.gt(threshold)\n",
    "\n",
    "# Add the flood mask to the map\n",
    "Map.addLayer(flood_mask.clip(aoi), {'min': 0, 'max': 1, 'palette': ['white', 'blue']}, 'Flood Mask')\n",
    "Map.centerObject(aoi)\n",
    "Map"
   ]
  },
  {
   "cell_type": "markdown",
   "id": "3413a54f",
   "metadata": {},
   "source": [
    "# Chapter 6: Exporting and Visualizing Results\n",
    "\n",
    "## 6.1 Export the Flood Mask\n",
    "Exporting the flood mask to Google Drive for further analysis.\n",
    "\n"
   ]
  },
  {
   "cell_type": "code",
   "execution_count": 6,
   "id": "1e34e371",
   "metadata": {},
   "outputs": [
    {
     "data": {
      "text/html": [
       "\n",
       "            <style>\n",
       "                .geemap-dark {\n",
       "                    --jp-widgets-color: white;\n",
       "                    --jp-widgets-label-color: white;\n",
       "                    --jp-ui-font-color1: white;\n",
       "                    --jp-layout-color2: #454545;\n",
       "                    background-color: #383838;\n",
       "                }\n",
       "\n",
       "                .geemap-dark .jupyter-button {\n",
       "                    --jp-layout-color3: #383838;\n",
       "                }\n",
       "\n",
       "                .geemap-colab {\n",
       "                    background-color: var(--colab-primary-surface-color, white);\n",
       "                }\n",
       "\n",
       "                .geemap-colab .jupyter-button {\n",
       "                    --jp-layout-color3: var(--colab-primary-surface-color, white);\n",
       "                }\n",
       "            </style>\n",
       "            "
      ],
      "text/plain": [
       "<IPython.core.display.HTML object>"
      ]
     },
     "metadata": {},
     "output_type": "display_data"
    },
    {
     "name": "stdout",
     "output_type": "stream",
     "text": [
      "Export task started. Check Google Drive for the flood mask.\n"
     ]
    }
   ],
   "source": [
    "# Export the flood mask to Google Drive\n",
    "task = ee.batch.Export.image.toDrive(\n",
    "    image=flood_mask.clip(aoi),\n",
    "    description='FloodMask',\n",
    "    folder='EarthEngineImages',\n",
    "    scale=30,\n",
    "    region=aoi\n",
    ")\n",
    "task.start()\n",
    "\n",
    "print(\"Export task started. Check Google Drive for the flood mask.\")"
   ]
  },
  {
   "cell_type": "markdown",
   "id": "9befd7f9",
   "metadata": {},
   "source": [
    "## 6.2 Visualizing Locally\n",
    "Visualizing the exported flood mask locally."
   ]
  },
  {
   "cell_type": "markdown",
   "id": "412325b2",
   "metadata": {},
   "source": [
    "Visualizing locally"
   ]
  },
  {
   "cell_type": "code",
   "execution_count": 7,
   "id": "9239c65b",
   "metadata": {},
   "outputs": [
    {
     "data": {
      "text/html": [
       "\n",
       "            <style>\n",
       "                .geemap-dark {\n",
       "                    --jp-widgets-color: white;\n",
       "                    --jp-widgets-label-color: white;\n",
       "                    --jp-ui-font-color1: white;\n",
       "                    --jp-layout-color2: #454545;\n",
       "                    background-color: #383838;\n",
       "                }\n",
       "\n",
       "                .geemap-dark .jupyter-button {\n",
       "                    --jp-layout-color3: #383838;\n",
       "                }\n",
       "\n",
       "                .geemap-colab {\n",
       "                    background-color: var(--colab-primary-surface-color, white);\n",
       "                }\n",
       "\n",
       "                .geemap-colab .jupyter-button {\n",
       "                    --jp-layout-color3: var(--colab-primary-surface-color, white);\n",
       "                }\n",
       "            </style>\n",
       "            "
      ],
      "text/plain": [
       "<IPython.core.display.HTML object>"
      ]
     },
     "metadata": {},
     "output_type": "display_data"
    },
    {
     "name": "stdout",
     "output_type": "stream",
     "text": [
      "File not found: C:\\\\Users\\\\Neo\\\\Desktop\\\\FYP\\\\geeimages\\\\FloodMask.tif\n"
     ]
    }
   ],
   "source": [
    "import rasterio\n",
    "from matplotlib import pyplot as plt\n",
    "\n",
    "# Check if the file exists\n",
    "import os\n",
    "file_path = r\"C:\\\\Users\\\\Neo\\\\Desktop\\\\FYP\\\\geeimages\\\\FloodMask.tif\"\n",
    "if os.path.exists(file_path):\n",
    "    # Open the exported flood mask\n",
    "    with rasterio.open(file_path) as src:\n",
    "        flood_mask_image = src.read(1)\n",
    "\n",
    "    # Display the flood mask\n",
    "    plt.imshow(flood_mask_image, cmap='Blues', vmin=0, vmax=1)\n",
    "    plt.colorbar(label='Flood Mask')\n",
    "    plt.title('Flood Mask')\n",
    "    plt.show()\n",
    "else:\n",
    "    print(f\"File not found: {file_path}\")"
   ]
  },
  {
   "cell_type": "markdown",
   "id": "243f2c82",
   "metadata": {},
   "source": [
    "# Chapter 7: Refining the Threshold\n",
    "## 7.1 Experiment with different threshold values (e.g., 1.5, 2.5) to improve flood detection."
   ]
  },
  {
   "cell_type": "code",
   "execution_count": 8,
   "id": "e4024c86",
   "metadata": {},
   "outputs": [
    {
     "data": {
      "text/html": [
       "\n",
       "            <style>\n",
       "                .geemap-dark {\n",
       "                    --jp-widgets-color: white;\n",
       "                    --jp-widgets-label-color: white;\n",
       "                    --jp-ui-font-color1: white;\n",
       "                    --jp-layout-color2: #454545;\n",
       "                    background-color: #383838;\n",
       "                }\n",
       "\n",
       "                .geemap-dark .jupyter-button {\n",
       "                    --jp-layout-color3: #383838;\n",
       "                }\n",
       "\n",
       "                .geemap-colab {\n",
       "                    background-color: var(--colab-primary-surface-color, white);\n",
       "                }\n",
       "\n",
       "                .geemap-colab .jupyter-button {\n",
       "                    --jp-layout-color3: var(--colab-primary-surface-color, white);\n",
       "                }\n",
       "            </style>\n",
       "            "
      ],
      "text/plain": [
       "<IPython.core.display.HTML object>"
      ]
     },
     "metadata": {},
     "output_type": "display_data"
    },
    {
     "data": {
      "application/vnd.jupyter.widget-view+json": {
       "model_id": "b79c3447da9d431a8024d2bb252312ab",
       "version_major": 2,
       "version_minor": 0
      },
      "text/plain": [
       "Map(center=[51.8691, -8.2646], controls=(WidgetControl(options=['position', 'transparent_bg'], widget=SearchDa…"
      ]
     },
     "metadata": {},
     "output_type": "display_data"
    }
   ],
   "source": [
    "# Defining a list of threshold values to test\n",
    "thresholds = [1.5, 2, 2.5, 3]\n",
    "\n",
    "# map to visualize the results\n",
    "Map = geemap.Map(center=[51.8691, -8.2646], zoom=10)\n",
    "\n",
    "# Loops through each threshold and add the flood mask to the map\n",
    "for threshold in thresholds:\n",
    "    flood_mask = difference_image.gt(threshold)\n",
    "    Map.addLayer(flood_mask.clip(aoi), {'min': 0, 'max': 1, 'palette': ['white', 'blue']}, f'Flood Mask (Threshold={threshold})')\n",
    "\n",
    "# Adds the AOI and difference image for reference\n",
    "Map.addLayer(aoi, {'color': 'red'}, 'Area of Interest')\n",
    "Map.addLayer(difference_image.clip(aoi), {'min': -5, 'max': 5, 'palette': ['red', 'white', 'blue']}, 'Difference Image')\n",
    "Map.centerObject(aoi)\n",
    "Map"
   ]
  },
  {
   "cell_type": "markdown",
   "id": "d30341cd",
   "metadata": {},
   "source": [
    "EXPLANATION\n",
    "\n",
    "Imagine you have a list of numbers that you want to test. These numbers are called \"thresholds\". In this case, the thresholds are [1.5, 2, 2.5, 3].\n",
    "\n",
    "Creating a Map:\n",
    "Think of a map like a big piece of paper where you can draw and see different things. Here, we are creating a map centered on a place called Cork, Ireland.\n",
    "\n",
    "Looping Through Thresholds:\n",
    "We are going to look at each number in our list of thresholds one by one.\n",
    "For each number (threshold), we are going to create something called a \"flood mask\". This is like putting a special filter on the map to see where the water is.\n",
    "We then add this flood mask to our map. It's like drawing on the map with different colors to show where the water is based on each threshold."
   ]
  },
  {
   "cell_type": "markdown",
   "id": "e1869588",
   "metadata": {},
   "source": [
    "# Chapter 8: Combining Sentinel-1 and Sentinel-2 DATA\n",
    "## 8.1 Sentinel-2 optical data used to calculate the Normalized Difference Water Index (NDWI), which is useful for validating the flood mask derived from Sentinel-1."
   ]
  },
  {
   "cell_type": "code",
   "execution_count": 9,
   "id": "b49dd03d",
   "metadata": {},
   "outputs": [
    {
     "data": {
      "text/html": [
       "\n",
       "            <style>\n",
       "                .geemap-dark {\n",
       "                    --jp-widgets-color: white;\n",
       "                    --jp-widgets-label-color: white;\n",
       "                    --jp-ui-font-color1: white;\n",
       "                    --jp-layout-color2: #454545;\n",
       "                    background-color: #383838;\n",
       "                }\n",
       "\n",
       "                .geemap-dark .jupyter-button {\n",
       "                    --jp-layout-color3: #383838;\n",
       "                }\n",
       "\n",
       "                .geemap-colab {\n",
       "                    background-color: var(--colab-primary-surface-color, white);\n",
       "                }\n",
       "\n",
       "                .geemap-colab .jupyter-button {\n",
       "                    --jp-layout-color3: var(--colab-primary-surface-color, white);\n",
       "                }\n",
       "            </style>\n",
       "            "
      ],
      "text/plain": [
       "<IPython.core.display.HTML object>"
      ]
     },
     "metadata": {},
     "output_type": "display_data"
    },
    {
     "data": {
      "application/vnd.jupyter.widget-view+json": {
       "model_id": "b79c3447da9d431a8024d2bb252312ab",
       "version_major": 2,
       "version_minor": 0
      },
      "text/plain": [
       "Map(center=[51.86932901232889, -8.264599594635124], controls=(WidgetControl(options=['position', 'transparent_…"
      ]
     },
     "metadata": {},
     "output_type": "display_data"
    }
   ],
   "source": [
    "\n",
    "# Loading Sentinel-2 data for the post-flood period\n",
    "#We ask Google Earth Engine for satellite images from Sentinel-2, a satellite that takes pictures of Earth. \n",
    "#We only take images from our area (Cork) and only in October.\n",
    "#We ignore pictures that have too many clouds (less than 50% clouds allowed). \n",
    "post_flood_sentinel2 = ee.ImageCollection('COPERNICUS/S2') \\\n",
    "    .filterBounds(aoi) \\\n",
    "    .filterDate(post_flood_start, post_flood_end) \\\n",
    "    .filter(ee.Filter.lt('CLOUDY_PIXEL_PERCENTAGE', 50))  # Filter out cloudy images\n",
    "\n",
    "# Function to calculate NDWI\n",
    "#NDWI (Normalized Difference Water Index) is a math trick to find water in a satellite image. \n",
    "# It looks at two colors:\n",
    "# B3 (Green light) \n",
    "# B8 (Near Infrared light) \n",
    "# If B3 is bright and B8 is dark, that means water! \n",
    "# We add this water-detection layer to the image.\n",
    "def add_ndwi(image):\n",
    "    ndwi = image.normalizedDifference(['B3', 'B8']).rename('NDWI')\n",
    "    return image.addBands(ndwi)\n",
    "\n",
    "# Apply NDWI calculation to the collection\n",
    "ndwi_collection = post_flood_sentinel2.map(add_ndwi)\n",
    "\n",
    "# Gets the median NDWI image\n",
    "ndwi_image = ndwi_collection.median()\n",
    "\n",
    "# Adds NDWI layer to the map\n",
    "Map.addLayer(ndwi_image.clip(aoi), {'bands': ['NDWI'], 'min': -1, 'max': 1, 'palette': ['white', 'blue']}, 'NDWI')\n",
    "ndwi_vis_params = {'bands': ['NDWI'], 'min': -0.3, 'max': 0.3, 'palette': ['white', 'blue']}\n",
    "Map.addLayer(ndwi_image.clip(aoi), ndwi_vis_params, 'NDWI')\n",
    "\n",
    "Map.centerObject(aoi)\n",
    "Map"
   ]
  },
  {
   "cell_type": "markdown",
   "id": "6ea95f67",
   "metadata": {},
   "source": [
    "# Chapter 9:  VALIDATING the FLOOD MASK\n",
    "## 9.1 Comparing the flood mask derived from Sentinel-1 with the NDWI from Sentinel-2 to validate the results."
   ]
  },
  {
   "cell_type": "code",
   "execution_count": 10,
   "id": "36bf66ad",
   "metadata": {},
   "outputs": [
    {
     "data": {
      "text/html": [
       "\n",
       "            <style>\n",
       "                .geemap-dark {\n",
       "                    --jp-widgets-color: white;\n",
       "                    --jp-widgets-label-color: white;\n",
       "                    --jp-ui-font-color1: white;\n",
       "                    --jp-layout-color2: #454545;\n",
       "                    background-color: #383838;\n",
       "                }\n",
       "\n",
       "                .geemap-dark .jupyter-button {\n",
       "                    --jp-layout-color3: #383838;\n",
       "                }\n",
       "\n",
       "                .geemap-colab {\n",
       "                    background-color: var(--colab-primary-surface-color, white);\n",
       "                }\n",
       "\n",
       "                .geemap-colab .jupyter-button {\n",
       "                    --jp-layout-color3: var(--colab-primary-surface-color, white);\n",
       "                }\n",
       "            </style>\n",
       "            "
      ],
      "text/plain": [
       "<IPython.core.display.HTML object>"
      ]
     },
     "metadata": {},
     "output_type": "display_data"
    },
    {
     "data": {
      "application/vnd.jupyter.widget-view+json": {
       "model_id": "b79c3447da9d431a8024d2bb252312ab",
       "version_major": 2,
       "version_minor": 0
      },
      "text/plain": [
       "Map(center=[51.86932901232889, -8.264599594635124], controls=(WidgetControl(options=['position', 'transparent_…"
      ]
     },
     "metadata": {},
     "output_type": "display_data"
    }
   ],
   "source": [
    "# Defines a threshold for NDWI (values > 0.3 indicate water)\n",
    "ndwi_threshold = 0.3\n",
    "ndwi_water_mask = ndwi_image.select('NDWI').gt(ndwi_threshold)\n",
    "\n",
    "# Adds the NDWI water mask to the map\n",
    "Map.addLayer(ndwi_water_mask.clip(aoi), {'min': 0, 'max': 1, 'palette': ['white', 'blue']}, 'NDWI Water Mask')\n",
    "\n",
    "# Compares with the Sentinel-1 flood mask\n",
    "Map.addLayer(flood_mask.clip(aoi), {'min': 0, 'max': 1, 'palette': ['white', 'green']}, 'Sentinel-1 Flood Mask')\n",
    "Map.centerObject(aoi)\n",
    "Map"
   ]
  },
  {
   "cell_type": "markdown",
   "id": "3787299c",
   "metadata": {},
   "source": [
    "EXPLANATION\n",
    "\n",
    "This code creates a mask (a special filter) to highlight only the water areas on the map. It looks at the NDWI values and decides which pixels are water and which are not water.\n",
    "\n",
    "ndwi_threshold = 0.3\n",
    "ndwi_water_mask = ndwi_image.select('NDWI').gt(ndwi_threshold)\n",
    "\n",
    "What this does:\n",
    "We set a \"rule\" : Any place with an NDWI value higher than 0.3 is water.\n",
    "ndwi_image.select('NDWI') takes the NDWI values.\n",
    ".gt(ndwi_threshold) means \"greater than 0.3\".\n",
    "The result is a black & white mask:\n",
    "White (1) = Water \n",
    "Black (0) = Not Water \n",
    "\n",
    "ANALOGY\n",
    "Imagine you have a coloring book. You look at each spot on the page and decide:\n",
    "\n",
    "If it's NDWI > 0.3, you color it blue (water)\n",
    "If it's NDWI ≤ 0.3, you leave it white (land)\n",
    "\n",
    "\n",
    "\n",
    "Map.addLayer(flood_mask.clip(aoi), {'min': 0, 'max': 1, 'palette': ['white', 'green']}, 'Sentinel-1 Flood Mask')\n",
    "\n",
    "Sentinel-1 is another satellite (different from Sentinel-2).\n",
    "This flood mask is another way to detect water.\n",
    "Green = Flooded areas detected by Sentinel-1. \n",
    "\n",
    " Analogy:\n",
    "Imagine you have two different cameras  looking at the same flood:\n",
    "\n",
    "NDWI from Sentinel-2 (Blue)\n",
    "Flood detection from Sentinel-1 (Green)\n",
    "This helps you compare the two methods to see if they agree!"
   ]
  },
  {
   "cell_type": "markdown",
   "id": "dea63db5",
   "metadata": {},
   "source": [
    "# Chapter 10: VALIDATION RESULTS"
   ]
  },
  {
   "cell_type": "code",
   "execution_count": 11,
   "id": "8e007ab9",
   "metadata": {},
   "outputs": [
    {
     "data": {
      "text/html": [
       "\n",
       "            <style>\n",
       "                .geemap-dark {\n",
       "                    --jp-widgets-color: white;\n",
       "                    --jp-widgets-label-color: white;\n",
       "                    --jp-ui-font-color1: white;\n",
       "                    --jp-layout-color2: #454545;\n",
       "                    background-color: #383838;\n",
       "                }\n",
       "\n",
       "                .geemap-dark .jupyter-button {\n",
       "                    --jp-layout-color3: #383838;\n",
       "                }\n",
       "\n",
       "                .geemap-colab {\n",
       "                    background-color: var(--colab-primary-surface-color, white);\n",
       "                }\n",
       "\n",
       "                .geemap-colab .jupyter-button {\n",
       "                    --jp-layout-color3: var(--colab-primary-surface-color, white);\n",
       "                }\n",
       "            </style>\n",
       "            "
      ],
      "text/plain": [
       "<IPython.core.display.HTML object>"
      ]
     },
     "metadata": {},
     "output_type": "display_data"
    },
    {
     "name": "stdout",
     "output_type": "stream",
     "text": [
      "Export tasks started. Check Google Drive for the validation results.\n"
     ]
    }
   ],
   "source": [
    "# Exports NDWI water mask\n",
    "task_ndwi = ee.batch.Export.image.toDrive(\n",
    "    image=ndwi_water_mask.clip(aoi),\n",
    "    description='NDWI_WaterMask',\n",
    "    folder='EarthEngineImages',\n",
    "    scale=10,\n",
    "    region=aoi\n",
    ")\n",
    "task_ndwi.start()\n",
    "\n",
    "# # Exports Sentinel-1 flood mask\n",
    "# task_flood = ee.batch.Export.image.toDrive(\n",
    "#     image=flood_mask.clip(aoi),\n",
    "#     description='Sentinel1_FloodMask',\n",
    "#     folder='EarthEngineImages',\n",
    "#     scale=30,\n",
    "#     region=aoi\n",
    "# )\n",
    "# task_flood.start()\n",
    "\n",
    "print(\"Export tasks started. Check Google Drive for the validation results.\")"
   ]
  },
  {
   "cell_type": "code",
   "execution_count": 12,
   "id": "d53eb228",
   "metadata": {},
   "outputs": [
    {
     "data": {
      "text/html": [
       "\n",
       "            <style>\n",
       "                .geemap-dark {\n",
       "                    --jp-widgets-color: white;\n",
       "                    --jp-widgets-label-color: white;\n",
       "                    --jp-ui-font-color1: white;\n",
       "                    --jp-layout-color2: #454545;\n",
       "                    background-color: #383838;\n",
       "                }\n",
       "\n",
       "                .geemap-dark .jupyter-button {\n",
       "                    --jp-layout-color3: #383838;\n",
       "                }\n",
       "\n",
       "                .geemap-colab {\n",
       "                    background-color: var(--colab-primary-surface-color, white);\n",
       "                }\n",
       "\n",
       "                .geemap-colab .jupyter-button {\n",
       "                    --jp-layout-color3: var(--colab-primary-surface-color, white);\n",
       "                }\n",
       "            </style>\n",
       "            "
      ],
      "text/plain": [
       "<IPython.core.display.HTML object>"
      ]
     },
     "metadata": {},
     "output_type": "display_data"
    },
    {
     "data": {
      "application/vnd.jupyter.widget-view+json": {
       "model_id": "b79c3447da9d431a8024d2bb252312ab",
       "version_major": 2,
       "version_minor": 0
      },
      "text/plain": [
       "Map(center=[51.86932901232889, -8.264599594635124], controls=(WidgetControl(options=['position', 'transparent_…"
      ]
     },
     "metadata": {},
     "output_type": "display_data"
    },
    {
     "name": "stderr",
     "output_type": "stream",
     "text": [
      "No such comm: 30a8b1743853406dab1395598506f713\n",
      "No such comm: 565464a312004d12b2dc16b6093a25a0\n",
      "No such comm: 30a8b1743853406dab1395598506f713\n",
      "No such comm: 30a8b1743853406dab1395598506f713\n",
      "No such comm: 30a8b1743853406dab1395598506f713\n"
     ]
    }
   ],
   "source": [
    "# Load Sentinel-2 imagery for the post-flood period\n",
    "post_flood_sentinel2 = ee.ImageCollection('COPERNICUS/S2') \\\n",
    "    .filterBounds(aoi) \\\n",
    "    .filterDate(post_flood_start, post_flood_end) \\\n",
    "    .filter(ee.Filter.lt('CLOUDY_PIXEL_PERCENTAGE', 0))  # Filter out cloudy images\n",
    "\n",
    "# Get the first Sentinel-2 image for visualization\n",
    "sentinel2_image = post_flood_sentinel2.first()\n",
    "\n",
    "# Add Sentinel-2 true color image to the map\n",
    "Map.addLayer(sentinel2_image.clip(aoi), {'bands': ['B4', 'B3', 'B2'], 'min': 0, 'max': 3000}, 'Sentinel-2 True Color')\n",
    "\n",
    "# Add the flood mask and NDWI water mask for comparison\n",
    "Map.addLayer(flood_mask.clip(aoi), {'min': 0, 'max': 1, 'palette': ['white', 'green']}, 'Sentinel-1 Flood Mask')\n",
    "Map.addLayer(ndwi_water_mask.clip(aoi), {'min': 0, 'max': 1, 'palette': ['white', 'blue']}, 'NDWI Water Mask')\n",
    "\n",
    "# Add the AOI for reference\n",
    "Map.addLayer(aoi, {'color': 'red'}, 'Area of Interest')\n",
    "Map.centerObject(aoi)\n",
    "Map"
   ]
  },
  {
   "cell_type": "code",
   "execution_count": 13,
   "id": "19ae7775",
   "metadata": {},
   "outputs": [
    {
     "data": {
      "text/html": [
       "\n",
       "            <style>\n",
       "                .geemap-dark {\n",
       "                    --jp-widgets-color: white;\n",
       "                    --jp-widgets-label-color: white;\n",
       "                    --jp-ui-font-color1: white;\n",
       "                    --jp-layout-color2: #454545;\n",
       "                    background-color: #383838;\n",
       "                }\n",
       "\n",
       "                .geemap-dark .jupyter-button {\n",
       "                    --jp-layout-color3: #383838;\n",
       "                }\n",
       "\n",
       "                .geemap-colab {\n",
       "                    background-color: var(--colab-primary-surface-color, white);\n",
       "                }\n",
       "\n",
       "                .geemap-colab .jupyter-button {\n",
       "                    --jp-layout-color3: var(--colab-primary-surface-color, white);\n",
       "                }\n",
       "            </style>\n",
       "            "
      ],
      "text/plain": [
       "<IPython.core.display.HTML object>"
      ]
     },
     "metadata": {},
     "output_type": "display_data"
    },
    {
     "data": {
      "application/vnd.jupyter.widget-view+json": {
       "model_id": "b79c3447da9d431a8024d2bb252312ab",
       "version_major": 2,
       "version_minor": 0
      },
      "text/plain": [
       "Map(center=[51.86932901232889, -8.264599594635124], controls=(WidgetControl(options=['position', 'transparent_…"
      ]
     },
     "metadata": {},
     "output_type": "display_data"
    }
   ],
   "source": [
    "# Load ground truth flood map (replace with your ground truth data)\n",
    "# For demonstration, we'll use the NDWI water mask as ground truth\n",
    "ground_truth = ndwi_water_mask\n",
    "\n",
    "# Calculate confusion matrix\n",
    "confusion_matrix = flood_mask.add(ground_truth.multiply(2)).clip(aoi)\n",
    "\n",
    "# Add confusion matrix to the map\n",
    "Map.addLayer(confusion_matrix, {'min': 0, 'max': 3, 'palette': ['white', 'green', 'blue', 'red']}, 'Confusion Matrix')\n",
    "Map.centerObject(aoi)\n",
    "Map"
   ]
  },
  {
   "cell_type": "markdown",
   "id": "e1ed3560",
   "metadata": {},
   "source": [
    "# Chapter: Comparing with Ground Truth"
   ]
  },
  {
   "cell_type": "code",
   "execution_count": 15,
   "id": "07d07013",
   "metadata": {},
   "outputs": [
    {
     "data": {
      "text/html": [
       "\n",
       "            <style>\n",
       "                .geemap-dark {\n",
       "                    --jp-widgets-color: white;\n",
       "                    --jp-widgets-label-color: white;\n",
       "                    --jp-ui-font-color1: white;\n",
       "                    --jp-layout-color2: #454545;\n",
       "                    background-color: #383838;\n",
       "                }\n",
       "\n",
       "                .geemap-dark .jupyter-button {\n",
       "                    --jp-layout-color3: #383838;\n",
       "                }\n",
       "\n",
       "                .geemap-colab {\n",
       "                    background-color: var(--colab-primary-surface-color, white);\n",
       "                }\n",
       "\n",
       "                .geemap-colab .jupyter-button {\n",
       "                    --jp-layout-color3: var(--colab-primary-surface-color, white);\n",
       "                }\n",
       "            </style>\n",
       "            "
      ],
      "text/plain": [
       "<IPython.core.display.HTML object>"
      ]
     },
     "metadata": {},
     "output_type": "display_data"
    },
    {
     "data": {
      "application/vnd.jupyter.widget-view+json": {
       "model_id": "b79c3447da9d431a8024d2bb252312ab",
       "version_major": 2,
       "version_minor": 0
      },
      "text/plain": [
       "Map(bottom=87102.0, center=[51.82050047836314, -8.298797607421877], controls=(WidgetControl(options=['position…"
      ]
     },
     "metadata": {},
     "output_type": "display_data"
    }
   ],
   "source": [
    "#Layer NDWI AND SENTINEL-1 FLOOD MASK\n",
    "\n",
    "# Loads Sentinel-2 data for the post-flood period\n",
    "post_flood_sentinel2 = ee.ImageCollection('COPERNICUS/S2') \\\n",
    "    .filterBounds(aoi) \\\n",
    "    .filterDate(post_flood_start, post_flood_end) \\\n",
    "    .filter(ee.Filter.lt('CLOUDY_PIXEL_PERCENTAGE', 10))  # Filters out cloudy images\n",
    "\n",
    "# Function to calculate NDWI\n",
    "def add_ndwi(image):\n",
    "    ndwi = image.normalizedDifference(['B3', 'B8']).rename('NDWI')\n",
    "    return image.addBands(ndwi)\n",
    "\n",
    "# Applies NDWI calculation to the collection\n",
    "ndwi_collection = post_flood_sentinel2.map(add_ndwi)\n",
    "\n",
    "# Gets the median NDWI image\n",
    "ndwi_image = ndwi_collection.median()\n",
    "\n",
    "# Defines a threshold for NDWI (values > 0.3 indicate water)\n",
    "ndwi_threshold = 0.3\n",
    "ndwi_water_mask = ndwi_image.select('NDWI').gt(ndwi_threshold)\n",
    "\n",
    "# Adds NDWI water mask to the map\n",
    "Map.addLayer(ndwi_water_mask.clip(aoi), {'min': 0, 'max': 1, 'palette': ['white', 'blue']}, 'NDWI Water Mask')\n",
    "\n",
    "# Compares with Sentinel-1 flood mask\n",
    "Map.addLayer(flood_mask.clip(aoi), {'min': 0, 'max': 1, 'palette': ['white', 'green']}, 'Sentinel-1 Flood Mask')\n",
    "Map.centerObject(aoi)\n",
    "Map"
   ]
  },
  {
   "cell_type": "markdown",
   "id": "3c688aae",
   "metadata": {},
   "source": [
    "EXPLANATION\n",
    "\n",
    "The NDWI water mask (blue) represents water bodies detected by Sentinel-2.\n",
    "\n",
    "The Sentinel-1 flood mask (green) represents flooded areas detected by Sentinel-1.\n",
    "\n",
    "Overlaying the two masks to see how well they align.\n",
    "\n",
    "Here we look for areas where both masks (blue and green) overlap. These are likely true flooded areas.\n",
    "\n",
    "Areas where only one mask detects water may indicate false positives or false negatives."
   ]
  },
  {
   "cell_type": "markdown",
   "id": "484ad7e4",
   "metadata": {},
   "source": [
    "Visual Comparison\n"
   ]
  }
 ],
 "metadata": {
  "kernelspec": {
   "display_name": "base",
   "language": "python",
   "name": "python3"
  },
  "language_info": {
   "codemirror_mode": {
    "name": "ipython",
    "version": 3
   },
   "file_extension": ".py",
   "mimetype": "text/x-python",
   "name": "python",
   "nbconvert_exporter": "python",
   "pygments_lexer": "ipython3",
   "version": "3.12.3"
  }
 },
 "nbformat": 4,
 "nbformat_minor": 5
}
