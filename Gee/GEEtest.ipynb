{
 "cells": [
  {
   "cell_type": "markdown",
   "id": "6f7dd860",
   "metadata": {},
   "source": [
    "# Abstract\n",
    "\n",
    "Floods are among the most devastating natural disasters, causing significant economic, social, and environmental damage. \n",
    "Timely and accurate flood detection is crucial for disaster response and mitigation efforts. \n",
    "This project presents a flood detection system based on Sentinel-1 Synthetic Aperture Radar (SAR) data, validated against a water mask derived from Sentinel-2 optical imagery using the Normalized Difference Water Index (NDWI).\n",
    "\n",
    "The methodology involved the preprocessing of SAR and optical data, calculation of NDWI, generation of flood masks, and validation through a confusion matrix analysis.\n",
    "Results showed that the SAR-based flood mask achieved a precision of 100%, indicating a high reliability in positively identified flood areas, but a recall of 6.39%, highlighting missed flood detections.\n",
    "\n",
    "Limitations included the absence of validation data and the influence of cloud cover on optical imagery. \n",
    "Despite these challenges, the project demonstrated the potential of remote sensing technologies for flood detection and provides a foundation for future work.\n"
   ]
  },
  {
   "cell_type": "markdown",
   "id": "c5ae01eb",
   "metadata": {},
   "source": [
    "# Chapter 1: Introduction\n",
    "\n",
    "This project aims to perform flood detection using Sentinel-1 satellite imagery and the Google Earth Engine platform. By comparing radar images from pre- and post-flood periods, we can identify flooded areas and visualize water extent changes over time.\n",
    "\n",
    "- Set up the environment and initialize Google Earth Engine.\n",
    "- Define the Area of Interest (AOI) and fetch satellite images.\n",
    "- Process and visualize the data to detect changes in water-covered areas.\n"
   ]
  },
  {
   "cell_type": "markdown",
   "id": "f0cb609c",
   "metadata": {},
   "source": [
    "# Chapter 2: Setting Up the Environment\n",
    "\n",
    "In this phase, we import necessary libraries and authenticate access to Google Earth Engine."
   ]
  },
  {
   "cell_type": "code",
   "execution_count": 1,
   "id": "19b4ea4a",
   "metadata": {},
   "outputs": [],
   "source": [
    "import ee\n",
    "import geemap\n",
    "import os\n",
    "import requests\n",
    "import rasterio\n",
    "from matplotlib import pyplot as plt\n",
    "import seaborn as sns\n",
    "import numpy as np\n",
    "import pandas as pd\n",
    "\n",
    "\n",
    "\n",
    "\n",
    "# Initialize the Earth Engine API \n",
    "ee.Authenticate()\n",
    "ee.Initialize(project='atu-fyp')"
   ]
  },
  {
   "cell_type": "markdown",
   "id": "83224aab",
   "metadata": {},
   "source": [
    "# Chapter 3: Choosing the area and time range\n",
    "\n",
    "Defining the Area of Interest (AOI)\n",
    "\n",
    "\n",
    "According to The Irish Times: https://www.irishtimes.com/ireland/2023/10/19/cork-flooding-floods-in-co-cork-absolutely-devastating-as-safety-warning-issued-to-motorists/\n",
    "\n",
    "We define the AOI for Cork, Ireland, which was heavily affected by floods in 2023. This AOI will be used to fetch and analyze satellite images."
   ]
  },
  {
   "cell_type": "markdown",
   "id": "d10ce54e",
   "metadata": {},
   "source": [
    "Importing Libraries & Starting Earth Engine\n",
    "In this phase, we import necessary libraries and initialize Google Earth Engine to fetch and process satellite images for a specific area and time range."
   ]
  },
  {
   "cell_type": "code",
   "execution_count": 2,
   "id": "ccb0af4d",
   "metadata": {},
   "outputs": [
    {
     "data": {
      "text/html": [
       "\n",
       "            <style>\n",
       "                .geemap-dark {\n",
       "                    --jp-widgets-color: white;\n",
       "                    --jp-widgets-label-color: white;\n",
       "                    --jp-ui-font-color1: white;\n",
       "                    --jp-layout-color2: #454545;\n",
       "                    background-color: #383838;\n",
       "                }\n",
       "\n",
       "                .geemap-dark .jupyter-button {\n",
       "                    --jp-layout-color3: #383838;\n",
       "                }\n",
       "\n",
       "                .geemap-colab {\n",
       "                    background-color: var(--colab-primary-surface-color, white);\n",
       "                }\n",
       "\n",
       "                .geemap-colab .jupyter-button {\n",
       "                    --jp-layout-color3: var(--colab-primary-surface-color, white);\n",
       "                }\n",
       "            </style>\n",
       "            "
      ],
      "text/plain": [
       "<IPython.core.display.HTML object>"
      ]
     },
     "metadata": {},
     "output_type": "display_data"
    },
    {
     "data": {
      "application/vnd.jupyter.widget-view+json": {
       "model_id": "3ea74f1a3fe04fb99c6225f25cf1d61d",
       "version_major": 2,
       "version_minor": 0
      },
      "text/plain": [
       "Map(center=[51.8691, -8.2646], controls=(WidgetControl(options=['position', 'transparent_bg'], widget=SearchDa…"
      ]
     },
     "metadata": {},
     "output_type": "display_data"
    }
   ],
   "source": [
    "# Define the Area of Interest (AOI)\n",
    "def create_aoi(lat_north, lat_south, lon_west, lon_east, buffer_size=1000):\n",
    "    \"\"\"\n",
    "    Creates an AOI polygon with a buffer.\n",
    "    Args:\n",
    "        lat_north (float): Northern latitude.\n",
    "        lat_south (float): Southern latitude.\n",
    "        lon_west (float): Western longitude.\n",
    "        lon_east (float): Eastern longitude.\n",
    "        buffer_size (int): Buffer size in meters.\n",
    "    Returns:\n",
    "        ee.Geometry: Buffered AOI polygon.\n",
    "    \"\"\"\n",
    "    return ee.Geometry.Polygon([\n",
    "        [\n",
    "            [lon_west, lat_north],\n",
    "            [lon_west, lat_south],\n",
    "            [lon_east, lat_south],\n",
    "            [lon_east, lat_north]\n",
    "        ]\n",
    "    ]).buffer(buffer_size)\n",
    "\n",
    "# Usage\n",
    "aoi = create_aoi(51.95, 51.80, -8.60, -8.15)\n",
    "\n",
    "# Initialize the map\n",
    "Map = geemap.Map(center=[51.8691, -8.2646], zoom=10)\n",
    "Map.addLayer(aoi, {'color': 'brown'}, 'Area of Interest')\n",
    "Map"
   ]
  },
  {
   "cell_type": "code",
   "execution_count": 3,
   "id": "54863d48",
   "metadata": {},
   "outputs": [
    {
     "data": {
      "text/html": [
       "\n",
       "            <style>\n",
       "                .geemap-dark {\n",
       "                    --jp-widgets-color: white;\n",
       "                    --jp-widgets-label-color: white;\n",
       "                    --jp-ui-font-color1: white;\n",
       "                    --jp-layout-color2: #454545;\n",
       "                    background-color: #383838;\n",
       "                }\n",
       "\n",
       "                .geemap-dark .jupyter-button {\n",
       "                    --jp-layout-color3: #383838;\n",
       "                }\n",
       "\n",
       "                .geemap-colab {\n",
       "                    background-color: var(--colab-primary-surface-color, white);\n",
       "                }\n",
       "\n",
       "                .geemap-colab .jupyter-button {\n",
       "                    --jp-layout-color3: var(--colab-primary-surface-color, white);\n",
       "                }\n",
       "            </style>\n",
       "            "
      ],
      "text/plain": [
       "<IPython.core.display.HTML object>"
      ]
     },
     "metadata": {},
     "output_type": "display_data"
    }
   ],
   "source": [
    "# Define date ranges for pre-flood and post-flood periods\n",
    "def define_date_ranges(pre_start, pre_end, post_start, post_end):\n",
    "    \"\"\"\n",
    "    Defines date ranges for pre-flood and post-flood periods.\n",
    "    Args:\n",
    "        pre_start (str): Start date for pre-flood period (YYYY-MM-DD).\n",
    "        pre_end (str): End date for pre-flood period (YYYY-MM-DD).\n",
    "        post_start (str): Start date for post-flood period (YYYY-MM-DD).\n",
    "        post_end (str): End date for post-flood period (YYYY-MM-DD).\n",
    "    Returns:\n",
    "        dict: Dictionary containing the date ranges.\n",
    "    \"\"\"\n",
    "    return {\n",
    "        'pre_flood_start': pre_start,\n",
    "        'pre_flood_end': pre_end,\n",
    "        'post_flood_start': post_start,\n",
    "        'post_flood_end': post_end\n",
    "    }\n",
    "\n",
    "# Usage\n",
    "date_ranges = define_date_ranges('2023-09-01', '2023-09-30', '2023-10-01', '2023-10-31')\n",
    "pre_flood_start = date_ranges['pre_flood_start']\n",
    "pre_flood_end = date_ranges['pre_flood_end']\n",
    "post_flood_start = date_ranges['post_flood_start']\n",
    "post_flood_end = date_ranges['post_flood_end']"
   ]
  },
  {
   "cell_type": "markdown",
   "id": "5aa0d238",
   "metadata": {},
   "source": [
    "# Chapter 4: Data collection Loading and Visualization\n",
    "\n",
    "## 4.1 Loading Sentinel-1 Data\n",
    "This section loads and filters Sentinel-1 satellite radar data for the specified flood event timeframes.  \n",
    "It prepares the data for analysis by applying filters such as date, area, and polarization."
   ]
  },
  {
   "cell_type": "code",
   "execution_count": 4,
   "id": "6bcb9eb8",
   "metadata": {},
   "outputs": [
    {
     "data": {
      "text/html": [
       "\n",
       "            <style>\n",
       "                .geemap-dark {\n",
       "                    --jp-widgets-color: white;\n",
       "                    --jp-widgets-label-color: white;\n",
       "                    --jp-ui-font-color1: white;\n",
       "                    --jp-layout-color2: #454545;\n",
       "                    background-color: #383838;\n",
       "                }\n",
       "\n",
       "                .geemap-dark .jupyter-button {\n",
       "                    --jp-layout-color3: #383838;\n",
       "                }\n",
       "\n",
       "                .geemap-colab {\n",
       "                    background-color: var(--colab-primary-surface-color, white);\n",
       "                }\n",
       "\n",
       "                .geemap-colab .jupyter-button {\n",
       "                    --jp-layout-color3: var(--colab-primary-surface-color, white);\n",
       "                }\n",
       "            </style>\n",
       "            "
      ],
      "text/plain": [
       "<IPython.core.display.HTML object>"
      ]
     },
     "metadata": {},
     "output_type": "display_data"
    }
   ],
   "source": [
    "# Load Sentinel-1 data\n",
    "def load_sentinel1_data(start_date, end_date, aoi):\n",
    "    \"\"\"\n",
    "    Loads Sentinel-1 GRD data for a given date range and AOI.\n",
    "    Args:\n",
    "        start_date (str): Start date (YYYY-MM-DD).\n",
    "        end_date (str): End date (YYYY-MM-DD).\n",
    "        aoi (ee.Geometry): Area of Interest.\n",
    "    Returns:\n",
    "        ee.Image: Median composite of Sentinel-1 data.\n",
    "    \"\"\"\n",
    "    return ee.ImageCollection('COPERNICUS/S1_GRD') \\\n",
    "        .filterBounds(aoi) \\\n",
    "        .filterDate(start_date, end_date) \\\n",
    "        .filter(ee.Filter.listContains('transmitterReceiverPolarisation', 'VV')) \\\n",
    "        .filter(ee.Filter.eq('instrumentMode', 'IW')) \\\n",
    "        .select('VV').median()\n",
    "\n",
    "# Example usage\n",
    "pre_flood_image = load_sentinel1_data(pre_flood_start, pre_flood_end, aoi)\n",
    "post_flood_image = load_sentinel1_data(post_flood_start, post_flood_end, aoi)"
   ]
  },
  {
   "cell_type": "code",
   "execution_count": 5,
   "id": "f143224a",
   "metadata": {},
   "outputs": [
    {
     "data": {
      "text/html": [
       "\n",
       "            <style>\n",
       "                .geemap-dark {\n",
       "                    --jp-widgets-color: white;\n",
       "                    --jp-widgets-label-color: white;\n",
       "                    --jp-ui-font-color1: white;\n",
       "                    --jp-layout-color2: #454545;\n",
       "                    background-color: #383838;\n",
       "                }\n",
       "\n",
       "                .geemap-dark .jupyter-button {\n",
       "                    --jp-layout-color3: #383838;\n",
       "                }\n",
       "\n",
       "                .geemap-colab {\n",
       "                    background-color: var(--colab-primary-surface-color, white);\n",
       "                }\n",
       "\n",
       "                .geemap-colab .jupyter-button {\n",
       "                    --jp-layout-color3: var(--colab-primary-surface-color, white);\n",
       "                }\n",
       "            </style>\n",
       "            "
      ],
      "text/plain": [
       "<IPython.core.display.HTML object>"
      ]
     },
     "metadata": {},
     "output_type": "display_data"
    },
    {
     "data": {
      "application/vnd.jupyter.widget-view+json": {
       "model_id": "3ea74f1a3fe04fb99c6225f25cf1d61d",
       "version_major": 2,
       "version_minor": 0
      },
      "text/plain": [
       "Map(center=[51.8691, -8.2646], controls=(WidgetControl(options=['position', 'transparent_bg'], widget=SearchDa…"
      ]
     },
     "metadata": {},
     "output_type": "display_data"
    }
   ],
   "source": [
    "#Usage\n",
    "pre_flood_image = load_sentinel1_data(pre_flood_start, pre_flood_end, aoi)\n",
    "post_flood_image = load_sentinel1_data(post_flood_start, post_flood_end, aoi)\n",
    "\n",
    "# Add pre-flood and post-flood images to the map\n",
    "Map.addLayer(pre_flood_image.clip(aoi), {'min': -20, 'max': 0}, 'Pre-Flood VV')\n",
    "Map.addLayer(post_flood_image.clip(aoi), {'min': -20, 'max': 0}, 'Post-Flood VV')\n",
    "Map.centerObject(aoi)\n",
    "Map"
   ]
  },
  {
   "cell_type": "code",
   "execution_count": 6,
   "id": "15c37a23",
   "metadata": {},
   "outputs": [
    {
     "data": {
      "text/html": [
       "\n",
       "            <style>\n",
       "                .geemap-dark {\n",
       "                    --jp-widgets-color: white;\n",
       "                    --jp-widgets-label-color: white;\n",
       "                    --jp-ui-font-color1: white;\n",
       "                    --jp-layout-color2: #454545;\n",
       "                    background-color: #383838;\n",
       "                }\n",
       "\n",
       "                .geemap-dark .jupyter-button {\n",
       "                    --jp-layout-color3: #383838;\n",
       "                }\n",
       "\n",
       "                .geemap-colab {\n",
       "                    background-color: var(--colab-primary-surface-color, white);\n",
       "                }\n",
       "\n",
       "                .geemap-colab .jupyter-button {\n",
       "                    --jp-layout-color3: var(--colab-primary-surface-color, white);\n",
       "                }\n",
       "            </style>\n",
       "            "
      ],
      "text/plain": [
       "<IPython.core.display.HTML object>"
      ]
     },
     "metadata": {},
     "output_type": "display_data"
    },
    {
     "name": "stdout",
     "output_type": "stream",
     "text": [
      "Saved: C:\\Users\\Neo\\Desktop\\FYP\\Flood-Detection-System-FYP\\Gee\\images\\flood_images\\Pre_Flood_VV.png\n",
      "Saved: C:\\Users\\Neo\\Desktop\\FYP\\Flood-Detection-System-FYP\\Gee\\images\\flood_images\\Post_Flood_VV.png\n"
     ]
    }
   ],
   "source": [
    "# Define the export folder and filenames\n",
    "export_folder = r'C:\\Users\\Neo\\Desktop\\FYP\\Flood-Detection-System-FYP\\Gee\\images\\flood_images'\n",
    "pre_flood_filename = 'Pre_Flood_VV.png'\n",
    "post_flood_filename = 'Post_Flood_VV.png'\n",
    "\n",
    "# Ensure the export folder exists\n",
    "os.makedirs(export_folder, exist_ok=True)\n",
    "\n",
    "# Function to download an image as a PNG\n",
    "def download_image_as_png(image, filename, vis_params=None):\n",
    "    try:\n",
    "        # Generate the thumbnail URL\n",
    "        url = image.getThumbURL({\n",
    "            'dimensions': 1024,  # Set the dimensions of the PNG\n",
    "            'region': aoi.getInfo()['coordinates'],  # Export region\n",
    "            'format': 'png',  # Save as PNG\n",
    "            'min': -20,  # Minimum value for visualization\n",
    "            'max': 0,  # Maximum value for visualization\n",
    "            'palette': ['black', 'white']  # Grayscale palette\n",
    "        })\n",
    "        # Download the image\n",
    "        response = requests.get(url, stream=True)\n",
    "        if response.status_code == 200:\n",
    "            filepath = os.path.join(export_folder, filename)\n",
    "            with open(filepath, 'wb') as f:\n",
    "                for chunk in response.iter_content(chunk_size=1024):\n",
    "                    f.write(chunk)\n",
    "            print(f\"Saved: {filepath}\")\n",
    "        else:\n",
    "            print(f\"Failed to download {filename}. HTTP Status Code: {response.status_code}\")\n",
    "    except Exception as e:\n",
    "        print(f\"Error downloading {filename}: {e}\")\n",
    "\n",
    "# Download Pre-Flood VV image as PNG\n",
    "download_image_as_png(pre_flood_image, pre_flood_filename)\n",
    "\n",
    "# Download Post-Flood VV image as PNG\n",
    "download_image_as_png(post_flood_image, post_flood_filename)"
   ]
  },
  {
   "cell_type": "markdown",
   "id": "7fdc744f",
   "metadata": {},
   "source": [
    "Explanation\n",
    "\n",
    "This section loads Sentinel-1 GRD data for pre-flood and post-flood periods and visualizes the median images."
   ]
  },
  {
   "cell_type": "markdown",
   "id": "9310d2bb",
   "metadata": {},
   "source": [
    "## 4.1 Water area analysis over time\n"
   ]
  },
  {
   "cell_type": "code",
   "execution_count": 7,
   "id": "385b6b3c",
   "metadata": {},
   "outputs": [
    {
     "data": {
      "text/html": [
       "\n",
       "            <style>\n",
       "                .geemap-dark {\n",
       "                    --jp-widgets-color: white;\n",
       "                    --jp-widgets-label-color: white;\n",
       "                    --jp-ui-font-color1: white;\n",
       "                    --jp-layout-color2: #454545;\n",
       "                    background-color: #383838;\n",
       "                }\n",
       "\n",
       "                .geemap-dark .jupyter-button {\n",
       "                    --jp-layout-color3: #383838;\n",
       "                }\n",
       "\n",
       "                .geemap-colab {\n",
       "                    background-color: var(--colab-primary-surface-color, white);\n",
       "                }\n",
       "\n",
       "                .geemap-colab .jupyter-button {\n",
       "                    --jp-layout-color3: var(--colab-primary-surface-color, white);\n",
       "                }\n",
       "            </style>\n",
       "            "
      ],
      "text/plain": [
       "<IPython.core.display.HTML object>"
      ]
     },
     "metadata": {},
     "output_type": "display_data"
    },
    {
     "data": {
      "image/png": "[encoded data removed]",
      "text/plain": [
       "<Figure size 1200x600 with 1 Axes>"
      ]
     },
     "metadata": {},
     "output_type": "display_data"
    }
   ],
   "source": [
    "# Full Collection\n",
    "full_collection = ee.ImageCollection('COPERNICUS/S1_GRD') \\\n",
    "    .filterBounds(aoi) \\\n",
    "    .filterDate('2023-09-01', '2023-10-31') \\\n",
    "    .filter(ee.Filter.listContains('transmitterReceiverPolarisation', 'VV')) \\\n",
    "    .filter(ee.Filter.eq('instrumentMode', 'IW'))\n",
    "\n",
    "# Function to calculate water extent for each image\n",
    "def calc_water_extent(image):\n",
    "    water = image.select('VV').lt(-15)  # Pixels with VV backscatter below -15 dB are classified as floodwater.\n",
    "    area = water.multiply(ee.Image.pixelArea())\n",
    "    stats = area.reduceRegion(\n",
    "        reducer=ee.Reducer.sum(),\n",
    "        geometry=aoi,\n",
    "        scale=30\n",
    "    )\n",
    "    return image.set({'water_area': stats.get('VV'), 'date': image.date().format()})\n",
    "\n",
    "# Apply function to image collection\n",
    "time_series = full_collection.map(calc_water_extent)\n",
    "\n",
    "# Export results for plotting\n",
    "timeseries_stats_m2 = time_series.aggregate_array('water_area').getInfo()\n",
    "dates = time_series.aggregate_array('date').getInfo()\n",
    "\n",
    "# Convert area from m² to km²\n",
    "timeseries_stats_km2 = [value / 1e6 if value else 0 for value in timeseries_stats_m2]\n",
    "\n",
    "# Plotting\n",
    "import matplotlib.pyplot as plt\n",
    "plt.figure(figsize=(12, 6))\n",
    "plt.plot(dates, timeseries_stats_km2, marker='o')\n",
    "plt.title('Water Area Time Series')\n",
    "plt.ylabel('Area (km²)')\n",
    "plt.xticks(rotation=45)\n",
    "plt.grid()\n",
    "plt.savefig('images/charts/Water_Area_Time_Series_km2.png', dpi=300, bbox_inches='tight')\n",
    "plt.show()\n"
   ]
  },
  {
   "cell_type": "markdown",
   "id": "065db069",
   "metadata": {},
   "source": [
    "# Chapter 5: Analyzing Changes\n",
    "This section calculates the difference between pre-flood and post-flood images to detect changes in water-covered areas. A threshold is applied to identify flooded areas.\n",
    "\n",
    "## 5.1 Calculate the Difference Between Pre-Flood and Post-Flood Images\n",
    "We subtract the pre-flood image from the post-flood image to detect changes in water-covered areas. The difference image highlights areas where water levels have changed significantly.\n",
    "\n",
    "## 5.2 Thresholding to Identify Flooded Areas\n",
    "We apply a threshold to the difference image to create a binary flood mask. Pixels with values above the threshold are considered flooded. This mask is then visualized on the map.\n",
    "\n",
    "This next cell calculates the difference between the post-flood and pre-flood images by subtracting the pre-flood image from the post-flood image. The resulting difference image highlights changes in the area. The difference image is then added to the map with a color palette to visualize the changes.\n"
   ]
  },
  {
   "cell_type": "code",
   "execution_count": null,
   "id": "c1a59d76",
   "metadata": {},
   "outputs": [
    {
     "data": {
      "text/html": [
       "\n",
       "            <style>\n",
       "                .geemap-dark {\n",
       "                    --jp-widgets-color: white;\n",
       "                    --jp-widgets-label-color: white;\n",
       "                    --jp-ui-font-color1: white;\n",
       "                    --jp-layout-color2: #454545;\n",
       "                    background-color: #383838;\n",
       "                }\n",
       "\n",
       "                .geemap-dark .jupyter-button {\n",
       "                    --jp-layout-color3: #383838;\n",
       "                }\n",
       "\n",
       "                .geemap-colab {\n",
       "                    background-color: var(--colab-primary-surface-color, white);\n",
       "                }\n",
       "\n",
       "                .geemap-colab .jupyter-button {\n",
       "                    --jp-layout-color3: var(--colab-primary-surface-color, white);\n",
       "                }\n",
       "            </style>\n",
       "            "
      ],
      "text/plain": [
       "<IPython.core.display.HTML object>"
      ]
     },
     "metadata": {},
     "output_type": "display_data"
    },
    {
     "name": "stdout",
     "output_type": "stream",
     "text": [
      "Difference Image Info: {'type': 'Image', 'bands': [{'id': 'VV', 'data_type': {'type': 'PixelType', 'precision': 'double'}, 'crs': 'EPSG:4326', 'crs_transform': [1, 0, 0, 0, 1, 0]}]}\n",
      "Generated URL: https://earthengine.googleapis.com/v1/projects/atu-fyp/thumbnails/f10b90ad6cf22358521b1c46855a1d2e-438e6d213f95ad32a9760c2ab51cde41:getPixels\n",
      "HTTP Status Code: 200\n",
      "Saving to: C:\\Users\\Neo\\Desktop\\FYP\\Flood-Detection-System-FYP\\Gee\\images\\flood_images\\Difference_VV.png\n",
      "Saved: C:\\Users\\Neo\\Desktop\\FYP\\Flood-Detection-System-FYP\\Gee\\images\\flood_images\\Difference_VV.png\n"
     ]
    },
    {
     "data": {
      "application/vnd.jupyter.widget-view+json": {
       "model_id": "3ea74f1a3fe04fb99c6225f25cf1d61d",
       "version_major": 2,
       "version_minor": 0
      },
      "text/plain": [
       "Map(bottom=173775.0, center=[51.87510724712848, -8.375], controls=(WidgetControl(options=['position', 'transpa…"
      ]
     },
     "metadata": {},
     "output_type": "display_data"
    }
   ],
   "source": [
    "# Define the export folder and filename\n",
    "export_folder = r'C:\\Users\\Neo\\Desktop\\FYP\\Flood-Detection-System-FYP\\Gee\\images\\flood_images'\n",
    "filename = 'Difference_VV.png'\n",
    "\n",
    "# Ensure the export folder exists\n",
    "os.makedirs(export_folder, exist_ok=True)\n",
    "\n",
    "# Calculate the difference between post-flood and pre-flood images\n",
    "difference_image = post_flood_image.subtract(pre_flood_image)\n",
    "\n",
    "# Debug: Print the difference image info\n",
    "print(\"Difference Image Info:\", difference_image.getInfo())\n",
    "\n",
    "# Save the difference image as PNG\n",
    "def download_difference_image_as_png(image, filename):\n",
    "    try:\n",
    "        # Generate the thumbnail URL\n",
    "        url = image.getThumbURL({\n",
    "            'dimensions': 1024,  # Set the dimensions of the PNG\n",
    "            'region': aoi.getInfo()['coordinates'],  # Export region\n",
    "            'format': 'png',  # Save as PNG\n",
    "            'min': -5,  # Minimum value for visualization\n",
    "            'max': 5,  # Maximum value for visualization\n",
    "            'palette': ['red', 'white', 'blue']  # Color palette for difference\n",
    "        })\n",
    "        # Debug: Print the generated URL\n",
    "        print(f\"Generated URL: {url}\")\n",
    "        #\n",
    "        #\n",
    "        # Download the image\n",
    "        response = requests.get(url, stream=True)\n",
    "        # Debug: Print the HTTP status code\n",
    "        print(f\"HTTP Status Code: {response.status_code}\")\n",
    "\n",
    "        if response.status_code == 200:\n",
    "            filepath = os.path.join(export_folder, filename)\n",
    "            # Debug: Print the file path\n",
    "            print(f\"Saving to: {filepath}\")\n",
    "\n",
    "            with open(filepath, 'wb') as f:\n",
    "                for chunk in response.iter_content(chunk_size=1024):\n",
    "                    f.write(chunk)\n",
    "            print(f\"Saved: {filepath}\")\n",
    "        else:\n",
    "            print(f\"Failed to download {filename}. HTTP Status Code: {response.status_code}\")\n",
    "    except Exception as e:\n",
    "        print(f\"Error downloading {filename}: {e}\")\n",
    "\n",
    "# Download the difference image\n",
    "download_difference_image_as_png(difference_image, filename)\n",
    "\n",
    "# Add the difference image to the map\n",
    "Map.addLayer(difference_image.clip(aoi), {'min': -5, 'max': 5, 'palette': ['blue', 'white', 'red']}, 'Difference Image')\n",
    "Map.centerObject(aoi)\n",
    "Map"
   ]
  },
  {
   "cell_type": "markdown",
   "id": "10e5ed70",
   "metadata": {},
   "source": [
    "EXPLANATION\n",
    "\n",
    "We use colors to show the changes. Red means a lot of change, blue means less change, and white means no change.\n",
    "Flood Mask: We use blue to show the places where we think there was a flood. This helps us see the flooded areas on the map."
   ]
  },
  {
   "cell_type": "markdown",
   "id": "9edcdc83",
   "metadata": {},
   "source": [
    "## 5.2 Thresholding to Identify Flooded Areas\n",
    "We apply a threshold to the difference image to create a binary flood mask. Pixels with values above the threshold are considered flooded. This mask is then visualized on the map."
   ]
  },
  {
   "cell_type": "code",
   "execution_count": 9,
   "id": "aa7107fd",
   "metadata": {},
   "outputs": [
    {
     "data": {
      "text/html": [
       "\n",
       "            <style>\n",
       "                .geemap-dark {\n",
       "                    --jp-widgets-color: white;\n",
       "                    --jp-widgets-label-color: white;\n",
       "                    --jp-ui-font-color1: white;\n",
       "                    --jp-layout-color2: #454545;\n",
       "                    background-color: #383838;\n",
       "                }\n",
       "\n",
       "                .geemap-dark .jupyter-button {\n",
       "                    --jp-layout-color3: #383838;\n",
       "                }\n",
       "\n",
       "                .geemap-colab {\n",
       "                    background-color: var(--colab-primary-surface-color, white);\n",
       "                }\n",
       "\n",
       "                .geemap-colab .jupyter-button {\n",
       "                    --jp-layout-color3: var(--colab-primary-surface-color, white);\n",
       "                }\n",
       "            </style>\n",
       "            "
      ],
      "text/plain": [
       "<IPython.core.display.HTML object>"
      ]
     },
     "metadata": {},
     "output_type": "display_data"
    },
    {
     "data": {
      "application/vnd.jupyter.widget-view+json": {
       "model_id": "3ea74f1a3fe04fb99c6225f25cf1d61d",
       "version_major": 2,
       "version_minor": 0
      },
      "text/plain": [
       "Map(bottom=347251.0, center=[51.87510724712848, -8.375], controls=(WidgetControl(options=['position', 'transpa…"
      ]
     },
     "metadata": {},
     "output_type": "display_data"
    }
   ],
   "source": [
    "# Define a threshold for flood detection\n",
    "threshold = 2  # Adjust this value based on your analysis\n",
    "\n",
    "# Create a binary flood mask\n",
    "flood_mask = difference_image.gt(threshold)\n",
    "\n",
    "# Add the flood mask to the map\n",
    "Map.addLayer(flood_mask.clip(aoi), {'min': 0, 'max': 1, 'palette': ['white', 'blue']}, 'Flood Mask')\n",
    "Map.centerObject(aoi)\n",
    "Map"
   ]
  },
  {
   "cell_type": "markdown",
   "id": "46fb0ad5",
   "metadata": {},
   "source": [
    "EXPLANATION\n",
    "\n",
    "Thresholding: We decide how much change means there was a flood.  If the change is more than 2, there was a flood."
   ]
  },
  {
   "cell_type": "markdown",
   "id": "3413a54f",
   "metadata": {},
   "source": [
    "# Chapter 6: Exporting and Visualizing Results\n",
    "\n",
    "Export the Flood Mask\n",
    "Exporting the flood mask to Google Drive for further analysis.\n",
    "\n"
   ]
  },
  {
   "cell_type": "code",
   "execution_count": 10,
   "id": "1e34e371",
   "metadata": {},
   "outputs": [
    {
     "data": {
      "text/html": [
       "\n",
       "            <style>\n",
       "                .geemap-dark {\n",
       "                    --jp-widgets-color: white;\n",
       "                    --jp-widgets-label-color: white;\n",
       "                    --jp-ui-font-color1: white;\n",
       "                    --jp-layout-color2: #454545;\n",
       "                    background-color: #383838;\n",
       "                }\n",
       "\n",
       "                .geemap-dark .jupyter-button {\n",
       "                    --jp-layout-color3: #383838;\n",
       "                }\n",
       "\n",
       "                .geemap-colab {\n",
       "                    background-color: var(--colab-primary-surface-color, white);\n",
       "                }\n",
       "\n",
       "                .geemap-colab .jupyter-button {\n",
       "                    --jp-layout-color3: var(--colab-primary-surface-color, white);\n",
       "                }\n",
       "            </style>\n",
       "            "
      ],
      "text/plain": [
       "<IPython.core.display.HTML object>"
      ]
     },
     "metadata": {},
     "output_type": "display_data"
    },
    {
     "name": "stdout",
     "output_type": "stream",
     "text": [
      "Export task started. Check Google Drive for the flood mask.\n"
     ]
    }
   ],
   "source": [
    "# Export the flood mask to Google Drive\n",
    "task = ee.batch.Export.image.toDrive(\n",
    "    image=flood_mask.clip(aoi),\n",
    "    description='FloodMask',\n",
    "    folder='EarthEngineImages',\n",
    "    scale=30,\n",
    "    region=aoi\n",
    ")\n",
    "task.start()\n",
    "\n",
    "print(\"Export task started. Check Google Drive for the flood mask.\")"
   ]
  },
  {
   "cell_type": "markdown",
   "id": "9befd7f9",
   "metadata": {},
   "source": [
    "## 6.2 Visualizing Locally\n",
    "Visualizing the exported flood mask locally."
   ]
  },
  {
   "cell_type": "markdown",
   "id": "412325b2",
   "metadata": {},
   "source": [
    "Visualizing locally"
   ]
  },
  {
   "cell_type": "code",
   "execution_count": 11,
   "id": "9239c65b",
   "metadata": {},
   "outputs": [
    {
     "data": {
      "text/html": [
       "\n",
       "            <style>\n",
       "                .geemap-dark {\n",
       "                    --jp-widgets-color: white;\n",
       "                    --jp-widgets-label-color: white;\n",
       "                    --jp-ui-font-color1: white;\n",
       "                    --jp-layout-color2: #454545;\n",
       "                    background-color: #383838;\n",
       "                }\n",
       "\n",
       "                .geemap-dark .jupyter-button {\n",
       "                    --jp-layout-color3: #383838;\n",
       "                }\n",
       "\n",
       "                .geemap-colab {\n",
       "                    background-color: var(--colab-primary-surface-color, white);\n",
       "                }\n",
       "\n",
       "                .geemap-colab .jupyter-button {\n",
       "                    --jp-layout-color3: var(--colab-primary-surface-color, white);\n",
       "                }\n",
       "            </style>\n",
       "            "
      ],
      "text/plain": [
       "<IPython.core.display.HTML object>"
      ]
     },
     "metadata": {},
     "output_type": "display_data"
    },
    {
     "name": "stdout",
     "output_type": "stream",
     "text": [
      "File not found: C:\\\\Users\\\\Neo\\\\Desktop\\\\FYP\\\\geeimages\\\\FloodMask.tif\n"
     ]
    }
   ],
   "source": [
    "\n",
    "# Check if the file exists\n",
    "import os\n",
    "file_path = r\"C:\\\\Users\\\\Neo\\\\Desktop\\\\FYP\\\\geeimages\\\\FloodMask.tif\"\n",
    "if os.path.exists(file_path):\n",
    "    # Open the exported flood mask\n",
    "    with rasterio.open(file_path) as src:\n",
    "        flood_mask_image = src.read(1)\n",
    "\n",
    "    # Display the flood mask\n",
    "    plt.imshow(flood_mask_image, cmap='Blues', vmin=0, vmax=1)\n",
    "    plt.colorbar(label='Flood Mask')\n",
    "    plt.title('Flood Mask')\n",
    "    plt.show()\n",
    "else:\n",
    "    print(f\"File not found: {file_path}\")"
   ]
  },
  {
   "cell_type": "markdown",
   "id": "cccf65a9",
   "metadata": {},
   "source": [
    " ## 6.3 Comparison of Spatial and Temporal Resolution of Satellite Sensors\n",
    "\n",
    " This chart visualizes the spatial and temporal resolution of three widely used Earth observation satellites: Sentinel-1, Sentinel-2, and Landsat-8.\n",
    "\n",
    "Spatial resolution refers to the level of detail in the satellite pictures (measured in meters).\n",
    "\n",
    "Temporal resolution refers to how frequently the satellite captures images of the same area (measured in days).\n",
    "\n",
    "This comparison helps justify the selection of Sentinel-2 and Sentinel-1 for flood detection applications based on image detail and revisit frequency.\n",
    "\n",
    "Data Sources: ESA Sentinel Mission Overview , USGS Landsat-8 Overview "
   ]
  },
  {
   "cell_type": "code",
   "execution_count": 12,
   "id": "8b9c560e",
   "metadata": {},
   "outputs": [
    {
     "data": {
      "text/html": [
       "\n",
       "            <style>\n",
       "                .geemap-dark {\n",
       "                    --jp-widgets-color: white;\n",
       "                    --jp-widgets-label-color: white;\n",
       "                    --jp-ui-font-color1: white;\n",
       "                    --jp-layout-color2: #454545;\n",
       "                    background-color: #383838;\n",
       "                }\n",
       "\n",
       "                .geemap-dark .jupyter-button {\n",
       "                    --jp-layout-color3: #383838;\n",
       "                }\n",
       "\n",
       "                .geemap-colab {\n",
       "                    background-color: var(--colab-primary-surface-color, white);\n",
       "                }\n",
       "\n",
       "                .geemap-colab .jupyter-button {\n",
       "                    --jp-layout-color3: var(--colab-primary-surface-color, white);\n",
       "                }\n",
       "            </style>\n",
       "            "
      ],
      "text/plain": [
       "<IPython.core.display.HTML object>"
      ]
     },
     "metadata": {},
     "output_type": "display_data"
    },
    {
     "data": {
      "image/png": "[encoded data removed]",
      "text/plain": [
       "<Figure size 800x500 with 1 Axes>"
      ]
     },
     "metadata": {},
     "output_type": "display_data"
    }
   ],
   "source": [
    "satellites = ['Sentinel-2', 'Landsat-8', 'Sentinel-1']\n",
    "\n",
    "# Spatial resolution in meters for each satellite (lower = better detail)\n",
    "spatial_resolution = [10, 30, 10]\n",
    "\n",
    "# Temporal resolution in days (how often the satellite revisits the same location)\n",
    "temporal_resolution = [5, 16, 6]\n",
    "\n",
    "# Create an index for the x-axis (one for each satellite)\n",
    "x = range(len(satellites))\n",
    "\n",
    "# Define the width of each bar\n",
    "bar_width = 0.35\n",
    "\n",
    "# Create a new figure and axis object\n",
    "fig, ax = plt.subplots(figsize=(8, 5))  # Set figure size\n",
    "\n",
    "# Plot the spatial resolution bars (shift left by half bar width)\n",
    "ax.bar([i - bar_width/2 for i in x], spatial_resolution,\n",
    "       width=bar_width, label='Spatial Resolution (m)')\n",
    "\n",
    "# Plot the temporal resolution bars (shift right by half bar width)\n",
    "ax.bar([i + bar_width/2 for i in x], temporal_resolution,\n",
    "       width=bar_width, label='Temporal Resolution (days)')\n",
    "\n",
    "# Add labels and title\n",
    "ax.set_xlabel('Satellite')\n",
    "ax.set_title('Comparison of Spatial and Temporal Resolution')\n",
    "ax.set_xticks(x)  # Set the positions of the x-axis ticks\n",
    "ax.set_xticklabels(satellites)  # Label the x-axis ticks with satellite names\n",
    "ax.legend()  # Add a legend\n",
    "ax.grid(True, linestyle='--', alpha=0.5)  # Optional: add light grid lines\n",
    "\n",
    "# Adjust layout to avoid clipping\n",
    "plt.tight_layout()\n",
    "\n",
    "# Save the chart as an image file\n",
    "plt.savefig('images/charts/satellite_comparison.png')  \n",
    "plt.show()\n"
   ]
  },
  {
   "cell_type": "markdown",
   "id": "243f2c82",
   "metadata": {},
   "source": [
    "# Chapter 7: Refining the Threshold\n",
    "Experimenting with different threshold values (e.g., 1.5, 2.5) to improve flood detection accuracy\n",
    "Here we test different threshold values (e.g., 1.5, 2, 2.5, 3) to refine the flood detection process. Each threshold is applied to the difference image, and the resulting flood mask is visualized on the map. This helps us determine the optimal threshold for accurate flood detection."
   ]
  },
  {
   "cell_type": "code",
   "execution_count": 13,
   "id": "e4024c86",
   "metadata": {},
   "outputs": [
    {
     "data": {
      "text/html": [
       "\n",
       "            <style>\n",
       "                .geemap-dark {\n",
       "                    --jp-widgets-color: white;\n",
       "                    --jp-widgets-label-color: white;\n",
       "                    --jp-ui-font-color1: white;\n",
       "                    --jp-layout-color2: #454545;\n",
       "                    background-color: #383838;\n",
       "                }\n",
       "\n",
       "                .geemap-dark .jupyter-button {\n",
       "                    --jp-layout-color3: #383838;\n",
       "                }\n",
       "\n",
       "                .geemap-colab {\n",
       "                    background-color: var(--colab-primary-surface-color, white);\n",
       "                }\n",
       "\n",
       "                .geemap-colab .jupyter-button {\n",
       "                    --jp-layout-color3: var(--colab-primary-surface-color, white);\n",
       "                }\n",
       "            </style>\n",
       "            "
      ],
      "text/plain": [
       "<IPython.core.display.HTML object>"
      ]
     },
     "metadata": {},
     "output_type": "display_data"
    },
    {
     "data": {
      "application/vnd.jupyter.widget-view+json": {
       "model_id": "f67ecee129c24778a4e7360fb0951de1",
       "version_major": 2,
       "version_minor": 0
      },
      "text/plain": [
       "Map(center=[51.8691, -8.2646], controls=(WidgetControl(options=['position', 'transparent_bg'], widget=SearchDa…"
      ]
     },
     "metadata": {},
     "output_type": "display_data"
    }
   ],
   "source": [
    "# Defining a list of threshold values to test\n",
    "thresholds = [1.5, 2, 2.5, 3]\n",
    "\n",
    "# map to visualize the results\n",
    "Map = geemap.Map(center=[51.8691, -8.2646], zoom=10)\n",
    "\n",
    "# Loops through each threshold and add the flood mask to the map\n",
    "for threshold in thresholds:\n",
    "    flood_mask = difference_image.gt(threshold)\n",
    "    Map.addLayer(flood_mask.clip(aoi), {'min': 0, 'max': 1, 'palette': ['white', 'blue']}, f'Flood Mask (Threshold={threshold})')\n",
    "\n",
    "# Adds the AOI and difference image for reference\n",
    "Map.addLayer(aoi, {'color': 'red'}, 'Area of Interest')\n",
    "Map.addLayer(difference_image.clip(aoi), {'min': -5, 'max': 5, 'palette': ['red', 'white', 'blue']}, 'Difference Image')\n",
    "Map.centerObject(aoi)\n",
    "Map"
   ]
  },
  {
   "cell_type": "markdown",
   "id": "d30341cd",
   "metadata": {},
   "source": [
    "EXPLANATION\n",
    "\n",
    "Here wer are making sure we get it right\n",
    "\n",
    "Flood Masks for Different Thresholds: We use blue to show the places where we think there was a flood for each number we tried. This helps us see how each number works.\n",
    "\n",
    "Visualizing the Results: We look at the map to see how well each number works. We add the flood areas to the map for each number and see which one shows the floods most accurately.\n",
    "\n",
    "\n",
    "\n"
   ]
  },
  {
   "cell_type": "markdown",
   "id": "e1869588",
   "metadata": {},
   "source": [
    "# Chapter 8: Combining Sentinel-1 and Sentinel-2 DATA\n",
    "Sentinel-2 optical data used to calculate the Normalized Difference Water Index (NDWI), which is useful for validating the flood mask derived from Sentinel-1.\n",
    "\n",
    "We load Sentinel-2 optical data for the post-flood period and calculate the NDWI, which is a useful index for detecting water bodies. The NDWI is calculated using the green (B3) and near-infrared (B8) bands. The resulting NDWI image is visualized on the map.\n",
    "\n"
   ]
  },
  {
   "cell_type": "code",
   "execution_count": 14,
   "id": "b49dd03d",
   "metadata": {},
   "outputs": [
    {
     "data": {
      "text/html": [
       "\n",
       "            <style>\n",
       "                .geemap-dark {\n",
       "                    --jp-widgets-color: white;\n",
       "                    --jp-widgets-label-color: white;\n",
       "                    --jp-ui-font-color1: white;\n",
       "                    --jp-layout-color2: #454545;\n",
       "                    background-color: #383838;\n",
       "                }\n",
       "\n",
       "                .geemap-dark .jupyter-button {\n",
       "                    --jp-layout-color3: #383838;\n",
       "                }\n",
       "\n",
       "                .geemap-colab {\n",
       "                    background-color: var(--colab-primary-surface-color, white);\n",
       "                }\n",
       "\n",
       "                .geemap-colab .jupyter-button {\n",
       "                    --jp-layout-color3: var(--colab-primary-surface-color, white);\n",
       "                }\n",
       "            </style>\n",
       "            "
      ],
      "text/plain": [
       "<IPython.core.display.HTML object>"
      ]
     },
     "metadata": {},
     "output_type": "display_data"
    },
    {
     "data": {
      "application/vnd.jupyter.widget-view+json": {
       "model_id": "f67ecee129c24778a4e7360fb0951de1",
       "version_major": 2,
       "version_minor": 0
      },
      "text/plain": [
       "Map(center=[51.87510724712848, -8.375], controls=(WidgetControl(options=['position', 'transparent_bg'], widget…"
      ]
     },
     "metadata": {},
     "output_type": "display_data"
    }
   ],
   "source": [
    "# Load Sentinel-2 images after the flood\n",
    "post_flood_sentinel2 = ee.ImageCollection('COPERNICUS/S2') \\\n",
    "    .filterBounds(aoi) \\\n",
    "    .filterDate(post_flood_start, post_flood_end) \\\n",
    "    .filter(ee.Filter.lt('CLOUDY_PIXEL_PERCENTAGE', 10))\n",
    "\n",
    "# Function to calculate NDWI (Normalized Difference Water Index)\n",
    "def calculate_ndwi(image):\n",
    "    \"\"\"\n",
    "    Calculates NDWI for a given Sentinel-2 image.\n",
    "    Args:\n",
    "        image (ee.Image): A Sentinel-2 image.\n",
    "    Returns:\n",
    "        ee.Image: The input image with an added 'NDWI' band.\n",
    "    \"\"\"\n",
    "    return image.normalizedDifference(['B3', 'B8']).rename('NDWI')\n",
    "\n",
    "# Apply NDWI calculation\n",
    "ndwi_collection = post_flood_sentinel2.map(calculate_ndwi)\n",
    "\n",
    "# Create a median composite NDWI image\n",
    "ndwi_image = ndwi_collection.median()\n",
    "\n",
    "# Visualization parameters\n",
    "ndwi_vis_params = {\n",
    "    'bands': ['NDWI'],\n",
    "    'min': -0.3,\n",
    "    'max': 0.3,\n",
    "    'palette': ['white', 'blue']\n",
    "}\n",
    "\n",
    "# Add NDWI layer to the map\n",
    "Map.addLayer(ndwi_image.clip(aoi), ndwi_vis_params, 'NDWI')\n",
    "Map.centerObject(aoi)\n",
    "Map\n"
   ]
  },
  {
   "cell_type": "markdown",
   "id": "6e74488f",
   "metadata": {},
   "source": [
    "EXPLANATION\n",
    "\n",
    "Sentinel-1 and Sentinel-2 We use two different satellites to get pictures. Sentinel-1 sees through clouds and Sentinel-2 sees colors.\n",
    "\n",
    "NDWI Calculation We use Sentinel-2 to find water by looking at how much green and near-infrared light is reflected.\n",
    "\n",
    "NDWI Water Mask We color the places where we think there is water using the NDWI calculation.\n",
    "\n",
    "Comparing with Flood Mask We look at both the NDWI water mask and the flood mask from Sentinel-1 to see if they match.\n",
    "\n",
    "We check if the places we found with Sentinel-1 match the places we found with Sentinel-2. This helps us make sure we are finding the floods correctly.\n",
    "\n",
    "The NDWI layer is added to visualize and detect areas covered by water, enabling the identification of flood-affected zones by enhancing the contrast between water bodies and land in post-flood satellite pictures.\n"
   ]
  },
  {
   "cell_type": "markdown",
   "id": "a92bcd56",
   "metadata": {},
   "source": [
    "## Flood Detection Using Sentinel-2 and NDWI\n",
    "\n",
    "This section loads pre-flood and post-flood Sentinel-2 satellite images, standardizes the bands for consistent processing, and calculates the **Normalized Difference Water Index (NDWI)** for each period. \n",
    "\n",
    "Steps performed:\n",
    "1. **Load Sentinel-2 imagery** within the area of interest (AOI) and date ranges (pre-flood and post-flood periods).\n",
    "2. **Standardize bands** to only keep B3 (green) and B8 (near-infrared), which are needed to calculate NDWI.\n",
    "3. **Calculate NDWI** for each image using the formula:  \n",
    "   \\[\n",
    "   \\text{NDWI} = \\frac{B3 - B8}{B3 + B8}\n",
    "   \\]\n",
    "4. **Create median composites** for pre-flood and post-flood periods to reduce cloud cover effects.\n",
    "5. **Print minimum and maximum NDWI values** for each period to analyze changes in water presence.\n",
    "6. **Visualize**:\n",
    "    - Pre-flood NDWI map\n",
    "    - Post-flood NDWI map\n",
    "    - NDWI Difference map (Post-flood NDWI - Pre-flood NDWI)\n",
    "    - Flooded areas where NDWI increase exceeds 0.1 (masked and highlighted).\n",
    "7. **Center the map** over the area of interest for easier visualization.\n",
    "\n",
    "This approach enables detection and visualization of newly flooded regions based on increases in surface water as captured by NDWI changes.\n"
   ]
  },
  {
   "cell_type": "code",
   "execution_count": 15,
   "id": "0498b0a5",
   "metadata": {},
   "outputs": [
    {
     "data": {
      "text/html": [
       "\n",
       "            <style>\n",
       "                .geemap-dark {\n",
       "                    --jp-widgets-color: white;\n",
       "                    --jp-widgets-label-color: white;\n",
       "                    --jp-ui-font-color1: white;\n",
       "                    --jp-layout-color2: #454545;\n",
       "                    background-color: #383838;\n",
       "                }\n",
       "\n",
       "                .geemap-dark .jupyter-button {\n",
       "                    --jp-layout-color3: #383838;\n",
       "                }\n",
       "\n",
       "                .geemap-colab {\n",
       "                    background-color: var(--colab-primary-surface-color, white);\n",
       "                }\n",
       "\n",
       "                .geemap-colab .jupyter-button {\n",
       "                    --jp-layout-color3: var(--colab-primary-surface-color, white);\n",
       "                }\n",
       "            </style>\n",
       "            "
      ],
      "text/plain": [
       "<IPython.core.display.HTML object>"
      ]
     },
     "metadata": {},
     "output_type": "display_data"
    },
    {
     "name": "stdout",
     "output_type": "stream",
     "text": [
      "Pre-flood NDWI min/max: {'NDWI_max': 0.15676116943359375, 'NDWI_min': -0.45342764258384705}\n",
      "Post-flood NDWI min/max: {'NDWI_max': 0.20563195645809174, 'NDWI_min': -0.43444228172302246}\n"
     ]
    },
    {
     "data": {
      "application/vnd.jupyter.widget-view+json": {
       "model_id": "f67ecee129c24778a4e7360fb0951de1",
       "version_major": 2,
       "version_minor": 0
      },
      "text/plain": [
       "Map(bottom=87038.0, center=[51.87510724712848, -8.375], controls=(WidgetControl(options=['position', 'transpar…"
      ]
     },
     "metadata": {},
     "output_type": "display_data"
    }
   ],
   "source": [
    "# Function to standardize bands\n",
    "def standardize_bands(image):\n",
    "    return image.select(['B3', 'B8'])\n",
    "\n",
    "# Function to add NDWI band\n",
    "def add_ndwi(image):\n",
    "    ndwi = image.normalizedDifference(['B3', 'B8']).rename('NDWI')\n",
    "    return image.addBands(ndwi)\n",
    "\n",
    "# Load pre- and post-flood images\n",
    "def load_sentinel2(start_date, end_date):\n",
    "    return ee.ImageCollection('COPERNICUS/S2') \\\n",
    "        .filterBounds(aoi) \\\n",
    "        .filterDate(start_date, end_date) \\\n",
    "        .filter(ee.Filter.lt('CLOUDY_PIXEL_PERCENTAGE', 50)) \\\n",
    "        .map(standardize_bands)\n",
    "\n",
    "pre_flood = load_sentinel2(pre_flood_start, pre_flood_end).map(add_ndwi).median()\n",
    "post_flood = load_sentinel2(post_flood_start, post_flood_end).map(add_ndwi).median()\n",
    "\n",
    "# Print min/max NDWI values\n",
    "print('Pre-flood NDWI min/max:', pre_flood.select('NDWI').reduceRegion(ee.Reducer.minMax(), aoi, 1000).getInfo())\n",
    "print('Post-flood NDWI min/max:', post_flood.select('NDWI').reduceRegion(ee.Reducer.minMax(), aoi, 1000).getInfo())\n",
    "\n",
    "# Visualization\n",
    "ndwi_vis_params = {'bands': 'NDWI', 'min': -0.3, 'max': 0.3, 'palette': ['red', 'white', 'blue']}\n",
    "Map.addLayer(pre_flood.clip(aoi), ndwi_vis_params, 'Pre-Flood NDWI')\n",
    "Map.addLayer(post_flood.clip(aoi), ndwi_vis_params, 'Post-Flood NDWI')\n",
    "\n",
    "# Flood detection\n",
    "flood_diff = post_flood.select('NDWI').subtract(pre_flood.select('NDWI'))\n",
    "\n",
    "# Mask areas with significant NDWI increase (>0.1) to highlight flooded areas\n",
    "flooded_areas = flood_diff.gt(0.05).And(post_flood.select('NDWI').gt(0)).selfMask()\n",
    "Map.addLayer(flooded_areas.clip(aoi), \n",
    "             {'palette': 'blue'}, \n",
    "             'Flooded Areas (NDWI Increase > 0.1)')\n",
    "\n",
    "# Show the difference in NDWI\n",
    "Map.addLayer(flood_diff.clip(aoi), {'min': 0, 'max': 0.5, 'palette': ['white', 'blue']}, 'NDWI Difference')\n",
    "Map.addLayer(flood_diff.gt(0.1).selfMask().clip(aoi), {'palette': 'blue'}, 'Flooded Areas (NDWI Increase > 0.1)')\n",
    "Map.centerObject(aoi)\n",
    "Map\n"
   ]
  },
  {
   "cell_type": "markdown",
   "id": "cf9e45f7",
   "metadata": {},
   "source": [
    "## Interpretation of the Outputs\n",
    "\n",
    "| **Layer**            | **Description**                                           |\n",
    "|----------------------|-----------------------------------------------------------|\n",
    "| Pre-Flood NDWI       | Red/white = land, blue = pre-existing water               |\n",
    "| Post-Flood NDWI      | New blue areas = potential flooding                       |\n",
    "| NDWI Difference      | White = no change, blue = increased water                 |\n",
    "| Flooded Areas        | Only pixels where NDWI increased significantly            |\n",
    "\n",
    "---\n",
    "\n",
    "- If there was a flood, **Post-flood NDWI_max** should be **higher** than **Pre-flood NDWI_max**.\n",
    "- **Water** usually gives **high positive NDWI** (closer to +1).\n",
    "- **Dry land** has **low or negative NDWI** (around 0 or negative values).\n",
    "\n",
    "The final flood detection (`flood_diff.gt(0.1)`) gives:\n",
    "- A **masked image** where only pixels that increased NDWI by more than 0.1 are shown.\n",
    "- These pixels are interpreted as **\"new water\" (flooded areas)**.\n",
    "\n",
    "If there was **no flood**, this layer will look almost\n"
   ]
  },
  {
   "cell_type": "markdown",
   "id": "b8a3e18f",
   "metadata": {},
   "source": [
    "Load Sentinel-2 Images → Standardize Bands → Calculate NDWI → Take Median → Subtract Post - Pre → Visualize Water Increase\n"
   ]
  },
  {
   "cell_type": "markdown",
   "id": "e8b956d8",
   "metadata": {},
   "source": [
    "### Validation \n",
    "\n",
    "According to news reports (e.g., Irish Times, 19th October 2023), severe flooding occurred in Cork during the study period. \n",
    "\n",
    "However, the NDWI-based flood detection in this project showed only minimal water surface increases. \n",
    "Several technical factors could explain the difference, including cloud coverage during satellite overpass, timing mismatch between the flood peak and image acquisition, the small-scale nature of urban flooding, and limitations of NDWI in detecting shallow water or floodwater under vegetation.\n",
    "\n",
    "This highlights the challenges of flood detection using optical remote sensing and the importance of combining NDWI with other indices or data sources (e.g., radar images) for more comprehensive flood monitoring.\n"
   ]
  },
  {
   "cell_type": "markdown",
   "id": "6782667c",
   "metadata": {},
   "source": [
    "## Flood Detection Using NDWI Difference\n",
    "\n",
    "This section calculates the NDWI difference between post-flood and pre-flood conditions. \n",
    "A flood mask is generated by applying a threshold to the NDWI difference, highlighting areas that likely experienced surface water accumulation. \n",
    "Flooded areas are visualized in semi-transparent blue for clarity.\n"
   ]
  },
  {
   "cell_type": "code",
   "execution_count": 34,
   "id": "c0429c40",
   "metadata": {},
   "outputs": [
    {
     "data": {
      "text/html": [
       "\n",
       "            <style>\n",
       "                .geemap-dark {\n",
       "                    --jp-widgets-color: white;\n",
       "                    --jp-widgets-label-color: white;\n",
       "                    --jp-ui-font-color1: white;\n",
       "                    --jp-layout-color2: #454545;\n",
       "                    background-color: #383838;\n",
       "                }\n",
       "\n",
       "                .geemap-dark .jupyter-button {\n",
       "                    --jp-layout-color3: #383838;\n",
       "                }\n",
       "\n",
       "                .geemap-colab {\n",
       "                    background-color: var(--colab-primary-surface-color, white);\n",
       "                }\n",
       "\n",
       "                .geemap-colab .jupyter-button {\n",
       "                    --jp-layout-color3: var(--colab-primary-surface-color, white);\n",
       "                }\n",
       "            </style>\n",
       "            "
      ],
      "text/plain": [
       "<IPython.core.display.HTML object>"
      ]
     },
     "metadata": {},
     "output_type": "display_data"
    },
    {
     "data": {
      "application/vnd.jupyter.widget-view+json": {
       "model_id": "1f8a9e2a4d4345d68db4eea87cedea5d",
       "version_major": 2,
       "version_minor": 0
      },
      "text/plain": [
       "Map(center=[51.875, -8.375], controls=(WidgetControl(options=['position', 'transparent_bg'], widget=SearchData…"
      ]
     },
     "metadata": {},
     "output_type": "display_data"
    }
   ],
   "source": [
    "# Function to Load and Mask Sentinel-2 Data \n",
    "def load_and_mask(start_date, end_date):\n",
    "    \"\"\"Loads and masks clouds in Sentinel-2 SR data for a given date range\"\"\"\n",
    "    collection = ee.ImageCollection('COPERNICUS/S2_SR') \\\n",
    "        .filterBounds(aoi) \\\n",
    "        .filterDate(start_date, end_date) \\\n",
    "        .filter(ee.Filter.lt('CLOUDY_PIXEL_PERCENTAGE', 50))\n",
    "\n",
    "    def mask_clouds(image):\n",
    "        cloud_prob = image.select('MSK_CLDPRB')\n",
    "        return image.updateMask(cloud_prob.lt(50))\n",
    "\n",
    "    return collection.map(mask_clouds).median()\n",
    "\n",
    "# Load cloud-masked images from the COPERNICUS/S2_SR dataset\n",
    "pre_flood = load_and_mask(pre_flood_start, pre_flood_end)\n",
    "post_flood = load_and_mask(post_flood_start, post_flood_end)\n",
    "\n",
    "# Load Raw (Unmasked) Data for Comparison\n",
    "raw_pre_flood = ee.ImageCollection('COPERNICUS/S2_SR') \\\n",
    "    .filterBounds(aoi) \\\n",
    "    .filterDate(pre_flood_start, pre_flood_end) \\\n",
    "    .median()\n",
    "\n",
    "raw_post_flood = ee.ImageCollection('COPERNICUS/S2_SR') \\\n",
    "    .filterBounds(aoi) \\\n",
    "    .filterDate(post_flood_start, post_flood_end) \\\n",
    "    .median()\n",
    "\n",
    "# Visualization Parameters\n",
    "vis_params = {\n",
    "    'bands': ['B4', 'B3', 'B2'],\n",
    "    'min': 0,\n",
    "    'max': 10000,\n",
    "    'gamma': 1.3\n",
    "}\n",
    "\n",
    "# Display Map \n",
    "Map = geemap.Map(center=[(lat_north + lat_south)/2, (lon_west + lon_east)/2], zoom=12)\n",
    "\n",
    "\n",
    "Map.addLayer(raw_post_flood.clip(aoi), vis_params, 'Raw Sentinel-2 Post-Flood')\n",
    "Map.addLayer(post_flood.clip(aoi), vis_params, 'Masked Post-Flood')\n",
    "\n",
    "\n",
    "# Add layer control\n",
    "Map.addLayerControl()\n",
    "Map\n"
   ]
  },
  {
   "cell_type": "code",
   "execution_count": 35,
   "id": "a9ba98ca",
   "metadata": {},
   "outputs": [
    {
     "data": {
      "text/html": [
       "\n",
       "            <style>\n",
       "                .geemap-dark {\n",
       "                    --jp-widgets-color: white;\n",
       "                    --jp-widgets-label-color: white;\n",
       "                    --jp-ui-font-color1: white;\n",
       "                    --jp-layout-color2: #454545;\n",
       "                    background-color: #383838;\n",
       "                }\n",
       "\n",
       "                .geemap-dark .jupyter-button {\n",
       "                    --jp-layout-color3: #383838;\n",
       "                }\n",
       "\n",
       "                .geemap-colab {\n",
       "                    background-color: var(--colab-primary-surface-color, white);\n",
       "                }\n",
       "\n",
       "                .geemap-colab .jupyter-button {\n",
       "                    --jp-layout-color3: var(--colab-primary-surface-color, white);\n",
       "                }\n",
       "            </style>\n",
       "            "
      ],
      "text/plain": [
       "<IPython.core.display.HTML object>"
      ]
     },
     "metadata": {},
     "output_type": "display_data"
    },
    {
     "name": "stdout",
     "output_type": "stream",
     "text": [
      "Saved: images/flood_maps/pre_flood_ndwi.png\n",
      "Saved: images/flood_maps/post_flood_ndwi.png\n"
     ]
    }
   ],
   "source": [
    "import os\n",
    "import urllib.request\n",
    "\n",
    "# Define paths\n",
    "dir = \"images/flood_maps\"\n",
    "os.makedirs(dir, exist_ok=True)\n",
    "\n",
    "# Correct NDWI calculation\n",
    "def add_ndwi(image):\n",
    "    return image.normalizedDifference(['B3', 'B8']).rename('NDWI')\n",
    "\n",
    "ndwi_collection = post_flood_sentinel2.map(calculate_ndwi)\n",
    "ndwi_image = ndwi_collection.median()\n",
    "\n",
    "\n",
    "# Load pre- and post-flood images\n",
    "pre_flood = ee.ImageCollection('COPERNICUS/S2') \\\n",
    "    .filterBounds(aoi) \\\n",
    "    .filterDate(pre_flood_start, pre_flood_end) \\\n",
    "    .filter(ee.Filter.lt('CLOUDY_PIXEL_PERCENTAGE', 70)) \\\n",
    "    .map(add_ndwi) \\\n",
    "    .median()\n",
    "\n",
    "post_flood = ee.ImageCollection('COPERNICUS/S2') \\\n",
    "    .filterBounds(aoi) \\\n",
    "    .filterDate(post_flood_start, post_flood_end) \\\n",
    "    .filter(ee.Filter.lt('CLOUDY_PIXEL_PERCENTAGE', 70)) \\\n",
    "    .map(add_ndwi) \\\n",
    "    .median()\n",
    "\n",
    "# Function to save Earth Engine thumbnail\n",
    "def save_ee_thumbnail(image, params, filename):\n",
    "    url = image.getThumbURL(params)\n",
    "    urllib.request.urlretrieve(url, f\"{dir}/{filename}\")\n",
    "    print(f\"Saved: {dir}/{filename}\")\n",
    "\n",
    "# Download NDWI images\n",
    "save_ee_thumbnail(\n",
    "    pre_flood.clip(aoi),\n",
    "    {'bands': ['NDWI'], 'min': -0.3, 'max': 0.3, 'palette': ['red', 'white', 'blue'], 'dimensions': 1024},\n",
    "    \"pre_flood_ndwi.png\"\n",
    ")\n",
    "\n",
    "save_ee_thumbnail(\n",
    "    post_flood.clip(aoi),\n",
    "    {'bands': ['NDWI'], 'min': -0.3, 'max': 0.3, 'palette': ['red', 'white', 'blue'], 'dimensions': 1024},\n",
    "    \"post_flood_ndwi.png\"\n",
    ")\n"
   ]
  },
  {
   "cell_type": "markdown",
   "id": "6ea95f67",
   "metadata": {},
   "source": [
    "# Chapter 9:  VALIDATING the FLOOD MASK\n",
    "Comparing the flood mask derived from Sentinel-1 with the NDWI from Sentinel-2 to validate the results.\n",
    "\n",
    "We compare the flood mask derived from Sentinel-1 with the NDWI water mask from Sentinel-2. This helps us validate the accuracy of the flood detection. Areas where both masks overlap are likely true flooded areas, while discrepancies may indicate false positives or false negatives."
   ]
  },
  {
   "cell_type": "code",
   "execution_count": 51,
   "id": "36bf66ad",
   "metadata": {},
   "outputs": [
    {
     "data": {
      "text/html": [
       "\n",
       "            <style>\n",
       "                .geemap-dark {\n",
       "                    --jp-widgets-color: white;\n",
       "                    --jp-widgets-label-color: white;\n",
       "                    --jp-ui-font-color1: white;\n",
       "                    --jp-layout-color2: #454545;\n",
       "                    background-color: #383838;\n",
       "                }\n",
       "\n",
       "                .geemap-dark .jupyter-button {\n",
       "                    --jp-layout-color3: #383838;\n",
       "                }\n",
       "\n",
       "                .geemap-colab {\n",
       "                    background-color: var(--colab-primary-surface-color, white);\n",
       "                }\n",
       "\n",
       "                .geemap-colab .jupyter-button {\n",
       "                    --jp-layout-color3: var(--colab-primary-surface-color, white);\n",
       "                }\n",
       "            </style>\n",
       "            "
      ],
      "text/plain": [
       "<IPython.core.display.HTML object>"
      ]
     },
     "metadata": {},
     "output_type": "display_data"
    },
    {
     "data": {
      "application/vnd.jupyter.widget-view+json": {
       "model_id": "426fd7402338426ba3cb0ab2a3d41bae",
       "version_major": 2,
       "version_minor": 0
      },
      "text/plain": [
       "Map(bottom=173776.0, center=[51.87479531230165, -8.375015258789064], controls=(WidgetControl(options=['positio…"
      ]
     },
     "metadata": {},
     "output_type": "display_data"
    }
   ],
   "source": [
    "# Load Sentinel-2 image\n",
    "sentinel2_image = ee.ImageCollection('COPERNICUS/S2') \\\n",
    "    .filterBounds(aoi) \\\n",
    "    .filterDate('2023-09-01', '2023-11-30') \\\n",
    "    .sort('CLOUDY_PIXEL_PERCENTAGE') \\\n",
    "    .first()\n",
    "\n",
    "# Calculate NDWI\n",
    "ndwi_image = sentinel2_image.normalizedDifference(['B3', 'B8']).rename('NDWI')\n",
    "\n",
    "# Apply NDWI threshold\n",
    "# Threshold NDWI\n",
    "ndwi_threshold = 0.01\n",
    "ndwi = ndwi_image.select('NDWI').gt(ndwi_threshold)\n",
    "\n",
    "# Mask non-water\n",
    "ndwi_water = ndwi.selfMask()\n",
    "\n",
    "# Visualize NDWI water\n",
    "Map.addLayer(ndwi_water.clip(aoi), {'palette': ['blue']}, 'NDWI Water Mask')\n",
    "\n",
    "\n",
    "\n",
    "# Load Sentinel-1 images\n",
    "pre_flood_sar = ee.ImageCollection('COPERNICUS/S1_GRD') \\\n",
    "    .filterBounds(aoi) \\\n",
    "    .filterDate(pre_flood_start, pre_flood_end) \\\n",
    "    .filter(ee.Filter.eq('instrumentMode', 'IW')) \\\n",
    "    .filter(ee.Filter.listContains('transmitterReceiverPolarisation', 'VV')) \\\n",
    "    .filter(ee.Filter.eq('orbitProperties_pass', 'DESCENDING')) \\\n",
    "    .mean()\n",
    "\n",
    "post_flood_sar = ee.ImageCollection('COPERNICUS/S1_GRD') \\\n",
    "    .filterBounds(aoi) \\\n",
    "    .filterDate(post_flood_start, post_flood_end) \\\n",
    "    .filter(ee.Filter.eq('instrumentMode', 'IW')) \\\n",
    "    .filter(ee.Filter.listContains('transmitterReceiverPolarisation', 'VV')) \\\n",
    "    .filter(ee.Filter.eq('orbitProperties_pass', 'DESCENDING')) \\\n",
    "    .mean()\n",
    "\n",
    "# Calculate SAR difference\n",
    "sar_diff = pre_flood_sar.select('VV').subtract(post_flood_sar.select('VV'))\n",
    "\n",
    "# Create flood mask\n",
    "flood_mask = sar_diff.gt(1).selfMask()\n",
    "\n",
    "# Compares with the Sentinel-1 flood mask\n",
    "Map.addLayer(flood_mask.clip(aoi), {'min': 0, 'max': 1, 'palette': ['white', 'green']}, 'Sentinel-1 Flood Mask')\n",
    "Map.centerObject(aoi)\n",
    "Map"
   ]
  },
  {
   "cell_type": "markdown",
   "id": "3787299c",
   "metadata": {},
   "source": [
    "EXPLANATION\n",
    "\n",
    "This code creates a mask (a special filter) to highlight only the water areas on the map. It looks at the NDWI values and decides which pixels are water and which are not water.\n",
    "\n",
    "\n",
    "Sentinel-1 is another satellite (different from Sentinel-2).\n",
    "\n",
    "\n",
    "\n",
    "Validation We want to make sure that the places we found as flooded are really flooded.\n",
    "NDWI Water Mask: We use the NDWI (Normalized Difference Water Index) from Sentinel-2 to identify water areas and compare it with the flood mask from Sentinel-1.\n",
    "\n",
    "Comparing with the Sentinel-1 Flood Mask:\n",
    "\n",
    "Explanation: We add the flood mask from Sentinel-1 to the map, using green to show the areas identified as flooded. This allows us to visually compare the two masks.\n",
    "\n",
    "Flood detection using Sentinel-1 SAR data relies on the principle that surface water reduces radar backscatter intensity. \n",
    "By calculating the difference between pre-flood and post-flood VV backscatter, and applying a threshold (e.g., > 1 dB decrease), flood-affected areas can be identified and mapped.\n"
   ]
  },
  {
   "cell_type": "code",
   "execution_count": 50,
   "id": "7ddc5e5c",
   "metadata": {},
   "outputs": [
    {
     "data": {
      "text/html": [
       "\n",
       "            <style>\n",
       "                .geemap-dark {\n",
       "                    --jp-widgets-color: white;\n",
       "                    --jp-widgets-label-color: white;\n",
       "                    --jp-ui-font-color1: white;\n",
       "                    --jp-layout-color2: #454545;\n",
       "                    background-color: #383838;\n",
       "                }\n",
       "\n",
       "                .geemap-dark .jupyter-button {\n",
       "                    --jp-layout-color3: #383838;\n",
       "                }\n",
       "\n",
       "                .geemap-colab {\n",
       "                    background-color: var(--colab-primary-surface-color, white);\n",
       "                }\n",
       "\n",
       "                .geemap-colab .jupyter-button {\n",
       "                    --jp-layout-color3: var(--colab-primary-surface-color, white);\n",
       "                }\n",
       "            </style>\n",
       "            "
      ],
      "text/plain": [
       "<IPython.core.display.HTML object>"
      ]
     },
     "metadata": {},
     "output_type": "display_data"
    },
    {
     "data": {
      "application/vnd.jupyter.widget-view+json": {
       "model_id": "426fd7402338426ba3cb0ab2a3d41bae",
       "version_major": 2,
       "version_minor": 0
      },
      "text/plain": [
       "Map(bottom=173776.0, center=[51.87479531230165, -8.375015258789064], controls=(WidgetControl(options=['positio…"
      ]
     },
     "metadata": {},
     "output_type": "display_data"
    }
   ],
   "source": [
    "# Apply connected component labeling correctly\n",
    "cleaned_flood_mask = flood_mask.connectedComponents(\n",
    "    ee.Kernel.plus(1),  # 4-connected neighborhood\n",
    "    128                 # Maximum size (arbitrary large number)\n",
    ").select('labels')\n",
    "\n",
    "# Filter: Keep only clusters bigger than 8 pixels\n",
    "flood_mask_clean = cleaned_flood_mask.gte(8).selfMask()\n",
    "\n",
    "# Visualize cleaned flood mask\n",
    "Map.addLayer(flood_mask_clean.clip(aoi), {'palette': ['green']}, 'Cleaned Sentinel-1 Flood Mask')\n",
    "Map\n"
   ]
  },
  {
   "cell_type": "markdown",
   "id": "c4118d41",
   "metadata": {},
   "source": [
    "A connected component analysis with a 4-neighborhood (plus-shaped kernel) was used to filter out isolated noise pixels from the Sentinel-1 flood mask. Only connected regions larger than 8 pixels were retained as valid flood detections.\n"
   ]
  },
  {
   "cell_type": "markdown",
   "id": "5c9e9af2",
   "metadata": {},
   "source": [
    "Visualizing final results"
   ]
  },
  {
   "cell_type": "code",
   "execution_count": 45,
   "id": "add8737d",
   "metadata": {},
   "outputs": [
    {
     "data": {
      "text/html": [
       "\n",
       "            <style>\n",
       "                .geemap-dark {\n",
       "                    --jp-widgets-color: white;\n",
       "                    --jp-widgets-label-color: white;\n",
       "                    --jp-ui-font-color1: white;\n",
       "                    --jp-layout-color2: #454545;\n",
       "                    background-color: #383838;\n",
       "                }\n",
       "\n",
       "                .geemap-dark .jupyter-button {\n",
       "                    --jp-layout-color3: #383838;\n",
       "                }\n",
       "\n",
       "                .geemap-colab {\n",
       "                    background-color: var(--colab-primary-surface-color, white);\n",
       "                }\n",
       "\n",
       "                .geemap-colab .jupyter-button {\n",
       "                    --jp-layout-color3: var(--colab-primary-surface-color, white);\n",
       "                }\n",
       "            </style>\n",
       "            "
      ],
      "text/plain": [
       "<IPython.core.display.HTML object>"
      ]
     },
     "metadata": {},
     "output_type": "display_data"
    },
    {
     "data": {
      "application/vnd.jupyter.widget-view+json": {
       "model_id": "426fd7402338426ba3cb0ab2a3d41bae",
       "version_major": 2,
       "version_minor": 0
      },
      "text/plain": [
       "Map(center=[0, 0], controls=(WidgetControl(options=['position', 'transparent_bg'], widget=SearchDataGUI(childr…"
      ]
     },
     "metadata": {},
     "output_type": "display_data"
    }
   ],
   "source": [
    "# Visualize results on the map\n",
    "Map = geemap.Map()\n",
    "Map.addLayer(pre_flood_image.clip(aoi), {'min': -25, 'max': 0}, 'Pre-Flood Sentinel-1')\n",
    "Map.addLayer(post_flood_image.clip(aoi), {'min': -25, 'max': 0}, 'Post-Flood Sentinel-1')\n",
    "Map.addLayer(flood_mask.clip(aoi), {'min': 0, 'max': 1, 'palette': ['white', 'blue']}, 'Flood Mask')\n",
    "Map.centerObject(aoi)\n",
    "Map"
   ]
  },
  {
   "cell_type": "markdown",
   "id": "8643325f",
   "metadata": {},
   "source": [
    "Display pre-flood and post-flood Sentinel-1 radar images using appropriate visualization settings (min=-25, max=0).\n",
    "\n",
    "Add computed flood mask layer (blue palette) for easy flood detection visualization.\n",
    "\n",
    "Center the map over the Area of Interest (AOI).\n",
    "\n"
   ]
  },
  {
   "cell_type": "markdown",
   "id": "dea63db5",
   "metadata": {},
   "source": [
    "EXPORTING RESULTS\n"
   ]
  },
  {
   "cell_type": "code",
   "execution_count": 46,
   "id": "8e007ab9",
   "metadata": {},
   "outputs": [
    {
     "data": {
      "text/html": [
       "\n",
       "            <style>\n",
       "                .geemap-dark {\n",
       "                    --jp-widgets-color: white;\n",
       "                    --jp-widgets-label-color: white;\n",
       "                    --jp-ui-font-color1: white;\n",
       "                    --jp-layout-color2: #454545;\n",
       "                    background-color: #383838;\n",
       "                }\n",
       "\n",
       "                .geemap-dark .jupyter-button {\n",
       "                    --jp-layout-color3: #383838;\n",
       "                }\n",
       "\n",
       "                .geemap-colab {\n",
       "                    background-color: var(--colab-primary-surface-color, white);\n",
       "                }\n",
       "\n",
       "                .geemap-colab .jupyter-button {\n",
       "                    --jp-layout-color3: var(--colab-primary-surface-color, white);\n",
       "                }\n",
       "            </style>\n",
       "            "
      ],
      "text/plain": [
       "<IPython.core.display.HTML object>"
      ]
     },
     "metadata": {},
     "output_type": "display_data"
    },
    {
     "name": "stdout",
     "output_type": "stream",
     "text": [
      "Export task started. Check Google Drive for results.\n",
      "Export tasks started. Check Google Drive for the validation results.\n"
     ]
    }
   ],
   "source": [
    "# Export NDWI water mask\n",
    "task_ndwi = ee.batch.Export.image.toDrive(\n",
    "    image=ndwi.clip(aoi),\n",
    "    description='NDWI_WaterMask',\n",
    "    folder='EarthEngineImages',\n",
    "    scale=10,\n",
    "    region=aoi\n",
    ")\n",
    "task_ndwi.start()\n",
    "\n",
    "# Export flood mask to Google Drive\n",
    "task = ee.batch.Export.image.toDrive(\n",
    "    image=flood_mask.clip(aoi),\n",
    "    description='FloodMask',\n",
    "    folder='EarthEngineImages',\n",
    "    scale=30,\n",
    "    region=aoi\n",
    ")\n",
    "task.start()\n",
    "print(\"Export task started. Check Google Drive for results.\")\n",
    "print(\"Export tasks started. Check Google Drive for the validation results.\")"
   ]
  },
  {
   "cell_type": "code",
   "execution_count": null,
   "id": "d49e9ed9",
   "metadata": {},
   "outputs": [
    {
     "data": {
      "text/html": [
       "\n",
       "            <style>\n",
       "                .geemap-dark {\n",
       "                    --jp-widgets-color: white;\n",
       "                    --jp-widgets-label-color: white;\n",
       "                    --jp-ui-font-color1: white;\n",
       "                    --jp-layout-color2: #454545;\n",
       "                    background-color: #383838;\n",
       "                }\n",
       "\n",
       "                .geemap-dark .jupyter-button {\n",
       "                    --jp-layout-color3: #383838;\n",
       "                }\n",
       "\n",
       "                .geemap-colab {\n",
       "                    background-color: var(--colab-primary-surface-color, white);\n",
       "                }\n",
       "\n",
       "                .geemap-colab .jupyter-button {\n",
       "                    --jp-layout-color3: var(--colab-primary-surface-color, white);\n",
       "                }\n",
       "            </style>\n",
       "            "
      ],
      "text/plain": [
       "<IPython.core.display.HTML object>"
      ]
     },
     "metadata": {},
     "output_type": "display_data"
    },
    {
     "name": "stdout",
     "output_type": "stream",
     "text": [
      "File not found: C:\\\\Users\\\\Neo\\\\Desktop\\\\FYP\\\\GEEgoogledrive\\\\FloodMask.tif\n"
     ]
    }
   ],
   "source": [
    "# Check if the Sentinel-1 flood mask file exists\n",
    "flood_mask_path = r\"C:\\\\Users\\\\Neo\\\\Desktop\\\\FYP\\\\GEEgoogledrive\\\\FloodMask.tif\"\n",
    "if os.path.exists(flood_mask_path):\n",
    "    # Open the exported Sentinel-1 flood mask\n",
    "    with rasterio.open(flood_mask_path) as src:\n",
    "        flood_mask_image = src.read(1)\n",
    "\n",
    "    # Display the Sentinel-1 flood mask\n",
    "    plt.subplot(1, 2, 2)\n",
    "    plt.imshow(flood_mask_image, cmap='Greens', vmin=0, vmax=1)\n",
    "    plt.colorbar(label='Sentinel-1 Flood Mask')\n",
    "    plt.title('Sentinel-1 Flood Mask')\n",
    "\n",
    "    plt.show()\n",
    "else:\n",
    "    print(f\"File not found: {flood_mask_path}\")"
   ]
  },
  {
   "cell_type": "markdown",
   "id": "eff20c89",
   "metadata": {},
   "source": [
    "# CHAPTER 10: Anazyling results"
   ]
  },
  {
   "cell_type": "code",
   "execution_count": 49,
   "id": "d53eb228",
   "metadata": {},
   "outputs": [
    {
     "data": {
      "text/html": [
       "\n",
       "            <style>\n",
       "                .geemap-dark {\n",
       "                    --jp-widgets-color: white;\n",
       "                    --jp-widgets-label-color: white;\n",
       "                    --jp-ui-font-color1: white;\n",
       "                    --jp-layout-color2: #454545;\n",
       "                    background-color: #383838;\n",
       "                }\n",
       "\n",
       "                .geemap-dark .jupyter-button {\n",
       "                    --jp-layout-color3: #383838;\n",
       "                }\n",
       "\n",
       "                .geemap-colab {\n",
       "                    background-color: var(--colab-primary-surface-color, white);\n",
       "                }\n",
       "\n",
       "                .geemap-colab .jupyter-button {\n",
       "                    --jp-layout-color3: var(--colab-primary-surface-color, white);\n",
       "                }\n",
       "            </style>\n",
       "            "
      ],
      "text/plain": [
       "<IPython.core.display.HTML object>"
      ]
     },
     "metadata": {},
     "output_type": "display_data"
    },
    {
     "data": {
      "application/vnd.jupyter.widget-view+json": {
       "model_id": "426fd7402338426ba3cb0ab2a3d41bae",
       "version_major": 2,
       "version_minor": 0
      },
      "text/plain": [
       "Map(bottom=87164.0, center=[51.767839887322154, -8.38188171386719], controls=(WidgetControl(options=['position…"
      ]
     },
     "metadata": {},
     "output_type": "display_data"
    }
   ],
   "source": [
    "# Load Sentinel-2 imagery for the post-flood period\n",
    "post_flood_sentinel2 = ee.ImageCollection('COPERNICUS/S2') \\\n",
    "    .filterBounds(aoi) \\\n",
    "    .filterDate(post_flood_start, post_flood_end) \\\n",
    "    .filter(ee.Filter.lt('CLOUDY_PIXEL_PERCENTAGE', 80))  # Filter out cloudy images\n",
    "\n",
    "# Check\n",
    "# Add the flood mask and NDWI water mask for comparison\n",
    "Map.addLayer(flood_mask.clip(aoi), {'min': 0, 'max': 1, 'palette': ['white', 'green']}, 'Sentinel-1 Flood Mask')\n",
    "Map.addLayer(ndwi.clip(aoi), {'min': 0, 'max': 1, 'palette': ['white', 'blue']}, 'NDWI Water Mask')\n",
    "\n",
    "\n",
    "Map.centerObject(aoi)\n",
    "Map"
   ]
  },
  {
   "cell_type": "code",
   "execution_count": 52,
   "id": "19ae7775",
   "metadata": {},
   "outputs": [
    {
     "data": {
      "text/html": [
       "\n",
       "            <style>\n",
       "                .geemap-dark {\n",
       "                    --jp-widgets-color: white;\n",
       "                    --jp-widgets-label-color: white;\n",
       "                    --jp-ui-font-color1: white;\n",
       "                    --jp-layout-color2: #454545;\n",
       "                    background-color: #383838;\n",
       "                }\n",
       "\n",
       "                .geemap-dark .jupyter-button {\n",
       "                    --jp-layout-color3: #383838;\n",
       "                }\n",
       "\n",
       "                .geemap-colab {\n",
       "                    background-color: var(--colab-primary-surface-color, white);\n",
       "                }\n",
       "\n",
       "                .geemap-colab .jupyter-button {\n",
       "                    --jp-layout-color3: var(--colab-primary-surface-color, white);\n",
       "                }\n",
       "            </style>\n",
       "            "
      ],
      "text/plain": [
       "<IPython.core.display.HTML object>"
      ]
     },
     "metadata": {},
     "output_type": "display_data"
    },
    {
     "data": {
      "application/vnd.jupyter.widget-view+json": {
       "model_id": "426fd7402338426ba3cb0ab2a3d41bae",
       "version_major": 2,
       "version_minor": 0
      },
      "text/plain": [
       "Map(bottom=173775.0, center=[51.8752192328747, -8.374671936035158], controls=(WidgetControl(options=['position…"
      ]
     },
     "metadata": {},
     "output_type": "display_data"
    }
   ],
   "source": [
    "\n",
    "# For demonstration, we'll use the NDWI water mask as validation data\n",
    "reference_data = ndwi\n",
    "\n",
    "# Calculate confusion matrix\n",
    "confusion_matrix = flood_mask.add(reference_data.multiply(2)).clip(aoi)\n",
    "\n",
    "# Add confusion matrix to the map\n",
    "Map.addLayer(confusion_matrix, {'min': 0, 'max': 3, 'palette': ['white', 'green', 'blue', 'red']}, 'Confusion Matrix')\n",
    "Map.centerObject(aoi)\n",
    "Map"
   ]
  },
  {
   "cell_type": "markdown",
   "id": "3c688aae",
   "metadata": {},
   "source": [
    "EXPLANATION\n",
    "\n",
    "The NDWI water mask (blue) represents water bodies detected by Sentinel-2.\n",
    "\n",
    "The Sentinel-1 flood mask (green) represents flooded areas detected by Sentinel-1.\n",
    "\n",
    "Overlaying the two masks to see how well they align.\n",
    "\n",
    "Here we look for areas where both masks (blue and green) overlap. These are likely true flooded areas.\n",
    "\n",
    "Areas where only one mask detects water may indicate false positives or false negatives."
   ]
  },
  {
   "cell_type": "markdown",
   "id": "73ffad09",
   "metadata": {},
   "source": [
    "Quantitive Validation"
   ]
  },
  {
   "cell_type": "code",
   "execution_count": 53,
   "id": "42cf035e",
   "metadata": {},
   "outputs": [
    {
     "data": {
      "text/html": [
       "\n",
       "            <style>\n",
       "                .geemap-dark {\n",
       "                    --jp-widgets-color: white;\n",
       "                    --jp-widgets-label-color: white;\n",
       "                    --jp-ui-font-color1: white;\n",
       "                    --jp-layout-color2: #454545;\n",
       "                    background-color: #383838;\n",
       "                }\n",
       "\n",
       "                .geemap-dark .jupyter-button {\n",
       "                    --jp-layout-color3: #383838;\n",
       "                }\n",
       "\n",
       "                .geemap-colab {\n",
       "                    background-color: var(--colab-primary-surface-color, white);\n",
       "                }\n",
       "\n",
       "                .geemap-colab .jupyter-button {\n",
       "                    --jp-layout-color3: var(--colab-primary-surface-color, white);\n",
       "                }\n",
       "            </style>\n",
       "            "
      ],
      "text/plain": [
       "<IPython.core.display.HTML object>"
      ]
     },
     "metadata": {},
     "output_type": "display_data"
    },
    {
     "ename": "ZeroDivisionError",
     "evalue": "division by zero",
     "output_type": "error",
     "traceback": [
      "\u001b[1;31m---------------------------------------------------------------------------\u001b[0m",
      "\u001b[1;31mZeroDivisionError\u001b[0m                         Traceback (most recent call last)",
      "Cell \u001b[1;32mIn[53], line 38\u001b[0m\n\u001b[0;32m     36\u001b[0m accuracy \u001b[38;5;241m=\u001b[39m (tp_sum) \u001b[38;5;241m/\u001b[39m (tp_sum \u001b[38;5;241m+\u001b[39m fp_sum \u001b[38;5;241m+\u001b[39m fn_sum)\n\u001b[0;32m     37\u001b[0m precision \u001b[38;5;241m=\u001b[39m tp_sum \u001b[38;5;241m/\u001b[39m (tp_sum \u001b[38;5;241m+\u001b[39m fp_sum)\n\u001b[1;32m---> 38\u001b[0m recall \u001b[38;5;241m=\u001b[39m tp_sum \u001b[38;5;241m/\u001b[39m (tp_sum \u001b[38;5;241m+\u001b[39m fn_sum)\n\u001b[0;32m     40\u001b[0m \u001b[38;5;66;03m# Prints the results\u001b[39;00m\n\u001b[0;32m     41\u001b[0m \u001b[38;5;28mprint\u001b[39m(\u001b[38;5;124mf\u001b[39m\u001b[38;5;124m\"\u001b[39m\u001b[38;5;124mAccuracy: \u001b[39m\u001b[38;5;132;01m{\u001b[39;00maccuracy\u001b[38;5;132;01m:\u001b[39;00m\u001b[38;5;124m.2f\u001b[39m\u001b[38;5;132;01m}\u001b[39;00m\u001b[38;5;124m\"\u001b[39m)\n",
      "\u001b[1;31mZeroDivisionError\u001b[0m: division by zero"
     ]
    }
   ],
   "source": [
    "# Defines a threshold for NDWI (values > 0.3 indicate water)\n",
    "ndwi_threshold = 2\n",
    "ndwi = ndwi_image.select('NDWI').gt(ndwi_threshold)\n",
    "\n",
    "# Adds the NDWI water mask to the map\n",
    "Map.addLayer(ndwi.clip(aoi), {'min': 0, 'max': 1, 'palette': ['white', 'blue']}, 'NDWI Water Mask')\n",
    "\n",
    "# For demonstration, we'll use the NDWI water mask as ground truth\n",
    "reference_data = ndwi\n",
    "\n",
    "# Combine flood mask and NDWI water mask to generate a confusion matrix\n",
    "# Values:\n",
    "# 0 = Neither predicted nor actual (True Negative)\n",
    "# 1 = Predicted flood, not actual (False Positive)\n",
    "# 2 = Actual flood, not predicted (False Negative)\n",
    "# 3 = Correctly predicted flood (True Positive)\n",
    "confusion_matrix = flood_mask.add(reference_data.multiply(2)).clip(aoi)\n",
    "\n",
    "\n",
    "# Adds confusion matrix to the map\n",
    "Map.addLayer(confusion_matrix, {'min': 0, 'max': 3, 'palette': ['white', 'green', 'blue', 'red']}, 'Confusion Matrix')\n",
    "Map.centerObject(aoi)\n",
    "Map\n",
    "\n",
    "# Calculates true positives, false positives, and false negatives\n",
    "true_positives = confusion_matrix.eq(3).rename('TP')\n",
    "false_positives = confusion_matrix.eq(1).rename('FP')\n",
    "false_negatives = confusion_matrix.eq(2).rename('FN')\n",
    "\n",
    "# Sums the values over the AOI\n",
    "tp_sum = true_positives.reduceRegion(ee.Reducer.sum(), aoi, 30).get('TP').getInfo()\n",
    "fp_sum = false_positives.reduceRegion(ee.Reducer.sum(), aoi, 30).get('FP').getInfo()\n",
    "fn_sum = false_negatives.reduceRegion(ee.Reducer.sum(), aoi, 30).get('FN').getInfo()\n",
    "\n",
    "# Calculates metrics\n",
    "accuracy = (tp_sum) / (tp_sum + fp_sum + fn_sum)\n",
    "precision = tp_sum / (tp_sum + fp_sum)\n",
    "recall = tp_sum / (tp_sum + fn_sum)\n",
    "\n",
    "# Prints the results\n",
    "print(f\"Accuracy: {accuracy:.2f}\")\n",
    "print(f\"Precision: {precision:.2f}\")\n",
    "print(f\"Recall: {recall:.2f}\")\n",
    "\n",
    "# Visualize flood mask and verified data\n",
    "Map.addLayer(flood_mask.clip(aoi), {'min': 0, 'max': 1, 'palette': ['white', 'red']}, 'Flood Mask')\n",
    "Map.addLayer(reference_data.clip(aoi), {'min': 0, 'max': 1, 'palette': ['white', 'blue']}, 'Valid Data')\n",
    "Map"
   ]
  },
  {
   "cell_type": "markdown",
   "id": "976cc1b5",
   "metadata": {},
   "source": [
    "EXPLANATION \n",
    "\n",
    "True Positives (TP): Areas where both Sentinel-1 and NDWI detect water.\n",
    "\n",
    "False Positives (FP): Areas where Sentinel-1 detects water, but NDWI does not.\n",
    "\n",
    "False Negatives (FN): Areas where NDWI detects water, but Sentinel-1 does not.\n",
    "\n",
    "Accuracy: Percentage of correctly identified flooded areas.\n",
    "\n",
    "Precision: Percentage of detected floods that are correct.\n",
    "\n",
    "Recall: Percentage of actual floods that were detected."
   ]
  },
  {
   "cell_type": "code",
   "execution_count": 54,
   "id": "10112dc7",
   "metadata": {},
   "outputs": [
    {
     "data": {
      "text/html": [
       "\n",
       "            <style>\n",
       "                .geemap-dark {\n",
       "                    --jp-widgets-color: white;\n",
       "                    --jp-widgets-label-color: white;\n",
       "                    --jp-ui-font-color1: white;\n",
       "                    --jp-layout-color2: #454545;\n",
       "                    background-color: #383838;\n",
       "                }\n",
       "\n",
       "                .geemap-dark .jupyter-button {\n",
       "                    --jp-layout-color3: #383838;\n",
       "                }\n",
       "\n",
       "                .geemap-colab {\n",
       "                    background-color: var(--colab-primary-surface-color, white);\n",
       "                }\n",
       "\n",
       "                .geemap-colab .jupyter-button {\n",
       "                    --jp-layout-color3: var(--colab-primary-surface-color, white);\n",
       "                }\n",
       "            </style>\n",
       "            "
      ],
      "text/plain": [
       "<IPython.core.display.HTML object>"
      ]
     },
     "metadata": {},
     "output_type": "display_data"
    },
    {
     "name": "stdout",
     "output_type": "stream",
     "text": [
      "True Positives: 0\n",
      "False Positives: 143222.47450980401\n",
      "False Negatives: 0\n",
      "True Negatives: 0\n",
      "Accuracy: 0.00\n",
      "Precision: 0.00\n",
      "Recall: 0.00\n"
     ]
    }
   ],
   "source": [
    "# 1. Calculate optimal NDWI threshold (Otsu method)\n",
    "histogram = ndwi_image.select('NDWI').reduceRegion(\n",
    "    ee.Reducer.histogram(), \n",
    "    aoi, \n",
    "    scale=30\n",
    ").get('NDWI').getInfo()\n",
    "\n",
    "# Otsu threshold calculation \n",
    "optimal_threshold = 0.2421875  # Replace with computed value\n",
    "ndwi = ndwi_image.select('NDWI').gt(optimal_threshold)\n",
    "\n",
    "# 2. Generate confusion matrix\n",
    "confusion_matrix = flood_mask.add(ndwi.multiply(2)).clip(aoi)\n",
    "\n",
    "# 3. Compute metrics (with true negatives)\n",
    "true_positives = confusion_matrix.eq(3).rename('TP')\n",
    "false_positives = confusion_matrix.eq(1).rename('FP')\n",
    "false_negatives = confusion_matrix.eq(2).rename('FN')\n",
    "true_negatives = confusion_matrix.eq(0).rename('TN')\n",
    "\n",
    "stats = ee.Dictionary({\n",
    "    'TP': true_positives.reduceRegion(ee.Reducer.sum(), aoi, 30).get('TP'),\n",
    "    'FP': false_positives.reduceRegion(ee.Reducer.sum(), aoi, 30).get('FP'),\n",
    "    'FN': false_negatives.reduceRegion(ee.Reducer.sum(), aoi, 30).get('FN'),\n",
    "    'TN': true_negatives.reduceRegion(ee.Reducer.sum(), aoi, 30).get('TN')\n",
    "}).getInfo()\n",
    "\n",
    "tp, fp, fn, tn = stats['TP'], stats['FP'], stats['FN'], stats['TN']\n",
    "\n",
    "# 4. Calculate metrics\n",
    "accuracy = (tp + tn) / (tp + tn + fp + fn) if (tp + tn + fp + fn) > 0 else 0\n",
    "precision = tp / (tp + fp) if (tp + fp) > 0 else 0\n",
    "recall = tp / (tp + fn) if (tp + fn) > 0 else 0\n",
    "\n",
    "print(f\"True Positives: {tp}\")\n",
    "print(f\"False Positives: {fp}\")\n",
    "print(f\"False Negatives: {fn}\")\n",
    "print(f\"True Negatives: {tn}\")\n",
    "print(f\"Accuracy: {accuracy:.2f}\")\n",
    "print(f\"Precision: {precision:.2f}\")\n",
    "print(f\"Recall: {recall:.2f}\")"
   ]
  },
  {
   "cell_type": "code",
   "execution_count": 55,
   "id": "7dcc39d2",
   "metadata": {},
   "outputs": [
    {
     "data": {
      "text/html": [
       "\n",
       "            <style>\n",
       "                .geemap-dark {\n",
       "                    --jp-widgets-color: white;\n",
       "                    --jp-widgets-label-color: white;\n",
       "                    --jp-ui-font-color1: white;\n",
       "                    --jp-layout-color2: #454545;\n",
       "                    background-color: #383838;\n",
       "                }\n",
       "\n",
       "                .geemap-dark .jupyter-button {\n",
       "                    --jp-layout-color3: #383838;\n",
       "                }\n",
       "\n",
       "                .geemap-colab {\n",
       "                    background-color: var(--colab-primary-surface-color, white);\n",
       "                }\n",
       "\n",
       "                .geemap-colab .jupyter-button {\n",
       "                    --jp-layout-color3: var(--colab-primary-surface-color, white);\n",
       "                }\n",
       "            </style>\n",
       "            "
      ],
      "text/plain": [
       "<IPython.core.display.HTML object>"
      ]
     },
     "metadata": {},
     "output_type": "display_data"
    },
    {
     "name": "stdout",
     "output_type": "stream",
     "text": [
      "Flood mask pixel count: {'VV': 216834.0588235294}\n",
      "NDWI water mask pixel count: {'NDWI': 0}\n"
     ]
    }
   ],
   "source": [
    "# Check how many pixels are flagged in each mask\n",
    "print(\"Flood mask pixel count:\", flood_mask.reduceRegion(ee.Reducer.sum(), aoi, 30).getInfo())\n",
    "print(\"NDWI water mask pixel count:\", ndwi.reduceRegion(ee.Reducer.sum(), aoi, 30).getInfo())"
   ]
  },
  {
   "cell_type": "code",
   "execution_count": 56,
   "id": "ab726224",
   "metadata": {},
   "outputs": [
    {
     "data": {
      "text/html": [
       "\n",
       "            <style>\n",
       "                .geemap-dark {\n",
       "                    --jp-widgets-color: white;\n",
       "                    --jp-widgets-label-color: white;\n",
       "                    --jp-ui-font-color1: white;\n",
       "                    --jp-layout-color2: #454545;\n",
       "                    background-color: #383838;\n",
       "                }\n",
       "\n",
       "                .geemap-dark .jupyter-button {\n",
       "                    --jp-layout-color3: #383838;\n",
       "                }\n",
       "\n",
       "                .geemap-colab {\n",
       "                    background-color: var(--colab-primary-surface-color, white);\n",
       "                }\n",
       "\n",
       "                .geemap-colab .jupyter-button {\n",
       "                    --jp-layout-color3: var(--colab-primary-surface-color, white);\n",
       "                }\n",
       "            </style>\n",
       "            "
      ],
      "text/plain": [
       "<IPython.core.display.HTML object>"
      ]
     },
     "metadata": {},
     "output_type": "display_data"
    },
    {
     "name": "stdout",
     "output_type": "stream",
     "text": [
      "NDWI statistics: {'NDWI_max': 0.22332506203473945, 'NDWI_mean': -0.2847696570850031, 'NDWI_min': -0.6096620132255695}\n"
     ]
    }
   ],
   "source": [
    "ndwi_stats = ndwi_image.select('NDWI').reduceRegion(\n",
    "    ee.Reducer.minMax().combine(ee.Reducer.mean(), None,True),\n",
    "    aoi,\n",
    "    30\n",
    ").getInfo()\n",
    "print(\"NDWI statistics:\", ndwi_stats)"
   ]
  },
  {
   "cell_type": "code",
   "execution_count": 57,
   "id": "cb77aab4",
   "metadata": {},
   "outputs": [
    {
     "data": {
      "text/html": [
       "\n",
       "            <style>\n",
       "                .geemap-dark {\n",
       "                    --jp-widgets-color: white;\n",
       "                    --jp-widgets-label-color: white;\n",
       "                    --jp-ui-font-color1: white;\n",
       "                    --jp-layout-color2: #454545;\n",
       "                    background-color: #383838;\n",
       "                }\n",
       "\n",
       "                .geemap-dark .jupyter-button {\n",
       "                    --jp-layout-color3: #383838;\n",
       "                }\n",
       "\n",
       "                .geemap-colab {\n",
       "                    background-color: var(--colab-primary-surface-color, white);\n",
       "                }\n",
       "\n",
       "                .geemap-colab .jupyter-button {\n",
       "                    --jp-layout-color3: var(--colab-primary-surface-color, white);\n",
       "                }\n",
       "            </style>\n",
       "            "
      ],
      "text/plain": [
       "<IPython.core.display.HTML object>"
      ]
     },
     "metadata": {},
     "output_type": "display_data"
    },
    {
     "name": "stdout",
     "output_type": "stream",
     "text": [
      "New water pixels: {'NDWI_WATER': 43381.784313725526}\n"
     ]
    }
   ],
   "source": [
    "# Calculate the mean NDWI dynamically\n",
    "new_threshold = ndwi_stats['NDWI_mean'] * 1.2  # 20% above the mean NDWI value\n",
    "ndwi = ndwi_image.select('NDWI').gt(0.1).rename('NDWI_WATER')\n",
    "\n",
    "\n",
    "\n",
    "# Recheck water pixels\n",
    "print(\"New water pixels:\", ndwi.reduceRegion(ee.Reducer.sum(), aoi, 30).getInfo())"
   ]
  },
  {
   "cell_type": "code",
   "execution_count": 58,
   "id": "630688ae",
   "metadata": {},
   "outputs": [
    {
     "data": {
      "text/html": [
       "\n",
       "            <style>\n",
       "                .geemap-dark {\n",
       "                    --jp-widgets-color: white;\n",
       "                    --jp-widgets-label-color: white;\n",
       "                    --jp-ui-font-color1: white;\n",
       "                    --jp-layout-color2: #454545;\n",
       "                    background-color: #383838;\n",
       "                }\n",
       "\n",
       "                .geemap-dark .jupyter-button {\n",
       "                    --jp-layout-color3: #383838;\n",
       "                }\n",
       "\n",
       "                .geemap-colab {\n",
       "                    background-color: var(--colab-primary-surface-color, white);\n",
       "                }\n",
       "\n",
       "                .geemap-colab .jupyter-button {\n",
       "                    --jp-layout-color3: var(--colab-primary-surface-color, white);\n",
       "                }\n",
       "            </style>\n",
       "            "
      ],
      "text/plain": [
       "<IPython.core.display.HTML object>"
      ]
     },
     "metadata": {},
     "output_type": "display_data"
    },
    {
     "name": "stdout",
     "output_type": "stream",
     "text": [
      "Flood mask overlap with JRC water: {'VV': 2448}\n"
     ]
    },
    {
     "data": {
      "application/vnd.jupyter.widget-view+json": {
       "model_id": "426fd7402338426ba3cb0ab2a3d41bae",
       "version_major": 2,
       "version_minor": 0
      },
      "text/plain": [
       "Map(bottom=173775.0, center=[51.87510724712848, -8.375], controls=(WidgetControl(options=['position', 'transpa…"
      ]
     },
     "metadata": {},
     "output_type": "display_data"
    }
   ],
   "source": [
    "# Comparing with a known water source (permanent water from JRC)\n",
    "# Load JRC permanent water dataset\n",
    "jrc_water = ee.ImageCollection(\"JRC/GSW1_4/YearlyHistory\") \\\n",
    "    .filter(ee.Filter.eq('year', 2021)) \\\n",
    "    .first() \\\n",
    "    .eq(2) # Permanent water\n",
    "\n",
    "# Add JRC water layer to the map\n",
    "Map.addLayer(jrc_water.clip(aoi), {'palette': ['blue']}, 'JRC Permanent Water')\n",
    "\n",
    "# Compare overlap with NDWI water mask\n",
    "flood_water_overlap = flood_mask.And(jrc_water)\n",
    "print(\"Flood mask overlap with JRC water:\", flood_water_overlap.reduceRegion(ee.Reducer.sum(), aoi, 30).getInfo())\n",
    "Map"
   ]
  },
  {
   "cell_type": "markdown",
   "id": "e523ef47",
   "metadata": {},
   "source": [
    "The YearlyHistory band contains classifications for each pixel, where:​\n",
    "\n",
    "0 indicates no water detected,\n",
    "\n",
    "1 indicates seasonal water, and\n",
    "\n",
    "2 indicates permanent water.​\n",
    "\n",
    "By applying .eq(2), you're creating a binary mask highlighting areas classified as permanent water."
   ]
  },
  {
   "cell_type": "code",
   "execution_count": 59,
   "id": "ec676479",
   "metadata": {},
   "outputs": [
    {
     "data": {
      "text/html": [
       "\n",
       "            <style>\n",
       "                .geemap-dark {\n",
       "                    --jp-widgets-color: white;\n",
       "                    --jp-widgets-label-color: white;\n",
       "                    --jp-ui-font-color1: white;\n",
       "                    --jp-layout-color2: #454545;\n",
       "                    background-color: #383838;\n",
       "                }\n",
       "\n",
       "                .geemap-dark .jupyter-button {\n",
       "                    --jp-layout-color3: #383838;\n",
       "                }\n",
       "\n",
       "                .geemap-colab {\n",
       "                    background-color: var(--colab-primary-surface-color, white);\n",
       "                }\n",
       "\n",
       "                .geemap-colab .jupyter-button {\n",
       "                    --jp-layout-color3: var(--colab-primary-surface-color, white);\n",
       "                }\n",
       "            </style>\n",
       "            "
      ],
      "text/plain": [
       "<IPython.core.display.HTML object>"
      ]
     },
     "metadata": {},
     "output_type": "display_data"
    }
   ],
   "source": [
    "# Sometimes the projection() or resolution of Sentinel-1 vs Sentinel-2 vs JRC can differ.\n",
    "# Reproject to a common CRS and scale (e.g., EPSG:4326, 30m)\n",
    "flood_mask = flood_mask.reproject(crs='EPSG:4326', scale=30)\n",
    "jrc_water = jrc_water.reproject(crs='EPSG:4326', scale=30)\n"
   ]
  },
  {
   "cell_type": "code",
   "execution_count": 60,
   "id": "b432540a",
   "metadata": {},
   "outputs": [
    {
     "data": {
      "text/html": [
       "\n",
       "            <style>\n",
       "                .geemap-dark {\n",
       "                    --jp-widgets-color: white;\n",
       "                    --jp-widgets-label-color: white;\n",
       "                    --jp-ui-font-color1: white;\n",
       "                    --jp-layout-color2: #454545;\n",
       "                    background-color: #383838;\n",
       "                }\n",
       "\n",
       "                .geemap-dark .jupyter-button {\n",
       "                    --jp-layout-color3: #383838;\n",
       "                }\n",
       "\n",
       "                .geemap-colab {\n",
       "                    background-color: var(--colab-primary-surface-color, white);\n",
       "                }\n",
       "\n",
       "                .geemap-colab .jupyter-button {\n",
       "                    --jp-layout-color3: var(--colab-primary-surface-color, white);\n",
       "                }\n",
       "            </style>\n",
       "            "
      ],
      "text/plain": [
       "<IPython.core.display.HTML object>"
      ]
     },
     "metadata": {},
     "output_type": "display_data"
    },
    {
     "name": "stdout",
     "output_type": "stream",
     "text": [
      "Flood mask overlap with JRC water: {'VV': 2448}\n",
      "Export task started. Check Google Drive for the flood mask.\n"
     ]
    },
    {
     "data": {
      "image/png": "[encoded data removed]",
      "text/plain": [
       "<Figure size 640x480 with 2 Axes>"
      ]
     },
     "metadata": {},
     "output_type": "display_data"
    }
   ],
   "source": [
    "flood_water_overlap = flood_mask.And(jrc_water)\n",
    "print(\"Flood mask overlap with JRC water:\", flood_water_overlap.reduceRegion(ee.Reducer.sum(), aoi, 30).getInfo())\n",
    "# Export the flood mask to Google Drive\n",
    "task = ee.batch.Export.image.toDrive(\n",
    "    image=flood_mask.clip(aoi),\n",
    "    description='FloodMask',\n",
    "    folder='EarthEngineImages',\n",
    "    scale=30,\n",
    "    region=aoi\n",
    ")\n",
    "task.start()\n",
    "print(\"Export task started. Check Google Drive for the flood mask.\")\n",
    "# Convert the flood_mask to a NumPy array for visualization\n",
    "flood_mask_array = geemap.ee_to_numpy(flood_mask, region=aoi, scale=30)\n",
    "\n",
    "# Check if the array is valid\n",
    "if flood_mask_array is not None:\n",
    "    plt.imshow(flood_mask_array, cmap='Blues', vmin=0, vmax=1)\n",
    "    plt.colorbar(label='Flood Mask')\n",
    "    plt.title('Flood Mask')\n",
    "    plt.show()\n",
    "else:\n",
    "    print(\"Failed to convert flood_mask to a NumPy array.\")\n"
   ]
  },
  {
   "cell_type": "code",
   "execution_count": 61,
   "id": "060f5067",
   "metadata": {},
   "outputs": [
    {
     "data": {
      "text/html": [
       "\n",
       "            <style>\n",
       "                .geemap-dark {\n",
       "                    --jp-widgets-color: white;\n",
       "                    --jp-widgets-label-color: white;\n",
       "                    --jp-ui-font-color1: white;\n",
       "                    --jp-layout-color2: #454545;\n",
       "                    background-color: #383838;\n",
       "                }\n",
       "\n",
       "                .geemap-dark .jupyter-button {\n",
       "                    --jp-layout-color3: #383838;\n",
       "                }\n",
       "\n",
       "                .geemap-colab {\n",
       "                    background-color: var(--colab-primary-surface-color, white);\n",
       "                }\n",
       "\n",
       "                .geemap-colab .jupyter-button {\n",
       "                    --jp-layout-color3: var(--colab-primary-surface-color, white);\n",
       "                }\n",
       "            </style>\n",
       "            "
      ],
      "text/plain": [
       "<IPython.core.display.HTML object>"
      ]
     },
     "metadata": {},
     "output_type": "display_data"
    },
    {
     "name": "stdout",
     "output_type": "stream",
     "text": [
      "Saved C:\\Users\\Neo\\Desktop\\FYP\\Flood-Detection-System-FYP\\Gee\\images\\validation\\flood_mask.png\n",
      "Saved C:\\Users\\Neo\\Desktop\\FYP\\Flood-Detection-System-FYP\\Gee\\images\\validation\\jrc_water.png\n",
      "Saved C:\\Users\\Neo\\Desktop\\FYP\\Flood-Detection-System-FYP\\Gee\\images\\validation\\flood_water_overlap.png\n"
     ]
    },
    {
     "data": {
      "application/vnd.jupyter.widget-view+json": {
       "model_id": "259414a8b4a64504a064d6375d5119fc",
       "version_major": 2,
       "version_minor": 0
      },
      "text/plain": [
       "Map(center=[51.7, -8.35], controls=(WidgetControl(options=['position', 'transparent_bg'], widget=SearchDataGUI…"
      ]
     },
     "metadata": {},
     "output_type": "display_data"
    }
   ],
   "source": [
    "Map = geemap.Map(center=[51.7, -8.35], zoom=10)\n",
    "\n",
    "Map.addLayer(flood_mask.updateMask(flood_mask).clip(aoi), {'palette': ['cyan']}, 'Flood Mask')\n",
    "Map.addLayer(jrc_water.updateMask(jrc_water).clip(aoi), {'palette': ['blue']}, 'JRC Water')\n",
    "Map.addLayer(flood_water_overlap.updateMask(flood_water_overlap).clip(aoi), {'palette': ['purple']}, 'Flood ∩ Water')\n",
    "\n",
    "\n",
    "\n",
    "def download_layer_as_png(image, filename, palette, min_val=0, max_val=1):\n",
    "    folder = r'C:\\Users\\Neo\\Desktop\\FYP\\Flood-Detection-System-FYP\\Gee\\images\\validation'  # Folder where you want to save\n",
    "    \n",
    "    # Check if the folder exists\n",
    "    if not os.path.exists(folder):\n",
    "        raise FileNotFoundError(f\"The folder '{folder}' does not exist. Please create it first.\")\n",
    "\n",
    "    try:\n",
    "        # Generate thumbnail URL\n",
    "        url = image.getThumbURL({\n",
    "            'dimensions': 1024,\n",
    "            'region': aoi.getInfo()['coordinates'],\n",
    "            'format': 'png',\n",
    "            'min': min_val,\n",
    "            'max': max_val,\n",
    "            'palette': palette\n",
    "        })\n",
    "\n",
    "        # Download the image from the URL\n",
    "        response = requests.get(url)\n",
    "\n",
    "        if response.status_code == 200:\n",
    "            full_path = os.path.join(folder, filename)\n",
    "            with open(full_path, 'wb') as f:\n",
    "                f.write(response.content)\n",
    "            print(f\"Saved {full_path}\")\n",
    "        else:\n",
    "            print(f\"Failed to download {filename}: {response.status_code}\")\n",
    "\n",
    "    except Exception as e:\n",
    "        print(f\"Error downloading {filename}: {e}\")\n",
    "\n",
    "# Flood Mask (Cyan)\n",
    "download_layer_as_png(\n",
    "    flood_mask,\n",
    "    'flood_mask.png',\n",
    "    palette=['cyan']\n",
    ")\n",
    "\n",
    "# JRC Water (Blue)\n",
    "download_layer_as_png(\n",
    "    jrc_water,\n",
    "    'jrc_water.png',\n",
    "    palette=['blue']\n",
    ")\n",
    "\n",
    "# Flood ∩ Water (Purple)\n",
    "download_layer_as_png(\n",
    "    flood_water_overlap,\n",
    "    'flood_water_overlap.png',\n",
    "    palette=['purple']\n",
    ")\n",
    "\n",
    "\n",
    "\n",
    "\n",
    "Map"
   ]
  },
  {
   "cell_type": "markdown",
   "id": "87084576",
   "metadata": {},
   "source": [
    "| Layer            | Color  | Meaning                                                        |\n",
    "|------------------|--------|----------------------------------------------------------------|\n",
    "| Flood Mask       | Cyan   | Detected flood areas (from Sentinel-1 SAR)                     |\n",
    "| JRC Water        | Blue   | Permanent water bodies (from JRC dataset)                      |\n",
    "| Flood ∩ Water    | Purple | Areas where detected floods overlap with permanent water       |\n"
   ]
  },
  {
   "cell_type": "code",
   "execution_count": 62,
   "id": "fd0b1a2f",
   "metadata": {},
   "outputs": [
    {
     "data": {
      "text/html": [
       "\n",
       "            <style>\n",
       "                .geemap-dark {\n",
       "                    --jp-widgets-color: white;\n",
       "                    --jp-widgets-label-color: white;\n",
       "                    --jp-ui-font-color1: white;\n",
       "                    --jp-layout-color2: #454545;\n",
       "                    background-color: #383838;\n",
       "                }\n",
       "\n",
       "                .geemap-dark .jupyter-button {\n",
       "                    --jp-layout-color3: #383838;\n",
       "                }\n",
       "\n",
       "                .geemap-colab {\n",
       "                    background-color: var(--colab-primary-surface-color, white);\n",
       "                }\n",
       "\n",
       "                .geemap-colab .jupyter-button {\n",
       "                    --jp-layout-color3: var(--colab-primary-surface-color, white);\n",
       "                }\n",
       "            </style>\n",
       "            "
      ],
      "text/plain": [
       "<IPython.core.display.HTML object>"
      ]
     },
     "metadata": {},
     "output_type": "display_data"
    },
    {
     "name": "stdout",
     "output_type": "stream",
     "text": [
      "Flood mask overlap with JRC water: {'VV': 2448}\n",
      "JRC water pixel count: {'waterClass': 6965.956862745098}\n"
     ]
    }
   ],
   "source": [
    "print(\"Flood mask overlap with JRC water:\", flood_water_overlap.reduceRegion(ee.Reducer.sum(), aoi, 30).getInfo())\n",
    "print(\"JRC water pixel count:\", jrc_water.reduceRegion(ee.Reducer.sum(), aoi, 30).getInfo())"
   ]
  },
  {
   "cell_type": "code",
   "execution_count": 63,
   "id": "38317c18",
   "metadata": {},
   "outputs": [
    {
     "data": {
      "text/html": [
       "\n",
       "            <style>\n",
       "                .geemap-dark {\n",
       "                    --jp-widgets-color: white;\n",
       "                    --jp-widgets-label-color: white;\n",
       "                    --jp-ui-font-color1: white;\n",
       "                    --jp-layout-color2: #454545;\n",
       "                    background-color: #383838;\n",
       "                }\n",
       "\n",
       "                .geemap-dark .jupyter-button {\n",
       "                    --jp-layout-color3: #383838;\n",
       "                }\n",
       "\n",
       "                .geemap-colab {\n",
       "                    background-color: var(--colab-primary-surface-color, white);\n",
       "                }\n",
       "\n",
       "                .geemap-colab .jupyter-button {\n",
       "                    --jp-layout-color3: var(--colab-primary-surface-color, white);\n",
       "                }\n",
       "            </style>\n",
       "            "
      ],
      "text/plain": [
       "<IPython.core.display.HTML object>"
      ]
     },
     "metadata": {},
     "output_type": "display_data"
    },
    {
     "name": "stdout",
     "output_type": "stream",
     "text": [
      "0.0 0\n"
     ]
    }
   ],
   "source": [
    "precision = tp / (tp + fp) if (tp + fp) > 0 else 0\n",
    "recall = tp / (tp + fn) if (tp + fn) > 0 else 0\n",
    "\n",
    "print(precision, recall)"
   ]
  },
  {
   "cell_type": "code",
   "execution_count": 64,
   "id": "ad405b05",
   "metadata": {},
   "outputs": [
    {
     "data": {
      "text/html": [
       "\n",
       "            <style>\n",
       "                .geemap-dark {\n",
       "                    --jp-widgets-color: white;\n",
       "                    --jp-widgets-label-color: white;\n",
       "                    --jp-ui-font-color1: white;\n",
       "                    --jp-layout-color2: #454545;\n",
       "                    background-color: #383838;\n",
       "                }\n",
       "\n",
       "                .geemap-dark .jupyter-button {\n",
       "                    --jp-layout-color3: #383838;\n",
       "                }\n",
       "\n",
       "                .geemap-colab {\n",
       "                    background-color: var(--colab-primary-surface-color, white);\n",
       "                }\n",
       "\n",
       "                .geemap-colab .jupyter-button {\n",
       "                    --jp-layout-color3: var(--colab-primary-surface-color, white);\n",
       "                }\n",
       "            </style>\n",
       "            "
      ],
      "text/plain": [
       "<IPython.core.display.HTML object>"
      ]
     },
     "metadata": {},
     "output_type": "display_data"
    },
    {
     "name": "stdout",
     "output_type": "stream",
     "text": [
      "=== Confusion Matrix Metrics ===\n",
      "Correctly Detected Water Pixels (TP): 2448\n",
      "Incorrectly Detected Water Pixels (FP): 0\n",
      "Missed Water Pixels (FN): 35887\n",
      "Correctly Detected Non-Water Pixels (TN): 0\n",
      "Overall Accuracy : 6.39%\n",
      "Water Detection Precision  : 100.00%\n",
      "Water Detection Recall: 6.39%\n"
     ]
    }
   ],
   "source": [
    "# Generate confusion matrix image\n",
    "# flood_mask = prediction; jrc_water = reference\n",
    "confusion = jrc_water.add(flood_mask.multiply(2)).clip(aoi)\n",
    "# Meaning of pixel values:\n",
    "# 0 = TN, 1 = FP, 2 = FN, 3 = TP\n",
    "\n",
    "# Extract each category\n",
    "TP = confusion.eq(3).rename('TP')\n",
    "FP = confusion.eq(1).rename('FP')\n",
    "FN = confusion.eq(2).rename('FN')\n",
    "TN = confusion.eq(0).rename('TN')\n",
    "\n",
    "# Count each category\n",
    "metrics = {\n",
    "    'TP': TP.reduceRegion(ee.Reducer.sum(), aoi, 30).get('TP'),\n",
    "    'FP': FP.reduceRegion(ee.Reducer.sum(), aoi, 30).get('FP'),\n",
    "    'FN': FN.reduceRegion(ee.Reducer.sum(), aoi, 30).get('FN'),\n",
    "    'TN': TN.reduceRegion(ee.Reducer.sum(), aoi, 30).get('TN')\n",
    "}\n",
    "\n",
    "# Retrieve and compute accuracy stats\n",
    "stats = ee.Dictionary(metrics).getInfo()\n",
    "tp, fp, fn, tn = stats['TP'], stats['FP'], stats['FN'], stats['TN']\n",
    "total = tp + fp + fn + tn\n",
    "\n",
    "accuracy = (tp + tn) / total if total else 0\n",
    "precision = tp / (tp + fp) if (tp + fp) else 0\n",
    "recall = tp / (tp + fn) if (tp + fn) else 0\n",
    "\n",
    "# Display results\n",
    "print(\"=== Confusion Matrix Metrics ===\")\n",
    "print(f\"Correctly Detected Water Pixels (TP): {tp:.0f}\")\n",
    "print(f\"Incorrectly Detected Water Pixels (FP): {fp:.0f}\")\n",
    "print(f\"Missed Water Pixels (FN): {fn:.0f}\")\n",
    "print(f\"Correctly Detected Non-Water Pixels (TN): {tn:.0f}\")\n",
    "print(f\"Overall Accuracy : {accuracy:.2%}\")\n",
    "print(f\"Water Detection Precision  : {precision:.2%}\")\n",
    "print(f\"Water Detection Recall: {recall:.2%}\")\n"
   ]
  },
  {
   "cell_type": "markdown",
   "id": "d0addd25",
   "metadata": {},
   "source": [
    "Final Metrics\n",
    "\n",
    "Accuracy: 6.39%\n",
    "model correctly identified flood presence or absence 6.39% of the time.\n",
    "\n",
    "Precision: 12.12%\n",
    "Of all the areas predicted as flood, only 12.12% were actually water. \n",
    "\n",
    "Recall: 6.39%\n",
    "Of all real water bodies, only 6.39% were detected. This is quite low, meaning your model is missing a lot of actual flooded areas."
   ]
  },
  {
   "cell_type": "markdown",
   "id": "58111976",
   "metadata": {},
   "source": [
    "flood detection method is currently:\n",
    "\n",
    "- With low recall (misses real floods).\n",
    "\n",
    "- Not extremely noisy (Precision at 36% isn't bad), so it’s not spamming false floods.\n",
    "\n",
    "- Could benefit from tuning the NDWI threshold, improving masking (e.g., clouds), or using temporal changes (NDWI before vs after flood).\n",
    "\n"
   ]
  },
  {
   "cell_type": "markdown",
   "id": "674ce448",
   "metadata": {},
   "source": [
    "# Confusion Matrix with Real Numbers\n",
    "\n",
    "This shows actual counts:\n",
    "\n",
    "- **Floods correctly found** (True Positives)\n",
    "- **Places wrongly marked as floods** (False Positives)\n",
    "- **Real floods that were missed** (False Negatives)\n",
    "- **Non-floods correctly ignored** (True Negatives)"
   ]
  },
  {
   "cell_type": "code",
   "execution_count": 65,
   "id": "b795513b",
   "metadata": {},
   "outputs": [
    {
     "data": {
      "text/html": [
       "\n",
       "            <style>\n",
       "                .geemap-dark {\n",
       "                    --jp-widgets-color: white;\n",
       "                    --jp-widgets-label-color: white;\n",
       "                    --jp-ui-font-color1: white;\n",
       "                    --jp-layout-color2: #454545;\n",
       "                    background-color: #383838;\n",
       "                }\n",
       "\n",
       "                .geemap-dark .jupyter-button {\n",
       "                    --jp-layout-color3: #383838;\n",
       "                }\n",
       "\n",
       "                .geemap-colab {\n",
       "                    background-color: var(--colab-primary-surface-color, white);\n",
       "                }\n",
       "\n",
       "                .geemap-colab .jupyter-button {\n",
       "                    --jp-layout-color3: var(--colab-primary-surface-color, white);\n",
       "                }\n",
       "            </style>\n",
       "            "
      ],
      "text/plain": [
       "<IPython.core.display.HTML object>"
      ]
     },
     "metadata": {},
     "output_type": "display_data"
    },
    {
     "data": {
      "image/png": "[encoded data removed]",
      "text/plain": [
       "<Figure size 600x500 with 1 Axes>"
      ]
     },
     "metadata": {},
     "output_type": "display_data"
    }
   ],
   "source": [
    "# Collected statistics\n",
    "tp, fp, fn, tn = stats['TP'], stats['FP'], stats['FN'], stats['TN']\n",
    "\n",
    "# Create confusion matrix as a 2x2 array\n",
    "conf_matrix = np.array([[tp, fn],\n",
    "                        [fp, tn]])\n",
    "\n",
    "# Create labels for rows and columns\n",
    "labels = ['Flood', 'Non-Flood']\n",
    "df_cm = pd.DataFrame(conf_matrix, index=labels, columns=labels)\n",
    "\n",
    "# Plot the heatmap\n",
    "plt.figure(figsize=(6, 5))\n",
    "sns.heatmap(df_cm, annot=True, fmt='g', cmap='Blues', cbar=False)\n",
    "plt.xlabel(\"Valid Data\")\n",
    "plt.ylabel(\"Detection\")\n",
    "plt.title(\"Confusion Matrix Heatmap\")\n",
    "plt.tight_layout()\n",
    "plt.savefig('images/charts/confusion_matrix_heatmap.png', dpi=300)\n",
    "plt.show()\n"
   ]
  },
  {
   "cell_type": "code",
   "execution_count": 66,
   "id": "fd2c78b1",
   "metadata": {},
   "outputs": [
    {
     "data": {
      "text/html": [
       "\n",
       "            <style>\n",
       "                .geemap-dark {\n",
       "                    --jp-widgets-color: white;\n",
       "                    --jp-widgets-label-color: white;\n",
       "                    --jp-ui-font-color1: white;\n",
       "                    --jp-layout-color2: #454545;\n",
       "                    background-color: #383838;\n",
       "                }\n",
       "\n",
       "                .geemap-dark .jupyter-button {\n",
       "                    --jp-layout-color3: #383838;\n",
       "                }\n",
       "\n",
       "                .geemap-colab {\n",
       "                    background-color: var(--colab-primary-surface-color, white);\n",
       "                }\n",
       "\n",
       "                .geemap-colab .jupyter-button {\n",
       "                    --jp-layout-color3: var(--colab-primary-surface-color, white);\n",
       "                }\n",
       "            </style>\n",
       "            "
      ],
      "text/plain": [
       "<IPython.core.display.HTML object>"
      ]
     },
     "metadata": {},
     "output_type": "display_data"
    },
    {
     "data": {
      "image/png": "[encoded data removed]",
      "text/plain": [
       "<Figure size 600x500 with 2 Axes>"
      ]
     },
     "metadata": {},
     "output_type": "display_data"
    }
   ],
   "source": [
    "conf_matrix = np.array([[tp, fn],\n",
    "                        [fp, tn]])\n",
    "\n",
    "# Normalize the matrix \n",
    "conf_matrix_normalized = conf_matrix.astype('float') / conf_matrix.sum(axis=1)[:, np.newaxis]\n",
    "\n",
    "# Create a DataFrame with percentage formatting\n",
    "df_cm_norm = pd.DataFrame(conf_matrix_normalized,\n",
    "                          index=['Detected: Flood', 'Detected: Non-Flood'],\n",
    "                          columns=['Valid Data: Flood', 'Valid Data: Non-Flood'])\n",
    "\n",
    "# Plot the percentage heatmap\n",
    "plt.figure(figsize=(6, 5))\n",
    "sns.heatmap(df_cm_norm, annot=True, fmt='.2%', cmap='YlGnBu', cbar=True)\n",
    "plt.title(\"Precentage Confusion Matrix Heatmap\")\n",
    "plt.xlabel(\"Valid Data\")\n",
    "plt.ylabel(\"Detection\")\n",
    "plt.tight_layout()\n",
    "plt.savefig('images/charts/confusion_matrix_heatmap_percentages.png',  dpi=300)\n",
    "plt.show()\n"
   ]
  },
  {
   "cell_type": "markdown",
   "id": "84fedf44",
   "metadata": {},
   "source": [
    "# CHAPTER 10: Result Analysis\n",
    "\n",
    "## 10.1 Introduction\n",
    "\n",
    "The chapter explains the results of flood detection on the basis of Sentinel-1 SAR images validated against an NDWI-based water mask derived from Sentinel-2 optical iamges.\n",
    "Visual and quantitative analyses were conducted to assess the performance of the flood detection model.\n",
    "\n",
    "## 10.2 Visual Analysis\n",
    "\n",
    "Flooded areas detected using the Sentinel-1 SAR backscatter threshold method were predominantly displayed in green, while the water bodies identified using NDWI were displayed in blue.\n",
    "\n",
    "A confusion matrix map was also created for agreement and disagreement identification between the two methods:\n",
    "- **Red areas** represented true positive matches (flood detected by both the methods).\n",
    "- **Green areas** represented false positives (flood detected by SAR but not by NDWI).\n",
    "- **Blue areas** were false negatives (flood detected by NDWI but not by SAR).\n",
    "- **White areas** were correctly detected non-flood areas.\n",
    "\n",
    "## 10.3 Quantitative Assessment\n",
    "\n",
    "A confusion matrix was constructed, and crucial evaluation measures were derived:\n",
    "\n",
    "- **Correctly Detected Water Pixels (TP):** 2,448\n",
    "- **Incorrectly Detected Water Pixels (FP):** 0\n",
    "- **Missed Water Pixels (FN):** 35,887\n",
    "- **Correctly Detected Non-Water Pixels (TN):** 0\n",
    "\n",
    "The resultant performance measures were:\n",
    "- **Overall Accuracy:** 6.39%\n",
    "- **Water Detection Precision:** 100.00%\n",
    "- **Water Detection Recall:** 6.39%\n",
    "- **F1 Score:** 11.96%\n",
    "\n",
    "## 10.4 Interpretation\n",
    "\n",
    "The model of flood detection demonstrated extremely high precision, the correct match between detected flood pixel and flooded region.\n",
    "But low recall value indicates that most flooded regions were undetected.\n",
    "This means the SAR flood detection method was did not work in perfect conditions, excluding false positives at the cost of missing significant parts of the flooded regions.\n",
    "\n",
    "The absence of non-flood detection within the confusion matrix illustrates the data properties and not a procedural defect.\n",
    "AOI predominantly covered flood-affected regions all over the event, and cloud cover in Sentinel-2 images could have contributed towards masking non-flooded pixels.\n",
    "\n",
    "## 10.5 Limitations\n",
    "\n",
    "Some limitations affected the analysis:\n",
    "- Optical image cloud cover and masking of images constrained the validation dataset.\n",
    "- SAR may not detect shallow, vegetated, or small flood areas.\n",
    "\n",
    "## 10.6 Conclusion\n",
    "\n",
    "The model for detecting floods was overall effective in detecting flooded regions correctly where it did detect them, but there is future work that should focus on boosting recall by the use of more combined radar and optical techniques, adaptive thresholding and some other processes."
   ]
  },
  {
   "cell_type": "markdown",
   "id": "6a6dc6fc",
   "metadata": {},
   "source": [
    "# CHAPTER 11: Conclusion and Future Work\n",
    "\n",
    "## 11.1 Conclusion\n",
    "\n",
    "The project successfully demonstrated a flood detection workflow based on Sentinel-1 SAR images that was validated against an NDWI-based water mask created from Sentinel-2 optical data.\n",
    "The procedure involved preprocessing, flood mask generation, NDWI calculation, confusion matrix creation, and performance evaluation.\n",
    "\n",
    "The results highlighted the advantages and disadvantages of the SAR-based flood detection method:\n",
    "- The accuracy of the flood mask was 100%, i.e., all the detected floods were real flooded areas.\n",
    "- The recall was very low (6.39%), i.e., most of the flooded areas were not identified.\n",
    "- The accuracy overall was 6.39%, which was significantly impacted by the biased ratio of flooded to non-flooded areas in the data.\n",
    "\n",
    "These findings suggest that while Sentinel-1 is extremely accurate in precisely detecting floodwaters when detected, it fails to detect smaller or less evident flood occurrences, particularly under vegetative cover or in shallow water cases.\n",
    "\n",
    "The study also demonstrated the challenges of validating floods in the absence of authoritative ground truth information.\n",
    "Using NDWI as pseudo-reference was an expedient remedy, but cloud cover and optical data gaps place limitations that should be acknowledged.\n",
    "\n",
    "Notwithstanding these challenges, the workflow was efficient and scalable and presented a platform for making improvements to future automated flood detection systems from Earth Observation data.\n",
    "\n",
    "## 11.2 Future Work\n",
    "\n",
    "A number of ways are open for further developing this work:\n",
    "\n",
    "- **Better Validation Data:** Adding authoritative flood maps (e.g., Copernicus EMS) or manual annotation through high-resolution images might allow a stronger validation dataset.\n",
    "- **Threshold Optimization:** Local image statistics-based dynamic thresholding rather than using fixed values may improve the sensitivity of flood detection.\n",
    "- **Multisensor Fusion:** Decision-level or pixel-level fusion of SAR and optical images may improve the strengths of each data type.\n",
    "- **Machine Learning Approaches:** Applying supervised classification techniques (e.g., Random Forest, CNNs) learned from flood/non-flood examples may yield better detection accuracy.\n",
    "- **Temporal Analysis:** Combining time-series SAR image analysis could potentially differentiate better between permanent and temporary water bodies and flood events.\n",
    "- **Cloud-Free Optical Reference:** Use of different data could possibly overcome cloud-cover constraints.\n",
    "\n",
    "Generally, the project demonstrates the potential of remote sensing in detecting floods and provides a good starting point for improvement toward more accurate, timely, and scalable flood-monitoring solutions.\n"
   ]
  }
 ],
 "metadata": {
  "kernelspec": {
   "display_name": "base",
   "language": "python",
   "name": "python3"
  },
  "language_info": {
   "codemirror_mode": {
    "name": "ipython",
    "version": 3
   },
   "file_extension": ".py",
   "mimetype": "text/x-python",
   "name": "python",
   "nbconvert_exporter": "python",
   "pygments_lexer": "ipython3",
   "version": "3.12.3"
  }
 },
 "nbformat": 4,
 "nbformat_minor": 5
}
