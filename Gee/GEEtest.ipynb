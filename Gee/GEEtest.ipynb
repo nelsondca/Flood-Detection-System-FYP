{
 "cells": [
  {
   "cell_type": "code",
   "execution_count": null,
   "id": "6f169947-9446-4a84-8e49-a5f28cc56ebb",
   "metadata": {
    "scrolled": true
   },
   "outputs": [],
   "source": [
    "!pip install geemap"
   ]
  },
  {
   "cell_type": "code",
   "execution_count": 5,
   "id": "cd4aa6cf-31e4-43d9-a54f-86797e97a4ea",
   "metadata": {},
   "outputs": [],
   "source": [
    "import geemap"
   ]
  },
  {
   "cell_type": "code",
   "execution_count": null,
   "id": "c76e8ce6-9ad3-49f6-a1cb-cd7af7d869be",
   "metadata": {},
   "outputs": [],
   "source": []
  },
  {
   "cell_type": "code",
   "execution_count": null,
   "id": "1d3600a7",
   "metadata": {},
   "outputs": [],
   "source": [
    "import ee\n",
    "import geemap\n",
    "\n",
    "# Initialize the Earth Engine API\n",
    "ee.Initialize()\n",
    "\n",
    "# Define the area of interest (latitude, longitude)\n",
    "point = ee.Geometry.Polygon([\n",
    "        [[-8.570156845611686, 52.00904254772663],\n",
    "         [-8.570156845611686, 51.7292195887807],\n",
    "         [-7.959042343658562, 51.7292195887807],\n",
    "         [-7.959042343658562, 52.00904254772663]]\n",
    "    ])\n",
    "\n",
    "# Initialize the map\n",
    "Map = geemap.Map(center=[51.8691, -8.2646], zoom=10)  # Adjust center and zoom as needed\n",
    "\n",
    "# Add the area of interest to the map\n",
    "Map.addLayer(point, {'color': 'red'}, 'Area of Interest')\n",
    "\n",
    "# Display the map\n",
    "Map\n"
   ]
  },
  {
   "cell_type": "code",
   "execution_count": null,
   "id": "7b7132cb-50f7-40ac-92f8-d5afeaa689b6",
   "metadata": {},
   "outputs": [],
   "source": [
    "import ee\n",
    "import datetime\n",
    "\n",
    "# Initialize the Earth Engine API\n",
    "ee.Initialize()\n",
    "\n",
    "# Define the area of interest (latitude, longitude, and buffer)\n",
    "point = ee.Geometry.Point([-22.105617279590938, 51.898232058011594])\n",
    "area_of_interest = point.buffer(5000)  # 5km buffer\n",
    "\n",
    "# Define time range (start and end date)\n",
    "start_date = '2015-01-01'\n",
    "end_date = '2023-12-31'\n",
    "\n",
    "# Fetch Landsat 8 images for the defined area and time range\n",
    "landsat_collection = ('LANDSAT/LC08/C02/T1_L2') \\\n",
    "                     .filterBounds(area_of_interest) \\\n",
    "                     .filterDate(start_date, end_date) \\\n",
    "                     .filterMetadata('CLOUD_COVER', 'less_than', 20)\n",
    "\n",
    "# Get the first image from the collection\n",
    "first_image = landsat_collection.first()\n",
    "\n",
    "# Print image information\n",
    "print(first_image.getInfo())\n",
    "\n",
    "# Export the image to Google Drive (you'll need to have Google Drive connected)\n",
    "task = ee.batch.Export.image.toDrive(\n",
    "    image=first_image,\n",
    "    description='Landsat_image',\n",
    "    folder='EarthEngineImages',\n",
    "    scale=30,\n",
    "    region=area_of_interest\n",
    ")\n",
    "task.start()\n",
    "\n",
    "print(\"Image export task started...\")\n"
   ]
  },
  {
   "cell_type": "code",
   "execution_count": null,
   "id": "cab1e438-a685-466e-ba93-43b6c83c6494",
   "metadata": {},
   "outputs": [],
   "source": []
  },
  {
   "cell_type": "code",
   "execution_count": null,
   "id": "2f2686ff-b316-4440-9878-4b13ce6836ae",
   "metadata": {},
   "outputs": [],
   "source": []
  },
  {
   "cell_type": "code",
   "execution_count": null,
   "id": "daec2448-2c2f-494d-94ed-5479b1df84f9",
   "metadata": {},
   "outputs": [],
   "source": []
  },
  {
   "cell_type": "code",
   "execution_count": null,
   "id": "2467051c-be99-41a8-b380-8c9c79f2404d",
   "metadata": {},
   "outputs": [],
   "source": []
  },
  {
   "cell_type": "code",
   "execution_count": null,
   "id": "75d685a3-3565-400b-aaaa-e0942c3c31bd",
   "metadata": {},
   "outputs": [],
   "source": []
  },
  {
   "cell_type": "code",
   "execution_count": null,
   "id": "b4ee546f-441b-4d54-8bc0-a4578e9113fd",
   "metadata": {},
   "outputs": [],
   "source": []
  },
  {
   "cell_type": "code",
   "execution_count": null,
   "id": "e170affa-41ac-499e-a692-2c92282c785e",
   "metadata": {},
   "outputs": [],
   "source": []
  },
  {
   "cell_type": "code",
   "execution_count": null,
   "id": "94dbbc21-6e76-41d6-bfb2-d5f080a427f1",
   "metadata": {},
   "outputs": [],
   "source": []
  },
  {
   "cell_type": "code",
   "execution_count": null,
   "id": "9daffaba-7a61-4d13-bbef-95af9b13802d",
   "metadata": {},
   "outputs": [],
   "source": []
  },
  {
   "cell_type": "code",
   "execution_count": null,
   "id": "b3488dc0-3a52-4e55-a34a-1cb7c2c83e19",
   "metadata": {},
   "outputs": [],
   "source": []
  },
  {
   "cell_type": "code",
   "execution_count": null,
   "id": "e5cb87f0-35c7-4b3d-97b8-f47cbcb2075a",
   "metadata": {},
   "outputs": [],
   "source": []
  },
  {
   "cell_type": "code",
   "execution_count": null,
   "id": "00a00add-8bd8-4b2d-8cef-dffc47e6b8bf",
   "metadata": {},
   "outputs": [],
   "source": []
  },
  {
   "cell_type": "code",
   "execution_count": null,
   "id": "51c1a4d3-79f0-41a6-a0b2-dfac022c21af",
   "metadata": {},
   "outputs": [],
   "source": []
  },
  {
   "cell_type": "code",
   "execution_count": null,
   "id": "4ce5f3b6-307a-4bf9-91b3-8c6850ad9b6f",
   "metadata": {},
   "outputs": [],
   "source": []
  },
  {
   "cell_type": "code",
   "execution_count": null,
   "id": "a31df527-5f0b-430a-b9c1-b982113af17a",
   "metadata": {},
   "outputs": [],
   "source": []
  },
  {
   "cell_type": "code",
   "execution_count": null,
   "id": "85557fde-34f3-4a10-8458-250a46444aff",
   "metadata": {},
   "outputs": [],
   "source": []
  },
  {
   "cell_type": "code",
   "execution_count": null,
   "id": "9d3a9874-674c-4f8e-b32f-6ff2dea1a8dc",
   "metadata": {},
   "outputs": [],
   "source": []
  }
 ],
 "metadata": {
  "kernelspec": {
   "display_name": "Python 3",
   "language": "python",
   "name": "python3"
  },
  "language_info": {
   "codemirror_mode": {
    "name": "ipython",
    "version": 3
   },
   "file_extension": ".py",
   "mimetype": "text/x-python",
   "name": "python",
   "nbconvert_exporter": "python",
   "pygments_lexer": "ipython3",
   "version": "3.12.3"
  }
 },
 "nbformat": 4,
 "nbformat_minor": 5
}
