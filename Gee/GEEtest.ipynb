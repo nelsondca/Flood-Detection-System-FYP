{
 "cells": [
  {
   "cell_type": "markdown",
   "id": "c5ae01eb",
   "metadata": {},
   "source": [
    "# Chapter 1: Introduction\n",
    "\n",
    "This project aims to perform flood detection using Sentinel-1 satellite imagery and the Google Earth Engine platform. By comparing radar images from pre- and post-flood periods, we can identify flooded areas and visualize water extent changes over time.\n",
    "\n",
    "- Set up the environment and initialize Google Earth Engine.\n",
    "- Define the Area of Interest (AOI) and fetch satellite images.\n",
    "- Process and visualize the data to detect changes in water-covered areas.\n"
   ]
  },
  {
   "cell_type": "markdown",
   "id": "f0cb609c",
   "metadata": {},
   "source": [
    "# Chapter 2: Setting Up the Environment\n",
    "\n",
    "In this phase, we import necessary libraries and authenticate access to Google Earth Engine."
   ]
  },
  {
   "cell_type": "code",
   "execution_count": null,
   "id": "19b4ea4a",
   "metadata": {},
   "outputs": [],
   "source": [
    "import ee\n",
    "import geemap\n",
    "import os\n",
    "import requests\n",
    "import rasterio\n",
    "from matplotlib import pyplot as plt\n",
    "import seaborn as sns\n",
    "import numpy as np\n",
    "import pandas as pd\n",
    "\n",
    "\n",
    "\n",
    "\n",
    "# Initialize the Earth Engine API \n",
    "ee.Authenticate()\n",
    "ee.Initialize(project='atu-fyp')"
   ]
  },
  {
   "cell_type": "markdown",
   "id": "83224aab",
   "metadata": {},
   "source": [
    "# Chapter 3: Choosing the area and time range\n",
    "\n",
    "Defining the Area of Interest (AOI)\n",
    "\n",
    "\n",
    "According to The Irish Times: https://www.irishtimes.com/ireland/2023/10/19/cork-flooding-floods-in-co-cork-absolutely-devastating-as-safety-warning-issued-to-motorists/\n",
    "\n",
    "We define the AOI for Cork, Ireland, which was heavily affected by floods in 2023. This AOI will be used to fetch and analyze satellite images."
   ]
  },
  {
   "cell_type": "markdown",
   "id": "d10ce54e",
   "metadata": {},
   "source": [
    "Importing Libraries & Starting Earth Engine\n",
    "In this phase, we import necessary libraries and initialize Google Earth Engine to fetch and process satellite images for a specific area and time range."
   ]
  },
  {
   "cell_type": "code",
   "execution_count": null,
   "id": "ccb0af4d",
   "metadata": {},
   "outputs": [],
   "source": [
    "# Define the Area of Interest (AOI)\n",
    "def create_aoi(lat_north, lat_south, lon_west, lon_east, buffer_size=1000):\n",
    "    \"\"\"\n",
    "    Creates an AOI polygon with a buffer.\n",
    "    Args:\n",
    "        lat_north (float): Northern latitude.\n",
    "        lat_south (float): Southern latitude.\n",
    "        lon_west (float): Western longitude.\n",
    "        lon_east (float): Eastern longitude.\n",
    "        buffer_size (int): Buffer size in meters.\n",
    "    Returns:\n",
    "        ee.Geometry: Buffered AOI polygon.\n",
    "    \"\"\"\n",
    "    return ee.Geometry.Polygon([\n",
    "        [\n",
    "            [lon_west, lat_north],\n",
    "            [lon_west, lat_south],\n",
    "            [lon_east, lat_south],\n",
    "            [lon_east, lat_north]\n",
    "        ]\n",
    "    ]).buffer(buffer_size)\n",
    "\n",
    "# Usage\n",
    "aoi = create_aoi(51.95, 51.80, -8.60, -8.15)\n",
    "\n",
    "# Initialize the map\n",
    "Map = geemap.Map(center=[51.8691, -8.2646], zoom=10)\n",
    "Map.addLayer(aoi, {'color': 'brown'}, 'Area of Interest')\n",
    "Map"
   ]
  },
  {
   "cell_type": "code",
   "execution_count": 48,
   "id": "54863d48",
   "metadata": {},
   "outputs": [
    {
     "data": {
      "text/html": [
       "\n",
       "            <style>\n",
       "                .geemap-dark {\n",
       "                    --jp-widgets-color: white;\n",
       "                    --jp-widgets-label-color: white;\n",
       "                    --jp-ui-font-color1: white;\n",
       "                    --jp-layout-color2: #454545;\n",
       "                    background-color: #383838;\n",
       "                }\n",
       "\n",
       "                .geemap-dark .jupyter-button {\n",
       "                    --jp-layout-color3: #383838;\n",
       "                }\n",
       "\n",
       "                .geemap-colab {\n",
       "                    background-color: var(--colab-primary-surface-color, white);\n",
       "                }\n",
       "\n",
       "                .geemap-colab .jupyter-button {\n",
       "                    --jp-layout-color3: var(--colab-primary-surface-color, white);\n",
       "                }\n",
       "            </style>\n",
       "            "
      ],
      "text/plain": [
       "<IPython.core.display.HTML object>"
      ]
     },
     "metadata": {},
     "output_type": "display_data"
    }
   ],
   "source": [
    "# Define date ranges for pre-flood and post-flood periods\n",
    "def define_date_ranges(pre_start, pre_end, post_start, post_end):\n",
    "    \"\"\"\n",
    "    Defines date ranges for pre-flood and post-flood periods.\n",
    "    Args:\n",
    "        pre_start (str): Start date for pre-flood period (YYYY-MM-DD).\n",
    "        pre_end (str): End date for pre-flood period (YYYY-MM-DD).\n",
    "        post_start (str): Start date for post-flood period (YYYY-MM-DD).\n",
    "        post_end (str): End date for post-flood period (YYYY-MM-DD).\n",
    "    Returns:\n",
    "        dict: Dictionary containing the date ranges.\n",
    "    \"\"\"\n",
    "    return {\n",
    "        'pre_flood_start': pre_start,\n",
    "        'pre_flood_end': pre_end,\n",
    "        'post_flood_start': post_start,\n",
    "        'post_flood_end': post_end\n",
    "    }\n",
    "\n",
    "# Usage\n",
    "date_ranges = define_date_ranges('2023-09-01', '2023-09-30', '2023-10-01', '2023-10-31')\n",
    "pre_flood_start = date_ranges['pre_flood_start']\n",
    "pre_flood_end = date_ranges['pre_flood_end']\n",
    "post_flood_start = date_ranges['post_flood_start']\n",
    "post_flood_end = date_ranges['post_flood_end']"
   ]
  },
  {
   "cell_type": "markdown",
   "id": "5aa0d238",
   "metadata": {},
   "source": [
    "# Chapter 4: Data collection Loading and Visualization\n",
    "\n",
    "## 4.1 Loading Sentinel-1 Data\n",
    "This section loads and filters Sentinel-1 satellite radar data for the specified flood event timeframes.  \n",
    "It prepares the data for analysis by applying filters such as date, area, and polarization."
   ]
  },
  {
   "cell_type": "code",
   "execution_count": 47,
   "id": "f143224a",
   "metadata": {},
   "outputs": [
    {
     "data": {
      "text/html": [
       "\n",
       "            <style>\n",
       "                .geemap-dark {\n",
       "                    --jp-widgets-color: white;\n",
       "                    --jp-widgets-label-color: white;\n",
       "                    --jp-ui-font-color1: white;\n",
       "                    --jp-layout-color2: #454545;\n",
       "                    background-color: #383838;\n",
       "                }\n",
       "\n",
       "                .geemap-dark .jupyter-button {\n",
       "                    --jp-layout-color3: #383838;\n",
       "                }\n",
       "\n",
       "                .geemap-colab {\n",
       "                    background-color: var(--colab-primary-surface-color, white);\n",
       "                }\n",
       "\n",
       "                .geemap-colab .jupyter-button {\n",
       "                    --jp-layout-color3: var(--colab-primary-surface-color, white);\n",
       "                }\n",
       "            </style>\n",
       "            "
      ],
      "text/plain": [
       "<IPython.core.display.HTML object>"
      ]
     },
     "metadata": {},
     "output_type": "display_data"
    },
    {
     "data": {
      "application/vnd.jupyter.widget-view+json": {
       "model_id": "23104b283b164cc09963ae54485b5256",
       "version_major": 2,
       "version_minor": 0
      },
      "text/plain": [
       "Map(bottom=43376.0, center=[51.86292391360244, -8.495178222656252], controls=(WidgetControl(options=['position…"
      ]
     },
     "metadata": {},
     "output_type": "display_data"
    }
   ],
   "source": [
    "# Load Sentinel-1 GRD data for pre-flood period\n",
    "pre_flood_collection = ee.ImageCollection('COPERNICUS/S1_GRD') \\\n",
    "    .filterBounds(aoi) \\\n",
    "    .filterDate(pre_flood_start, pre_flood_end) \\\n",
    "    .filter(ee.Filter.listContains('transmitterReceiverPolarisation', 'VV')) \\\n",
    "    .filter(ee.Filter.eq('instrumentMode', 'IW')) \\\n",
    "    .select('VV')\n",
    "\n",
    "# Load Sentinel-1 GRD data for post-flood period\n",
    "post_flood_collection = ee.ImageCollection('COPERNICUS/S1_GRD') \\\n",
    "    .filterBounds(aoi) \\\n",
    "    .filterDate(post_flood_start, post_flood_end) \\\n",
    "    .filter(ee.Filter.listContains('transmitterReceiverPolarisation', 'VV')) \\\n",
    "    .filter(ee.Filter.eq('instrumentMode', 'IW')) \\\n",
    "    .select('VV')\n",
    "\n",
    "# Get the median image for each period\n",
    "pre_flood_image = pre_flood_collection.median()\n",
    "post_flood_image = post_flood_collection.median()\n",
    "\n",
    "\n",
    "# Add pre-flood and post-flood images to the map\n",
    "Map.addLayer(pre_flood_image.clip(aoi), {'min': -20, 'max': 0}, 'Pre-Flood VV')\n",
    "Map.addLayer(post_flood_image.clip(aoi), {'min': -20, 'max': 0}, 'Post-Flood VV')\n",
    "Map.centerObject(aoi)\n",
    "Map"
   ]
  },
  {
   "cell_type": "code",
   "execution_count": 49,
   "id": "15c37a23",
   "metadata": {},
   "outputs": [
    {
     "name": "stdout",
     "output_type": "stream",
     "text": [
      "Saved: C:\\Users\\Neo\\Desktop\\FYP\\Flood-Detection-System-FYP\\Gee\\images\\flood_images\\Pre_Flood_VV.png\n",
      "Saved: C:\\Users\\Neo\\Desktop\\FYP\\Flood-Detection-System-FYP\\Gee\\images\\flood_images\\Post_Flood_VV.png\n"
     ]
    }
   ],
   "source": [
    "# Define the export folder and filenames\n",
    "export_folder = r'C:\\Users\\Neo\\Desktop\\FYP\\Flood-Detection-System-FYP\\Gee\\images\\flood_images'\n",
    "pre_flood_filename = 'Pre_Flood_VV.png'\n",
    "post_flood_filename = 'Post_Flood_VV.png'\n",
    "\n",
    "# Ensure the export folder exists\n",
    "os.makedirs(export_folder, exist_ok=True)\n",
    "\n",
    "# Function to download an image as a PNG\n",
    "def download_image_as_png(image, filename, vis_params=None):\n",
    "    try:\n",
    "        # Generate the thumbnail URL\n",
    "        url = image.getThumbURL({\n",
    "            'dimensions': 1024,  # Set the dimensions of the PNG\n",
    "            'region': aoi.getInfo()['coordinates'],  # Export region\n",
    "            'format': 'png',  # Save as PNG\n",
    "            'min': -20,  # Minimum value for visualization\n",
    "            'max': 0,  # Maximum value for visualization\n",
    "            'palette': ['black', 'white']  # Grayscale palette\n",
    "        })\n",
    "        # Download the image\n",
    "        response = requests.get(url, stream=True)\n",
    "        if response.status_code == 200:\n",
    "            filepath = os.path.join(export_folder, filename)\n",
    "            with open(filepath, 'wb') as f:\n",
    "                for chunk in response.iter_content(chunk_size=1024):\n",
    "                    f.write(chunk)\n",
    "            print(f\"Saved: {filepath}\")\n",
    "        else:\n",
    "            print(f\"Failed to download {filename}. HTTP Status Code: {response.status_code}\")\n",
    "    except Exception as e:\n",
    "        print(f\"Error downloading {filename}: {e}\")\n",
    "\n",
    "# Download Pre-Flood VV image as PNG\n",
    "download_image_as_png(pre_flood_image, pre_flood_filename)\n",
    "\n",
    "# Download Post-Flood VV image as PNG\n",
    "download_image_as_png(post_flood_image, post_flood_filename)"
   ]
  },
  {
   "cell_type": "markdown",
   "id": "7fdc744f",
   "metadata": {},
   "source": [
    "Explanation\n",
    "\n",
    "This section loads Sentinel-1 GRD data for pre-flood and post-flood periods and visualizes the median images."
   ]
  },
  {
   "cell_type": "markdown",
   "id": "9310d2bb",
   "metadata": {},
   "source": [
    "## 4.1 Water area analysis over time\n"
   ]
  },
  {
   "cell_type": "code",
   "execution_count": 50,
   "id": "385b6b3c",
   "metadata": {},
   "outputs": [
    {
     "data": {
      "text/html": [
       "\n",
       "            <style>\n",
       "                .geemap-dark {\n",
       "                    --jp-widgets-color: white;\n",
       "                    --jp-widgets-label-color: white;\n",
       "                    --jp-ui-font-color1: white;\n",
       "                    --jp-layout-color2: #454545;\n",
       "                    background-color: #383838;\n",
       "                }\n",
       "\n",
       "                .geemap-dark .jupyter-button {\n",
       "                    --jp-layout-color3: #383838;\n",
       "                }\n",
       "\n",
       "                .geemap-colab {\n",
       "                    background-color: var(--colab-primary-surface-color, white);\n",
       "                }\n",
       "\n",
       "                .geemap-colab .jupyter-button {\n",
       "                    --jp-layout-color3: var(--colab-primary-surface-color, white);\n",
       "                }\n",
       "            </style>\n",
       "            "
      ],
      "text/plain": [
       "<IPython.core.display.HTML object>"
      ]
     },
     "metadata": {},
     "output_type": "display_data"
    },
    {
     "data": {
      "image/png": "[encoded data removed]",
      "text/plain": [
       "<Figure size 1200x600 with 1 Axes>"
      ]
     },
     "metadata": {},
     "output_type": "display_data"
    }
   ],
   "source": [
    "# Full Collection\n",
    "full_collection = ee.ImageCollection('COPERNICUS/S1_GRD') \\\n",
    "    .filterBounds(aoi) \\\n",
    "    .filterDate('2023-09-01', '2023-10-31') \\\n",
    "    .filter(ee.Filter.listContains('transmitterReceiverPolarisation', 'VV')) \\\n",
    "    .filter(ee.Filter.eq('instrumentMode', 'IW'))\n",
    "\n",
    "# Function to calculate water extent for each image\n",
    "def calc_water_extent(image):\n",
    "    water = image.select('VV').lt(-15)  # Pixels with VV backscatter below -15 dB are classified as floodwater.\n",
    "    area = water.multiply(ee.Image.pixelArea())\n",
    "    stats = area.reduceRegion(\n",
    "        reducer=ee.Reducer.sum(),\n",
    "        geometry=aoi,\n",
    "        scale=30\n",
    "    )\n",
    "    return image.set({'water_area': stats.get('VV'), 'date': image.date().format()})\n",
    "\n",
    "# Apply function to image collection\n",
    "time_series = full_collection.map(calc_water_extent)\n",
    "\n",
    "# Export results for plotting\n",
    "timeseries_stats_m2 = time_series.aggregate_array('water_area').getInfo()\n",
    "dates = time_series.aggregate_array('date').getInfo()\n",
    "\n",
    "# Convert area from m² to km²\n",
    "timeseries_stats_km2 = [value / 1e6 if value else 0 for value in timeseries_stats_m2]\n",
    "\n",
    "# Plotting\n",
    "import matplotlib.pyplot as plt\n",
    "plt.figure(figsize=(12, 6))\n",
    "plt.plot(dates, timeseries_stats_km2, marker='o')\n",
    "plt.title('Water Area Time Series')\n",
    "plt.ylabel('Area (km²)')\n",
    "plt.xticks(rotation=45)\n",
    "plt.grid()\n",
    "plt.savefig('images/charts/Water_Area_Time_Series_km2.png', dpi=300, bbox_inches='tight')\n",
    "plt.show()\n"
   ]
  },
  {
   "cell_type": "markdown",
   "id": "065db069",
   "metadata": {},
   "source": [
    "# Chapter 5: Analyzing Changes\n",
    "This section calculates the difference between pre-flood and post-flood images to detect changes in water-covered areas. A threshold is applied to identify flooded areas.\n",
    "\n",
    "## 5.1 Calculate the Difference Between Pre-Flood and Post-Flood Images\n",
    "We subtract the pre-flood image from the post-flood image to detect changes in water-covered areas. The difference image highlights areas where water levels have changed significantly.\n",
    "\n",
    "## 5.2 Thresholding to Identify Flooded Areas\n",
    "We apply a threshold to the difference image to create a binary flood mask. Pixels with values above the threshold are considered flooded. This mask is then visualized on the map.\n",
    "\n",
    "This next cell calculates the difference between the post-flood and pre-flood images by subtracting the pre-flood image from the post-flood image. The resulting difference image highlights changes in the area. The difference image is then added to the map with a color palette to visualize the changes.\n"
   ]
  },
  {
   "cell_type": "code",
   "execution_count": 51,
   "id": "c1a59d76",
   "metadata": {},
   "outputs": [
    {
     "data": {
      "text/html": [
       "\n",
       "            <style>\n",
       "                .geemap-dark {\n",
       "                    --jp-widgets-color: white;\n",
       "                    --jp-widgets-label-color: white;\n",
       "                    --jp-ui-font-color1: white;\n",
       "                    --jp-layout-color2: #454545;\n",
       "                    background-color: #383838;\n",
       "                }\n",
       "\n",
       "                .geemap-dark .jupyter-button {\n",
       "                    --jp-layout-color3: #383838;\n",
       "                }\n",
       "\n",
       "                .geemap-colab {\n",
       "                    background-color: var(--colab-primary-surface-color, white);\n",
       "                }\n",
       "\n",
       "                .geemap-colab .jupyter-button {\n",
       "                    --jp-layout-color3: var(--colab-primary-surface-color, white);\n",
       "                }\n",
       "            </style>\n",
       "            "
      ],
      "text/plain": [
       "<IPython.core.display.HTML object>"
      ]
     },
     "metadata": {},
     "output_type": "display_data"
    },
    {
     "name": "stdout",
     "output_type": "stream",
     "text": [
      "Difference Image Info: {'type': 'Image', 'bands': [{'id': 'VV', 'data_type': {'type': 'PixelType', 'precision': 'double'}, 'crs': 'EPSG:4326', 'crs_transform': [1, 0, 0, 0, 1, 0]}]}\n",
      "Generated URL: https://earthengine.googleapis.com/v1/projects/atu-fyp/thumbnails/459880685ca7fa4f191ae882381bec9c-0cadaae5242190523f8211fb213b5bc1:getPixels\n",
      "HTTP Status Code: 200\n",
      "Saving to: C:\\Users\\Neo\\Desktop\\FYP\\Flood-Detection-System-FYP\\Gee\\images\\flood_images\\Difference_VV.png\n",
      "Saved: C:\\Users\\Neo\\Desktop\\FYP\\Flood-Detection-System-FYP\\Gee\\images\\flood_images\\Difference_VV.png\n"
     ]
    },
    {
     "data": {
      "application/vnd.jupyter.widget-view+json": {
       "model_id": "193b6dfd5a364d8d874de5d8046a1990",
       "version_major": 2,
       "version_minor": 0
      },
      "text/plain": [
       "Map(center=[51.87510724712848, -8.375], controls=(WidgetControl(options=['position', 'transparent_bg'], widget…"
      ]
     },
     "metadata": {},
     "output_type": "display_data"
    }
   ],
   "source": [
    "# Define the export folder and filename\n",
    "export_folder = r'C:\\Users\\Neo\\Desktop\\FYP\\Flood-Detection-System-FYP\\Gee\\images\\flood_images'\n",
    "filename = 'Difference_VV.png'\n",
    "\n",
    "# Ensure the export folder exists\n",
    "os.makedirs(export_folder, exist_ok=True)\n",
    "\n",
    "# Calculate the difference between post-flood and pre-flood images\n",
    "difference_image = post_flood_image.subtract(pre_flood_image)\n",
    "\n",
    "# Debug: Print the difference image info\n",
    "print(\"Difference Image Info:\", difference_image.getInfo())\n",
    "\n",
    "# Save the difference image as PNG\n",
    "def download_difference_image_as_png(image, filename):\n",
    "    try:\n",
    "        # Generate the thumbnail URL\n",
    "        url = image.getThumbURL({\n",
    "            'dimensions': 1024,  # Set the dimensions of the PNG\n",
    "            'region': aoi.getInfo()['coordinates'],  # Export region\n",
    "            'format': 'png',  # Save as PNG\n",
    "            'min': -5,  # Minimum value for visualization\n",
    "            'max': 5,  # Maximum value for visualization\n",
    "            'palette': ['red', 'white', 'blue']  # Color palette for difference\n",
    "        })\n",
    "        # Debug: Print the generated URL\n",
    "        print(f\"Generated URL: {url}\")\n",
    "\n",
    "        # Download the image\n",
    "        response = requests.get(url, stream=True)\n",
    "        # Debug: Print the HTTP status code\n",
    "        print(f\"HTTP Status Code: {response.status_code}\")\n",
    "\n",
    "        if response.status_code == 200:\n",
    "            filepath = os.path.join(export_folder, filename)\n",
    "            # Debug: Print the file path\n",
    "            print(f\"Saving to: {filepath}\")\n",
    "\n",
    "            with open(filepath, 'wb') as f:\n",
    "                for chunk in response.iter_content(chunk_size=1024):\n",
    "                    f.write(chunk)\n",
    "            print(f\"Saved: {filepath}\")\n",
    "        else:\n",
    "            print(f\"Failed to download {filename}. HTTP Status Code: {response.status_code}\")\n",
    "    except Exception as e:\n",
    "        print(f\"Error downloading {filename}: {e}\")\n",
    "\n",
    "# Download the difference image\n",
    "download_difference_image_as_png(difference_image, filename)\n",
    "\n",
    "# Add the difference image to the map\n",
    "Map.addLayer(difference_image.clip(aoi), {'min': -5, 'max': 5, 'palette': ['blue', 'white', 'red']}, 'Difference Image')\n",
    "Map.centerObject(aoi)\n",
    "Map"
   ]
  },
  {
   "cell_type": "markdown",
   "id": "10e5ed70",
   "metadata": {},
   "source": [
    "EXPLANATION\n",
    "\n",
    "We use colors to show the changes. Red means a lot of change, blue means less change, and white means no change.\n",
    "Flood Mask: We use blue to show the places where we think there was a flood. This helps us see the flooded areas on the map."
   ]
  },
  {
   "cell_type": "markdown",
   "id": "9edcdc83",
   "metadata": {},
   "source": [
    "## 5.2 Thresholding to Identify Flooded Areas\n",
    "We apply a threshold to the difference image to create a binary flood mask. Pixels with values above the threshold are considered flooded. This mask is then visualized on the map."
   ]
  },
  {
   "cell_type": "code",
   "execution_count": 52,
   "id": "aa7107fd",
   "metadata": {},
   "outputs": [
    {
     "data": {
      "text/html": [
       "\n",
       "            <style>\n",
       "                .geemap-dark {\n",
       "                    --jp-widgets-color: white;\n",
       "                    --jp-widgets-label-color: white;\n",
       "                    --jp-ui-font-color1: white;\n",
       "                    --jp-layout-color2: #454545;\n",
       "                    background-color: #383838;\n",
       "                }\n",
       "\n",
       "                .geemap-dark .jupyter-button {\n",
       "                    --jp-layout-color3: #383838;\n",
       "                }\n",
       "\n",
       "                .geemap-colab {\n",
       "                    background-color: var(--colab-primary-surface-color, white);\n",
       "                }\n",
       "\n",
       "                .geemap-colab .jupyter-button {\n",
       "                    --jp-layout-color3: var(--colab-primary-surface-color, white);\n",
       "                }\n",
       "            </style>\n",
       "            "
      ],
      "text/plain": [
       "<IPython.core.display.HTML object>"
      ]
     },
     "metadata": {},
     "output_type": "display_data"
    },
    {
     "data": {
      "application/vnd.jupyter.widget-view+json": {
       "model_id": "193b6dfd5a364d8d874de5d8046a1990",
       "version_major": 2,
       "version_minor": 0
      },
      "text/plain": [
       "Map(center=[51.87510724712849, -8.375], controls=(WidgetControl(options=['position', 'transparent_bg'], widget…"
      ]
     },
     "metadata": {},
     "output_type": "display_data"
    }
   ],
   "source": [
    "# Define a threshold for flood detection\n",
    "threshold = 2  # Adjust this value based on your analysis\n",
    "\n",
    "# Create a binary flood mask\n",
    "flood_mask = difference_image.gt(threshold)\n",
    "\n",
    "# Add the flood mask to the map\n",
    "Map.addLayer(flood_mask.clip(aoi), {'min': 0, 'max': 1, 'palette': ['white', 'blue']}, 'Flood Mask')\n",
    "Map.centerObject(aoi)\n",
    "Map"
   ]
  },
  {
   "cell_type": "markdown",
   "id": "46fb0ad5",
   "metadata": {},
   "source": [
    "EXPLANATION\n",
    "\n",
    "Thresholding: We decide how much change means there was a flood.  If the change is more than 2, there was a flood."
   ]
  },
  {
   "cell_type": "markdown",
   "id": "3413a54f",
   "metadata": {},
   "source": [
    "# Chapter 6: Exporting and Visualizing Results\n",
    "\n",
    "Export the Flood Mask\n",
    "Exporting the flood mask to Google Drive for further analysis.\n",
    "\n"
   ]
  },
  {
   "cell_type": "code",
   "execution_count": 53,
   "id": "1e34e371",
   "metadata": {},
   "outputs": [
    {
     "data": {
      "text/html": [
       "\n",
       "            <style>\n",
       "                .geemap-dark {\n",
       "                    --jp-widgets-color: white;\n",
       "                    --jp-widgets-label-color: white;\n",
       "                    --jp-ui-font-color1: white;\n",
       "                    --jp-layout-color2: #454545;\n",
       "                    background-color: #383838;\n",
       "                }\n",
       "\n",
       "                .geemap-dark .jupyter-button {\n",
       "                    --jp-layout-color3: #383838;\n",
       "                }\n",
       "\n",
       "                .geemap-colab {\n",
       "                    background-color: var(--colab-primary-surface-color, white);\n",
       "                }\n",
       "\n",
       "                .geemap-colab .jupyter-button {\n",
       "                    --jp-layout-color3: var(--colab-primary-surface-color, white);\n",
       "                }\n",
       "            </style>\n",
       "            "
      ],
      "text/plain": [
       "<IPython.core.display.HTML object>"
      ]
     },
     "metadata": {},
     "output_type": "display_data"
    },
    {
     "name": "stdout",
     "output_type": "stream",
     "text": [
      "Export task started. Check Google Drive for the flood mask.\n"
     ]
    }
   ],
   "source": [
    "# Export the flood mask to Google Drive\n",
    "task = ee.batch.Export.image.toDrive(\n",
    "    image=flood_mask.clip(aoi),\n",
    "    description='FloodMask',\n",
    "    folder='EarthEngineImages',\n",
    "    scale=30,\n",
    "    region=aoi\n",
    ")\n",
    "task.start()\n",
    "\n",
    "print(\"Export task started. Check Google Drive for the flood mask.\")"
   ]
  },
  {
   "cell_type": "markdown",
   "id": "9befd7f9",
   "metadata": {},
   "source": [
    "## 6.2 Visualizing Locally\n",
    "Visualizing the exported flood mask locally."
   ]
  },
  {
   "cell_type": "markdown",
   "id": "412325b2",
   "metadata": {},
   "source": [
    "Visualizing locally"
   ]
  },
  {
   "cell_type": "code",
   "execution_count": 54,
   "id": "9239c65b",
   "metadata": {},
   "outputs": [
    {
     "data": {
      "text/html": [
       "\n",
       "            <style>\n",
       "                .geemap-dark {\n",
       "                    --jp-widgets-color: white;\n",
       "                    --jp-widgets-label-color: white;\n",
       "                    --jp-ui-font-color1: white;\n",
       "                    --jp-layout-color2: #454545;\n",
       "                    background-color: #383838;\n",
       "                }\n",
       "\n",
       "                .geemap-dark .jupyter-button {\n",
       "                    --jp-layout-color3: #383838;\n",
       "                }\n",
       "\n",
       "                .geemap-colab {\n",
       "                    background-color: var(--colab-primary-surface-color, white);\n",
       "                }\n",
       "\n",
       "                .geemap-colab .jupyter-button {\n",
       "                    --jp-layout-color3: var(--colab-primary-surface-color, white);\n",
       "                }\n",
       "            </style>\n",
       "            "
      ],
      "text/plain": [
       "<IPython.core.display.HTML object>"
      ]
     },
     "metadata": {},
     "output_type": "display_data"
    },
    {
     "name": "stdout",
     "output_type": "stream",
     "text": [
      "File not found: C:\\\\Users\\\\Neo\\\\Desktop\\\\FYP\\\\geeimages\\\\FloodMask.tif\n"
     ]
    }
   ],
   "source": [
    "\n",
    "# Check if the file exists\n",
    "import os\n",
    "file_path = r\"C:\\\\Users\\\\Neo\\\\Desktop\\\\FYP\\\\geeimages\\\\FloodMask.tif\"\n",
    "if os.path.exists(file_path):\n",
    "    # Open the exported flood mask\n",
    "    with rasterio.open(file_path) as src:\n",
    "        flood_mask_image = src.read(1)\n",
    "\n",
    "    # Display the flood mask\n",
    "    plt.imshow(flood_mask_image, cmap='Blues', vmin=0, vmax=1)\n",
    "    plt.colorbar(label='Flood Mask')\n",
    "    plt.title('Flood Mask')\n",
    "    plt.show()\n",
    "else:\n",
    "    print(f\"File not found: {file_path}\")"
   ]
  },
  {
   "cell_type": "markdown",
   "id": "cccf65a9",
   "metadata": {},
   "source": [
    " ## 6.3 Comparison of Spatial and Temporal Resolution of Satellite Sensors\n",
    "\n",
    " This chart visualizes the spatial and temporal resolution of three widely used Earth observation satellites: Sentinel-1, Sentinel-2, and Landsat-8.\n",
    "\n",
    "Spatial resolution refers to the level of detail in the satellite pictures (measured in meters).\n",
    "\n",
    "Temporal resolution refers to how frequently the satellite captures images of the same area (measured in days).\n",
    "\n",
    "This comparison helps justify the selection of Sentinel-2 and Sentinel-1 for flood detection applications based on image detail and revisit frequency.\n",
    "\n",
    "Data Sources: ESA Sentinel Mission Overview , USGS Landsat-8 Overview "
   ]
  },
  {
   "cell_type": "code",
   "execution_count": 55,
   "id": "8b9c560e",
   "metadata": {},
   "outputs": [
    {
     "data": {
      "text/html": [
       "\n",
       "            <style>\n",
       "                .geemap-dark {\n",
       "                    --jp-widgets-color: white;\n",
       "                    --jp-widgets-label-color: white;\n",
       "                    --jp-ui-font-color1: white;\n",
       "                    --jp-layout-color2: #454545;\n",
       "                    background-color: #383838;\n",
       "                }\n",
       "\n",
       "                .geemap-dark .jupyter-button {\n",
       "                    --jp-layout-color3: #383838;\n",
       "                }\n",
       "\n",
       "                .geemap-colab {\n",
       "                    background-color: var(--colab-primary-surface-color, white);\n",
       "                }\n",
       "\n",
       "                .geemap-colab .jupyter-button {\n",
       "                    --jp-layout-color3: var(--colab-primary-surface-color, white);\n",
       "                }\n",
       "            </style>\n",
       "            "
      ],
      "text/plain": [
       "<IPython.core.display.HTML object>"
      ]
     },
     "metadata": {},
     "output_type": "display_data"
    },
    {
     "data": {
      "image/png": "[encoded data removed]",
      "text/plain": [
       "<Figure size 800x500 with 1 Axes>"
      ]
     },
     "metadata": {},
     "output_type": "display_data"
    }
   ],
   "source": [
    "satellites = ['Sentinel-2', 'Landsat-8', 'Sentinel-1']\n",
    "\n",
    "# Spatial resolution in meters for each satellite (lower = better detail)\n",
    "spatial_resolution = [10, 30, 10]\n",
    "\n",
    "# Temporal resolution in days (how often the satellite revisits the same location)\n",
    "temporal_resolution = [5, 16, 6]\n",
    "\n",
    "# Create an index for the x-axis (one for each satellite)\n",
    "x = range(len(satellites))\n",
    "\n",
    "# Define the width of each bar\n",
    "bar_width = 0.35\n",
    "\n",
    "# Create a new figure and axis object\n",
    "fig, ax = plt.subplots(figsize=(8, 5))  # Set figure size\n",
    "\n",
    "# Plot the spatial resolution bars (shift left by half bar width)\n",
    "ax.bar([i - bar_width/2 for i in x], spatial_resolution,\n",
    "       width=bar_width, label='Spatial Resolution (m)')\n",
    "\n",
    "# Plot the temporal resolution bars (shift right by half bar width)\n",
    "ax.bar([i + bar_width/2 for i in x], temporal_resolution,\n",
    "       width=bar_width, label='Temporal Resolution (days)')\n",
    "\n",
    "# Add labels and title\n",
    "ax.set_xlabel('Satellite')\n",
    "ax.set_title('Comparison of Spatial and Temporal Resolution')\n",
    "ax.set_xticks(x)  # Set the positions of the x-axis ticks\n",
    "ax.set_xticklabels(satellites)  # Label the x-axis ticks with satellite names\n",
    "ax.legend()  # Add a legend\n",
    "ax.grid(True, linestyle='--', alpha=0.5)  # Optional: add light grid lines\n",
    "\n",
    "# Adjust layout to avoid clipping\n",
    "plt.tight_layout()\n",
    "\n",
    "# Save the chart as an image file\n",
    "plt.savefig('images/charts/satellite_comparison.png')  \n",
    "plt.show()\n"
   ]
  },
  {
   "cell_type": "markdown",
   "id": "243f2c82",
   "metadata": {},
   "source": [
    "# Chapter 7: Refining the Threshold\n",
    "Experimenting with different threshold values (e.g., 1.5, 2.5) to improve flood detection accuracy\n",
    "Here we test different threshold values (e.g., 1.5, 2, 2.5, 3) to refine the flood detection process. Each threshold is applied to the difference image, and the resulting flood mask is visualized on the map. This helps us determine the optimal threshold for accurate flood detection."
   ]
  },
  {
   "cell_type": "code",
   "execution_count": 56,
   "id": "e4024c86",
   "metadata": {},
   "outputs": [
    {
     "data": {
      "text/html": [
       "\n",
       "            <style>\n",
       "                .geemap-dark {\n",
       "                    --jp-widgets-color: white;\n",
       "                    --jp-widgets-label-color: white;\n",
       "                    --jp-ui-font-color1: white;\n",
       "                    --jp-layout-color2: #454545;\n",
       "                    background-color: #383838;\n",
       "                }\n",
       "\n",
       "                .geemap-dark .jupyter-button {\n",
       "                    --jp-layout-color3: #383838;\n",
       "                }\n",
       "\n",
       "                .geemap-colab {\n",
       "                    background-color: var(--colab-primary-surface-color, white);\n",
       "                }\n",
       "\n",
       "                .geemap-colab .jupyter-button {\n",
       "                    --jp-layout-color3: var(--colab-primary-surface-color, white);\n",
       "                }\n",
       "            </style>\n",
       "            "
      ],
      "text/plain": [
       "<IPython.core.display.HTML object>"
      ]
     },
     "metadata": {},
     "output_type": "display_data"
    },
    {
     "data": {
      "application/vnd.jupyter.widget-view+json": {
       "model_id": "4eb5a702e99b476096ae18e752c82ae1",
       "version_major": 2,
       "version_minor": 0
      },
      "text/plain": [
       "Map(center=[51.8691, -8.2646], controls=(WidgetControl(options=['position', 'transparent_bg'], widget=SearchDa…"
      ]
     },
     "metadata": {},
     "output_type": "display_data"
    }
   ],
   "source": [
    "# Defining a list of threshold values to test\n",
    "thresholds = [1.5, 2, 2.5, 3]\n",
    "\n",
    "# map to visualize the results\n",
    "Map = geemap.Map(center=[51.8691, -8.2646], zoom=10)\n",
    "\n",
    "# Loops through each threshold and add the flood mask to the map\n",
    "for threshold in thresholds:\n",
    "    flood_mask = difference_image.gt(threshold)\n",
    "    Map.addLayer(flood_mask.clip(aoi), {'min': 0, 'max': 1, 'palette': ['white', 'blue']}, f'Flood Mask (Threshold={threshold})')\n",
    "\n",
    "# Adds the AOI and difference image for reference\n",
    "Map.addLayer(aoi, {'color': 'red'}, 'Area of Interest')\n",
    "Map.addLayer(difference_image.clip(aoi), {'min': -5, 'max': 5, 'palette': ['red', 'white', 'blue']}, 'Difference Image')\n",
    "Map.centerObject(aoi)\n",
    "Map"
   ]
  },
  {
   "cell_type": "markdown",
   "id": "d30341cd",
   "metadata": {},
   "source": [
    "EXPLANATION\n",
    "\n",
    "Here wer are making sure we get it right\n",
    "\n",
    "Flood Masks for Different Thresholds: We use blue to show the places where we think there was a flood for each number we tried. This helps us see how each number works.\n",
    "\n",
    "Visualizing the Results: We look at the map to see how well each number works. We add the flood areas to the map for each number and see which one shows the floods most accurately.\n",
    "\n",
    "\n",
    "\n"
   ]
  },
  {
   "cell_type": "markdown",
   "id": "e1869588",
   "metadata": {},
   "source": [
    "# Chapter 8: Combining Sentinel-1 and Sentinel-2 DATA\n",
    "Sentinel-2 optical data used to calculate the Normalized Difference Water Index (NDWI), which is useful for validating the flood mask derived from Sentinel-1.\n",
    "\n",
    "We load Sentinel-2 optical data for the post-flood period and calculate the NDWI, which is a useful index for detecting water bodies. The NDWI is calculated using the green (B3) and near-infrared (B8) bands. The resulting NDWI image is visualized on the map.\n",
    "\n"
   ]
  },
  {
   "cell_type": "code",
   "execution_count": 57,
   "id": "b49dd03d",
   "metadata": {},
   "outputs": [
    {
     "data": {
      "text/html": [
       "\n",
       "            <style>\n",
       "                .geemap-dark {\n",
       "                    --jp-widgets-color: white;\n",
       "                    --jp-widgets-label-color: white;\n",
       "                    --jp-ui-font-color1: white;\n",
       "                    --jp-layout-color2: #454545;\n",
       "                    background-color: #383838;\n",
       "                }\n",
       "\n",
       "                .geemap-dark .jupyter-button {\n",
       "                    --jp-layout-color3: #383838;\n",
       "                }\n",
       "\n",
       "                .geemap-colab {\n",
       "                    background-color: var(--colab-primary-surface-color, white);\n",
       "                }\n",
       "\n",
       "                .geemap-colab .jupyter-button {\n",
       "                    --jp-layout-color3: var(--colab-primary-surface-color, white);\n",
       "                }\n",
       "            </style>\n",
       "            "
      ],
      "text/plain": [
       "<IPython.core.display.HTML object>"
      ]
     },
     "metadata": {},
     "output_type": "display_data"
    },
    {
     "data": {
      "application/vnd.jupyter.widget-view+json": {
       "model_id": "4eb5a702e99b476096ae18e752c82ae1",
       "version_major": 2,
       "version_minor": 0
      },
      "text/plain": [
       "Map(center=[51.87510724712848, -8.375], controls=(WidgetControl(options=['position', 'transparent_bg'], widget…"
      ]
     },
     "metadata": {},
     "output_type": "display_data"
    }
   ],
   "source": [
    "\n",
    "# Loading Sentinel-2 data for the post-flood period\n",
    "#We ask Google Earth Engine for satellite images from Sentinel-2, a satellite that takes pictures of Earth. \n",
    "#We only take images from our area (Cork) and only in October.\n",
    "#We ignore pictures that have too many clouds (less than 50% clouds allowed). \n",
    "post_flood_sentinel2 = ee.ImageCollection('COPERNICUS/S2') \\\n",
    "    .filterBounds(aoi) \\\n",
    "    .filterDate(post_flood_start, post_flood_end) \\\n",
    "    .filter(ee.Filter.lt('CLOUDY_PIXEL_PERCENTAGE', 50))  # Filter out cloudy images\n",
    "\n",
    "# Function to calculate NDWI\n",
    "#NDWI (Normalized Difference Water Index) is a math trick to find water in a satellite image. \n",
    "# It looks at two colors:\n",
    "# B3 (Green light) \n",
    "# B8 (Near Infrared light) \n",
    "# If B3 is bright and B8 is dark, that means water! \n",
    "# We add this water-detection layer to the image.\n",
    "def add_ndwi(image):\n",
    "    ndwi = image.normalizedDifference(['B3', 'B8']).rename('NDWI')\n",
    "    return image.addBands(ndwi)\n",
    "\n",
    "# Apply NDWI calculation to the collection\n",
    "ndwi_collection = post_flood_sentinel2.map(add_ndwi)\n",
    "\n",
    "# Gets the median NDWI image\n",
    "ndwi_image = ndwi_collection.median()\n",
    "\n",
    "# Adds NDWI layer to the map\n",
    "Map.addLayer(ndwi_image.clip(aoi), {'bands': ['NDWI'], 'min': -1, 'max': 1, 'palette': ['white', 'blue']}, 'NDWI Layer')\n",
    "ndwi_vis_params = {'bands': ['NDWI'], 'min': -0.3, 'max': 0.3, 'palette': ['white', 'blue']}\n",
    "Map.addLayer(ndwi_image.clip(aoi), ndwi_vis_params, 'NDWI')\n",
    "\n",
    "Map.centerObject(aoi)\n",
    "Map"
   ]
  },
  {
   "cell_type": "markdown",
   "id": "6e74488f",
   "metadata": {},
   "source": [
    "EXPLANATION\n",
    "\n",
    "Sentinel-1 and Sentinel-2 We use two different satellites to get pictures. Sentinel-1 sees through clouds and Sentinel-2 sees colors.\n",
    "\n",
    "NDWI Calculation We use Sentinel-2 to find water by looking at how much green and near-infrared light is reflected.\n",
    "\n",
    "NDWI Water Mask We color the places where we think there is water using the NDWI calculation.\n",
    "\n",
    "Comparing with Flood Mask We look at both the NDWI water mask and the flood mask from Sentinel-1 to see if they match.\n",
    "\n",
    "We check if the places we found with Sentinel-1 match the places we found with Sentinel-2. This helps us make sure we are finding the floods correctly.\n",
    "\n"
   ]
  },
  {
   "cell_type": "code",
   "execution_count": 58,
   "id": "0498b0a5",
   "metadata": {},
   "outputs": [
    {
     "data": {
      "text/html": [
       "\n",
       "            <style>\n",
       "                .geemap-dark {\n",
       "                    --jp-widgets-color: white;\n",
       "                    --jp-widgets-label-color: white;\n",
       "                    --jp-ui-font-color1: white;\n",
       "                    --jp-layout-color2: #454545;\n",
       "                    background-color: #383838;\n",
       "                }\n",
       "\n",
       "                .geemap-dark .jupyter-button {\n",
       "                    --jp-layout-color3: #383838;\n",
       "                }\n",
       "\n",
       "                .geemap-colab {\n",
       "                    background-color: var(--colab-primary-surface-color, white);\n",
       "                }\n",
       "\n",
       "                .geemap-colab .jupyter-button {\n",
       "                    --jp-layout-color3: var(--colab-primary-surface-color, white);\n",
       "                }\n",
       "            </style>\n",
       "            "
      ],
      "text/plain": [
       "<IPython.core.display.HTML object>"
      ]
     },
     "metadata": {},
     "output_type": "display_data"
    },
    {
     "name": "stdout",
     "output_type": "stream",
     "text": [
      "Pre-flood NDWI min/max: {'NDWI_max': 0.15676116943359375, 'NDWI_min': -0.45342764258384705}\n",
      "Post-flood NDWI min/max: {'NDWI_max': 0.14702868461608887, 'NDWI_min': -0.42881378531455994}\n"
     ]
    },
    {
     "data": {
      "application/vnd.jupyter.widget-view+json": {
       "model_id": "4eb5a702e99b476096ae18e752c82ae1",
       "version_major": 2,
       "version_minor": 0
      },
      "text/plain": [
       "Map(center=[51.87510724712848, -8.375], controls=(WidgetControl(options=['position', 'transparent_bg'], widget…"
      ]
     },
     "metadata": {},
     "output_type": "display_data"
    }
   ],
   "source": [
    "# Function to standardize bands across all Sentinel-2 images\n",
    "def standardize_bands(image):\n",
    "    # Select only the bands we need (B3 and B8 for NDWI)\n",
    "    return image.select(['B3', 'B8'])\n",
    "\n",
    "# Load and preprocess data with band standardization\n",
    "pre_flood_sentinel2 = ee.ImageCollection('COPERNICUS/S2') \\\n",
    "    .filterBounds(aoi) \\\n",
    "    .filterDate(pre_flood_start, pre_flood_end) \\\n",
    "    .filter(ee.Filter.lt('CLOUDY_PIXEL_PERCENTAGE', 70)) \\\n",
    "    .map(standardize_bands)  # Force consistent bands\n",
    "\n",
    "post_flood_sentinel2 = ee.ImageCollection('COPERNICUS/S2') \\\n",
    "    .filterBounds(aoi) \\\n",
    "    .filterDate(post_flood_start, post_flood_end) \\\n",
    "    .filter(ee.Filter.lt('CLOUDY_PIXEL_PERCENTAGE', 70)) \\\n",
    "    .map(standardize_bands)  # Force consistent bands\n",
    "\n",
    "# NDWI function (now works reliably since all images have B3/B8)\n",
    "def add_ndwi(image):\n",
    "    ndwi = image.normalizedDifference(['B3', 'B8']).rename('NDWI')\n",
    "    return image.addBands(ndwi)\n",
    "\n",
    "# Apply NDWI calculation\n",
    "pre_flood_ndwi = pre_flood_sentinel2.map(add_ndwi).median()\n",
    "post_flood_ndwi = post_flood_sentinel2.map(add_ndwi).median()\n",
    "\n",
    "# Print min/max NDWI values (now works without errors)\n",
    "# Here we check the NDWI values for both pre-flood and post-flood images if the post-flood NDWI isn't higher than the area may not have flooded.\n",
    "print('Pre-flood NDWI min/max:', pre_flood_ndwi.select('NDWI').reduceRegion(\n",
    "    ee.Reducer.minMax(), aoi, 1000).getInfo())\n",
    "print('Post-flood NDWI min/max:', post_flood_ndwi.select('NDWI').reduceRegion(\n",
    "    ee.Reducer.minMax(), aoi, 1000).getInfo())\n",
    "\n",
    "# Visualization (unchanged)\n",
    "Map.addLayer(pre_flood_ndwi.clip(aoi), \n",
    "             {'bands': 'NDWI', 'min': -0.3, 'max': 0.3, 'palette': ['red', 'white', 'blue']}, \n",
    "             'Pre-Flood NDWI')\n",
    "Map.addLayer(post_flood_ndwi.clip(aoi), \n",
    "             {'bands': 'NDWI', 'min': -0.3, 'max': 0.3, 'palette': ['red', 'white', 'blue']}, \n",
    "             'Post-Flood NDWI')\n",
    "\n",
    "# Flood detection\n",
    "flood_diff = post_flood_ndwi.select('NDWI').subtract(pre_flood_ndwi.select('NDWI'))\n",
    "Map.addLayer(flood_diff.clip(aoi), \n",
    "             {'min': 0, 'max': 0.5, 'palette': ['white', 'blue']}, \n",
    "             'NDWI Difference')\n",
    "Map.addLayer(flood_diff.gt(0.1).selfMask().clip(aoi), \n",
    "             {'palette': 'blue'}, \n",
    "             'Flooded Areas (NDWI Increase > 0.1)')\n",
    "Map.centerObject(aoi)\n",
    "Map"
   ]
  },
  {
   "cell_type": "markdown",
   "id": "cf9e45f7",
   "metadata": {},
   "source": [
    "| **Layer**            | **Description**                                           |\n",
    "|----------------------|-----------------------------------------------------------|\n",
    "| Pre-Flood NDWI       | Red/white = land, blue = pre-existing water               |\n",
    "| Post-Flood NDWI      | New blue areas = potential flooding                       |\n",
    "| NDWI Difference      | White = no change, blue = increased water                 |\n",
    "| Flooded Areas        | Only pixels where NDWI increased significantly            |\n"
   ]
  },
  {
   "cell_type": "code",
   "execution_count": null,
   "id": "c0429c40",
   "metadata": {},
   "outputs": [
    {
     "data": {
      "text/html": [
       "\n",
       "            <style>\n",
       "                .geemap-dark {\n",
       "                    --jp-widgets-color: white;\n",
       "                    --jp-widgets-label-color: white;\n",
       "                    --jp-ui-font-color1: white;\n",
       "                    --jp-layout-color2: #454545;\n",
       "                    background-color: #383838;\n",
       "                }\n",
       "\n",
       "                .geemap-dark .jupyter-button {\n",
       "                    --jp-layout-color3: #383838;\n",
       "                }\n",
       "\n",
       "                .geemap-colab {\n",
       "                    background-color: var(--colab-primary-surface-color, white);\n",
       "                }\n",
       "\n",
       "                .geemap-colab .jupyter-button {\n",
       "                    --jp-layout-color3: var(--colab-primary-surface-color, white);\n",
       "                }\n",
       "            </style>\n",
       "            "
      ],
      "text/plain": [
       "<IPython.core.display.HTML object>"
      ]
     },
     "metadata": {},
     "output_type": "display_data"
    },
    {
     "data": {
      "application/vnd.jupyter.widget-view+json": {
       "model_id": "29ed5001bb71474596389b6655b92cff",
       "version_major": 2,
       "version_minor": 0
      },
      "text/plain": [
       "Map(center=[51.875, -8.375], controls=(WidgetControl(options=['position', 'transparent_bg'], widget=SearchData…"
      ]
     },
     "metadata": {},
     "output_type": "display_data"
    }
   ],
   "source": [
    "# Define AOI \n",
    "buffer_size = 1000  # Buffer in meters\n",
    "lat_north = 51.95\n",
    "lat_south = 51.80\n",
    "lon_west = -8.60\n",
    "lon_east = -8.15\n",
    "\n",
    "buffer_size = 1000  # Buffer in meters\n",
    "# Create AOI polygon with buffer\n",
    "aoi = ee.Geometry.Polygon([\n",
    "    [\n",
    "        [lon_west, lat_north],\n",
    "        [lon_west, lat_south],\n",
    "        [lon_east, lat_south],\n",
    "        [lon_east, lat_north]\n",
    "    ]\n",
    "]).buffer(buffer_size)\n",
    "\n",
    "# Define Date Ranges \n",
    "pre_flood_start = '2023-09-01'\n",
    "pre_flood_end = '2023-09-30'\n",
    "post_flood_start = '2023-10-01'\n",
    "post_flood_end = '2023-10-31'\n",
    "\n",
    "# Function to Load and Mask Sentinel-2 Data \n",
    "def load_and_mask(start_date, end_date):\n",
    "    \"\"\"Loads and masks clouds in Sentinel-2 SR data for a given date range\"\"\"\n",
    "    collection = ee.ImageCollection('COPERNICUS/S2_SR') \\\n",
    "        .filterBounds(aoi) \\\n",
    "        .filterDate(start_date, end_date) \\\n",
    "        .filter(ee.Filter.lt('CLOUDY_PIXEL_PERCENTAGE', 70))\n",
    "\n",
    "    def mask_clouds(image):\n",
    "        cloud_prob = image.select('MSK_CLDPRB')\n",
    "        return image.updateMask(cloud_prob.lt(50))\n",
    "\n",
    "    return collection.map(mask_clouds).median()\n",
    "\n",
    "# Load cloud-masked images from the COPERNICUS/S2_SR dataset\n",
    "pre_flood = load_and_mask(pre_flood_start, pre_flood_end)\n",
    "post_flood = load_and_mask(post_flood_start, post_flood_end)\n",
    "\n",
    "# Load Raw (Unmasked) Data for Comparison\n",
    "raw_pre_flood = ee.ImageCollection('COPERNICUS/S2_SR') \\\n",
    "    .filterBounds(aoi) \\\n",
    "    .filterDate(pre_flood_start, pre_flood_end) \\\n",
    "    .median()\n",
    "\n",
    "raw_post_flood = ee.ImageCollection('COPERNICUS/S2_SR') \\\n",
    "    .filterBounds(aoi) \\\n",
    "    .filterDate(post_flood_start, post_flood_end) \\\n",
    "    .median()\n",
    "\n",
    "# Visualization Parameters\n",
    "vis_params = {\n",
    "    'bands': ['B4', 'B3', 'B2'],\n",
    "    'min': 0,\n",
    "    'max': 10000,\n",
    "    'gamma': 1.3\n",
    "}\n",
    "\n",
    "# Display Map \n",
    "Map = geemap.Map(center=[(lat_north + lat_south)/2, (lon_west + lon_east)/2], zoom=12)\n",
    "\n",
    "\n",
    "Map.addLayer(raw_post_flood.clip(aoi), vis_params, 'Raw Sentinel-2 Post-Flood')\n",
    "Map.addLayer(post_flood.clip(aoi), vis_params, 'Masked Post-Flood')\n",
    "\n",
    "\n",
    "# Add layer control\n",
    "Map.addLayerControl()\n",
    "Map\n"
   ]
  },
  {
   "cell_type": "code",
   "execution_count": 60,
   "id": "a9ba98ca",
   "metadata": {},
   "outputs": [
    {
     "data": {
      "text/html": [
       "\n",
       "            <style>\n",
       "                .geemap-dark {\n",
       "                    --jp-widgets-color: white;\n",
       "                    --jp-widgets-label-color: white;\n",
       "                    --jp-ui-font-color1: white;\n",
       "                    --jp-layout-color2: #454545;\n",
       "                    background-color: #383838;\n",
       "                }\n",
       "\n",
       "                .geemap-dark .jupyter-button {\n",
       "                    --jp-layout-color3: #383838;\n",
       "                }\n",
       "\n",
       "                .geemap-colab {\n",
       "                    background-color: var(--colab-primary-surface-color, white);\n",
       "                }\n",
       "\n",
       "                .geemap-colab .jupyter-button {\n",
       "                    --jp-layout-color3: var(--colab-primary-surface-color, white);\n",
       "                }\n",
       "            </style>\n",
       "            "
      ],
      "text/plain": [
       "<IPython.core.display.HTML object>"
      ]
     },
     "metadata": {},
     "output_type": "display_data"
    },
    {
     "name": "stdout",
     "output_type": "stream",
     "text": [
      "Saved: images/flood_maps/pre_flood_ndwi.png\n",
      "Saved: images/flood_maps/post_flood_ndwi.png\n"
     ]
    }
   ],
   "source": [
    "import urllib.request  # Import urllib.request for downloading thumbnails\n",
    "# Define paths \n",
    "dir = \"images/flood_maps\"  # Creates: images/flood_maps/\n",
    "os.makedirs(dir, exist_ok=True)  # Ensure folder exists\n",
    "\n",
    "# Function to download thumbnails\n",
    "def save_ee_thumbnail(image, params, filename):\n",
    "    url = image.getThumbUrl(params)\n",
    "    urllib.request.urlretrieve(url, f\"{dir}/{filename}\")\n",
    "    print(f\"Saved: {dir}/{filename}\")\n",
    "\n",
    "# Download images \n",
    "save_ee_thumbnail(\n",
    "    pre_flood_ndwi.clip(aoi),\n",
    "    {'bands': 'NDWI', 'min': -0.3, 'max': 0.3, 'palette': ['red', 'white', 'blue'], 'dimensions': 1024},\n",
    "    \"pre_flood_ndwi.png\"\n",
    ")\n",
    "\n",
    "save_ee_thumbnail(\n",
    "    post_flood_ndwi.clip(aoi),\n",
    "    {'bands': 'NDWI', 'min': -0.3, 'max': 0.3, 'palette': ['red', 'white', 'blue'], 'dimensions': 1024},\n",
    "    \"post_flood_ndwi.png\"\n",
    ")\n",
    "\n"
   ]
  },
  {
   "cell_type": "markdown",
   "id": "6ea95f67",
   "metadata": {},
   "source": [
    "# Chapter 9:  VALIDATING the FLOOD MASK\n",
    "Comparing the flood mask derived from Sentinel-1 with the NDWI from Sentinel-2 to validate the results.\n",
    "\n",
    "We compare the flood mask derived from Sentinel-1 with the NDWI water mask from Sentinel-2. This helps us validate the accuracy of the flood detection. Areas where both masks overlap are likely true flooded areas, while discrepancies may indicate false positives or false negatives."
   ]
  },
  {
   "cell_type": "code",
   "execution_count": 61,
   "id": "36bf66ad",
   "metadata": {},
   "outputs": [
    {
     "data": {
      "text/html": [
       "\n",
       "            <style>\n",
       "                .geemap-dark {\n",
       "                    --jp-widgets-color: white;\n",
       "                    --jp-widgets-label-color: white;\n",
       "                    --jp-ui-font-color1: white;\n",
       "                    --jp-layout-color2: #454545;\n",
       "                    background-color: #383838;\n",
       "                }\n",
       "\n",
       "                .geemap-dark .jupyter-button {\n",
       "                    --jp-layout-color3: #383838;\n",
       "                }\n",
       "\n",
       "                .geemap-colab {\n",
       "                    background-color: var(--colab-primary-surface-color, white);\n",
       "                }\n",
       "\n",
       "                .geemap-colab .jupyter-button {\n",
       "                    --jp-layout-color3: var(--colab-primary-surface-color, white);\n",
       "                }\n",
       "            </style>\n",
       "            "
      ],
      "text/plain": [
       "<IPython.core.display.HTML object>"
      ]
     },
     "metadata": {},
     "output_type": "display_data"
    },
    {
     "data": {
      "application/vnd.jupyter.widget-view+json": {
       "model_id": "1ad704cc0d864cdc9c504aab7f793979",
       "version_major": 2,
       "version_minor": 0
      },
      "text/plain": [
       "Map(center=[51.875, -8.375], controls=(WidgetControl(options=['position', 'transparent_bg'], widget=SearchData…"
      ]
     },
     "metadata": {},
     "output_type": "display_data"
    }
   ],
   "source": [
    "# Defines a threshold for NDWI (values > 0.3 indicate water)\n",
    "# What this does:\n",
    "# We set a \"rule\" : Any place with an NDWI value higher than 0.3 is water.\n",
    "ndwi_threshold = 0.3\n",
    "ndwi = ndwi_image.select('NDWI').gt(ndwi_threshold)\n",
    "\n",
    "# Adds the NDWI water mask to the map\n",
    "Map.addLayer(ndwi.clip(aoi), {'min': 0, 'max': 1, 'palette': ['white', 'blue']}, 'NDWI Water Mask')\n",
    "\n",
    "# Compares with the Sentinel-1 flood mask\n",
    "Map.addLayer(flood_mask.clip(aoi), {'min': 0, 'max': 1, 'palette': ['white', 'green']}, 'Sentinel-1 Flood Mask')\n",
    "Map.centerObject(aoi)\n",
    "Map"
   ]
  },
  {
   "cell_type": "markdown",
   "id": "3787299c",
   "metadata": {},
   "source": [
    "EXPLANATION\n",
    "\n",
    "This code creates a mask (a special filter) to highlight only the water areas on the map. It looks at the NDWI values and decides which pixels are water and which are not water.\n",
    "\n",
    "\n",
    "Sentinel-1 is another satellite (different from Sentinel-2).\n",
    "\n",
    "\n",
    "\n",
    "Validation We want to make sure that the places we found as flooded are really flooded.\n",
    "NDWI Water Mask: We use the NDWI (Normalized Difference Water Index) from Sentinel-2 to identify water areas and compare it with the flood mask from Sentinel-1.\n",
    "\n",
    "Comparing with the Sentinel-1 Flood Mask:\n",
    "\n",
    "Explanation: We add the flood mask from Sentinel-1 to the map, using green to show the areas identified as flooded. This allows us to visually compare the two masks."
   ]
  },
  {
   "cell_type": "markdown",
   "id": "dea63db5",
   "metadata": {},
   "source": [
    "EXPORTING RESULTS\n"
   ]
  },
  {
   "cell_type": "code",
   "execution_count": 62,
   "id": "8e007ab9",
   "metadata": {},
   "outputs": [
    {
     "data": {
      "text/html": [
       "\n",
       "            <style>\n",
       "                .geemap-dark {\n",
       "                    --jp-widgets-color: white;\n",
       "                    --jp-widgets-label-color: white;\n",
       "                    --jp-ui-font-color1: white;\n",
       "                    --jp-layout-color2: #454545;\n",
       "                    background-color: #383838;\n",
       "                }\n",
       "\n",
       "                .geemap-dark .jupyter-button {\n",
       "                    --jp-layout-color3: #383838;\n",
       "                }\n",
       "\n",
       "                .geemap-colab {\n",
       "                    background-color: var(--colab-primary-surface-color, white);\n",
       "                }\n",
       "\n",
       "                .geemap-colab .jupyter-button {\n",
       "                    --jp-layout-color3: var(--colab-primary-surface-color, white);\n",
       "                }\n",
       "            </style>\n",
       "            "
      ],
      "text/plain": [
       "<IPython.core.display.HTML object>"
      ]
     },
     "metadata": {},
     "output_type": "display_data"
    },
    {
     "name": "stdout",
     "output_type": "stream",
     "text": [
      "Export tasks started. Check Google Drive for the validation results.\n"
     ]
    }
   ],
   "source": [
    "# Export NDWI water mask\n",
    "task_ndwi = ee.batch.Export.image.toDrive(\n",
    "    image=ndwi.clip(aoi),\n",
    "    description='NDWI_WaterMask',\n",
    "    folder='EarthEngineImages',\n",
    "    scale=10,\n",
    "    region=aoi\n",
    ")\n",
    "task_ndwi.start()\n",
    "\n",
    "# Export NDWI water mask\n",
    "task_ndwi = ee.batch.Export.image.toDrive(\n",
    "    image=ndwi.clip(aoi),\n",
    "    description='NDWI_WaterMask',\n",
    "    folder='EarthEngineImages',\n",
    "    scale=10,\n",
    "    region=aoi\n",
    ")\n",
    "task_ndwi.start()\n",
    "print(\"Export tasks started. Check Google Drive for the validation results.\")"
   ]
  },
  {
   "cell_type": "code",
   "execution_count": 63,
   "id": "d49e9ed9",
   "metadata": {},
   "outputs": [
    {
     "data": {
      "text/html": [
       "\n",
       "            <style>\n",
       "                .geemap-dark {\n",
       "                    --jp-widgets-color: white;\n",
       "                    --jp-widgets-label-color: white;\n",
       "                    --jp-ui-font-color1: white;\n",
       "                    --jp-layout-color2: #454545;\n",
       "                    background-color: #383838;\n",
       "                }\n",
       "\n",
       "                .geemap-dark .jupyter-button {\n",
       "                    --jp-layout-color3: #383838;\n",
       "                }\n",
       "\n",
       "                .geemap-colab {\n",
       "                    background-color: var(--colab-primary-surface-color, white);\n",
       "                }\n",
       "\n",
       "                .geemap-colab .jupyter-button {\n",
       "                    --jp-layout-color3: var(--colab-primary-surface-color, white);\n",
       "                }\n",
       "            </style>\n",
       "            "
      ],
      "text/plain": [
       "<IPython.core.display.HTML object>"
      ]
     },
     "metadata": {},
     "output_type": "display_data"
    },
    {
     "name": "stdout",
     "output_type": "stream",
     "text": [
      "File not found: C:\\\\Users\\\\Neo\\\\Desktop\\\\FYP\\\\geeimages\\\\Sentinel1_FloodMask.tif\n"
     ]
    }
   ],
   "source": [
    "# Check if the Sentinel-1 flood mask file exists\n",
    "flood_mask_path = r\"C:\\\\Users\\\\Neo\\\\Desktop\\\\FYP\\\\geeimages\\\\Sentinel1_FloodMask.tif\"\n",
    "if os.path.exists(flood_mask_path):\n",
    "    # Open the exported Sentinel-1 flood mask\n",
    "    with rasterio.open(flood_mask_path) as src:\n",
    "        flood_mask_image = src.read(1)\n",
    "\n",
    "    # Display the Sentinel-1 flood mask\n",
    "    plt.subplot(1, 2, 2)\n",
    "    plt.imshow(flood_mask_image, cmap='Greens', vmin=0, vmax=1)\n",
    "    plt.colorbar(label='Sentinel-1 Flood Mask')\n",
    "    plt.title('Sentinel-1 Flood Mask')\n",
    "\n",
    "    plt.show()\n",
    "else:\n",
    "    print(f\"File not found: {flood_mask_path}\")"
   ]
  },
  {
   "cell_type": "markdown",
   "id": "eff20c89",
   "metadata": {},
   "source": [
    "# CHAPTER 10: Anazyling results"
   ]
  },
  {
   "cell_type": "code",
   "execution_count": 64,
   "id": "d53eb228",
   "metadata": {},
   "outputs": [
    {
     "data": {
      "text/html": [
       "\n",
       "            <style>\n",
       "                .geemap-dark {\n",
       "                    --jp-widgets-color: white;\n",
       "                    --jp-widgets-label-color: white;\n",
       "                    --jp-ui-font-color1: white;\n",
       "                    --jp-layout-color2: #454545;\n",
       "                    background-color: #383838;\n",
       "                }\n",
       "\n",
       "                .geemap-dark .jupyter-button {\n",
       "                    --jp-layout-color3: #383838;\n",
       "                }\n",
       "\n",
       "                .geemap-colab {\n",
       "                    background-color: var(--colab-primary-surface-color, white);\n",
       "                }\n",
       "\n",
       "                .geemap-colab .jupyter-button {\n",
       "                    --jp-layout-color3: var(--colab-primary-surface-color, white);\n",
       "                }\n",
       "            </style>\n",
       "            "
      ],
      "text/plain": [
       "<IPython.core.display.HTML object>"
      ]
     },
     "metadata": {},
     "output_type": "display_data"
    },
    {
     "data": {
      "application/vnd.jupyter.widget-view+json": {
       "model_id": "1ad704cc0d864cdc9c504aab7f793979",
       "version_major": 2,
       "version_minor": 0
      },
      "text/plain": [
       "Map(center=[51.87510724712848, -8.375], controls=(WidgetControl(options=['position', 'transparent_bg'], widget…"
      ]
     },
     "metadata": {},
     "output_type": "display_data"
    }
   ],
   "source": [
    "# Load Sentinel-2 imagery for the post-flood period\n",
    "post_flood_sentinel2 = ee.ImageCollection('COPERNICUS/S2') \\\n",
    "    .filterBounds(aoi) \\\n",
    "    .filterDate(post_flood_start, post_flood_end) \\\n",
    "    .filter(ee.Filter.lt('CLOUDY_PIXEL_PERCENTAGE', 10))  # Filter out cloudy images\n",
    "\n",
    "# Check\n",
    "# Add the flood mask and NDWI water mask for comparison\n",
    "Map.addLayer(flood_mask.clip(aoi), {'min': 0, 'max': 1, 'palette': ['white', 'green']}, 'Sentinel-1 Flood Mask')\n",
    "Map.addLayer(ndwi.clip(aoi), {'min': 0, 'max': 1, 'palette': ['white', 'blue']}, 'NDWI Water Mask')\n",
    "\n",
    "\n",
    "Map.centerObject(aoi)\n",
    "Map"
   ]
  },
  {
   "cell_type": "code",
   "execution_count": 65,
   "id": "19ae7775",
   "metadata": {},
   "outputs": [
    {
     "data": {
      "text/html": [
       "\n",
       "            <style>\n",
       "                .geemap-dark {\n",
       "                    --jp-widgets-color: white;\n",
       "                    --jp-widgets-label-color: white;\n",
       "                    --jp-ui-font-color1: white;\n",
       "                    --jp-layout-color2: #454545;\n",
       "                    background-color: #383838;\n",
       "                }\n",
       "\n",
       "                .geemap-dark .jupyter-button {\n",
       "                    --jp-layout-color3: #383838;\n",
       "                }\n",
       "\n",
       "                .geemap-colab {\n",
       "                    background-color: var(--colab-primary-surface-color, white);\n",
       "                }\n",
       "\n",
       "                .geemap-colab .jupyter-button {\n",
       "                    --jp-layout-color3: var(--colab-primary-surface-color, white);\n",
       "                }\n",
       "            </style>\n",
       "            "
      ],
      "text/plain": [
       "<IPython.core.display.HTML object>"
      ]
     },
     "metadata": {},
     "output_type": "display_data"
    },
    {
     "data": {
      "application/vnd.jupyter.widget-view+json": {
       "model_id": "1ad704cc0d864cdc9c504aab7f793979",
       "version_major": 2,
       "version_minor": 0
      },
      "text/plain": [
       "Map(center=[51.87510724712848, -8.375], controls=(WidgetControl(options=['position', 'transparent_bg'], widget…"
      ]
     },
     "metadata": {},
     "output_type": "display_data"
    }
   ],
   "source": [
    "\n",
    "# For demonstration, we'll use the NDWI water mask as validation data\n",
    "reference_data = ndwi\n",
    "\n",
    "# Calculate confusion matrix\n",
    "confusion_matrix = flood_mask.add(reference_data.multiply(2)).clip(aoi)\n",
    "\n",
    "# Add confusion matrix to the map\n",
    "Map.addLayer(confusion_matrix, {'min': 0, 'max': 3, 'palette': ['white', 'green', 'blue', 'red']}, 'Confusion Matrix')\n",
    "Map.centerObject(aoi)\n",
    "Map"
   ]
  },
  {
   "cell_type": "markdown",
   "id": "3c688aae",
   "metadata": {},
   "source": [
    "EXPLANATION\n",
    "\n",
    "The NDWI water mask (blue) represents water bodies detected by Sentinel-2.\n",
    "\n",
    "The Sentinel-1 flood mask (green) represents flooded areas detected by Sentinel-1.\n",
    "\n",
    "Overlaying the two masks to see how well they align.\n",
    "\n",
    "Here we look for areas where both masks (blue and green) overlap. These are likely true flooded areas.\n",
    "\n",
    "Areas where only one mask detects water may indicate false positives or false negatives."
   ]
  },
  {
   "cell_type": "markdown",
   "id": "73ffad09",
   "metadata": {},
   "source": [
    "Quantitive Validation"
   ]
  },
  {
   "cell_type": "code",
   "execution_count": 66,
   "id": "42cf035e",
   "metadata": {},
   "outputs": [
    {
     "data": {
      "text/html": [
       "\n",
       "            <style>\n",
       "                .geemap-dark {\n",
       "                    --jp-widgets-color: white;\n",
       "                    --jp-widgets-label-color: white;\n",
       "                    --jp-ui-font-color1: white;\n",
       "                    --jp-layout-color2: #454545;\n",
       "                    background-color: #383838;\n",
       "                }\n",
       "\n",
       "                .geemap-dark .jupyter-button {\n",
       "                    --jp-layout-color3: #383838;\n",
       "                }\n",
       "\n",
       "                .geemap-colab {\n",
       "                    background-color: var(--colab-primary-surface-color, white);\n",
       "                }\n",
       "\n",
       "                .geemap-colab .jupyter-button {\n",
       "                    --jp-layout-color3: var(--colab-primary-surface-color, white);\n",
       "                }\n",
       "            </style>\n",
       "            "
      ],
      "text/plain": [
       "<IPython.core.display.HTML object>"
      ]
     },
     "metadata": {},
     "output_type": "display_data"
    },
    {
     "ename": "ZeroDivisionError",
     "evalue": "division by zero",
     "output_type": "error",
     "traceback": [
      "\u001b[1;31m---------------------------------------------------------------------------\u001b[0m",
      "\u001b[1;31mZeroDivisionError\u001b[0m                         Traceback (most recent call last)",
      "Cell \u001b[1;32mIn[66], line 38\u001b[0m\n\u001b[0;32m     36\u001b[0m accuracy \u001b[38;5;241m=\u001b[39m (tp_sum) \u001b[38;5;241m/\u001b[39m (tp_sum \u001b[38;5;241m+\u001b[39m fp_sum \u001b[38;5;241m+\u001b[39m fn_sum)\n\u001b[0;32m     37\u001b[0m precision \u001b[38;5;241m=\u001b[39m tp_sum \u001b[38;5;241m/\u001b[39m (tp_sum \u001b[38;5;241m+\u001b[39m fp_sum)\n\u001b[1;32m---> 38\u001b[0m recall \u001b[38;5;241m=\u001b[39m tp_sum \u001b[38;5;241m/\u001b[39m (tp_sum \u001b[38;5;241m+\u001b[39m fn_sum)\n\u001b[0;32m     40\u001b[0m \u001b[38;5;66;03m# Prints the results\u001b[39;00m\n\u001b[0;32m     41\u001b[0m \u001b[38;5;28mprint\u001b[39m(\u001b[38;5;124mf\u001b[39m\u001b[38;5;124m\"\u001b[39m\u001b[38;5;124mAccuracy: \u001b[39m\u001b[38;5;132;01m{\u001b[39;00maccuracy\u001b[38;5;132;01m:\u001b[39;00m\u001b[38;5;124m.2f\u001b[39m\u001b[38;5;132;01m}\u001b[39;00m\u001b[38;5;124m\"\u001b[39m)\n",
      "\u001b[1;31mZeroDivisionError\u001b[0m: division by zero"
     ]
    }
   ],
   "source": [
    "# Defines a threshold for NDWI (values > 0.3 indicate water)\n",
    "ndwi_threshold = 2\n",
    "ndwi = ndwi_image.select('NDWI').gt(ndwi_threshold)\n",
    "\n",
    "# Adds the NDWI water mask to the map\n",
    "Map.addLayer(ndwi.clip(aoi), {'min': 0, 'max': 1, 'palette': ['white', 'blue']}, 'NDWI Water Mask')\n",
    "\n",
    "# For demonstration, we'll use the NDWI water mask as ground truth\n",
    "reference_data = ndwi\n",
    "\n",
    "# Combine flood mask and NDWI water mask to generate a confusion matrix\n",
    "# Values:\n",
    "# 0 = Neither predicted nor actual (True Negative)\n",
    "# 1 = Predicted flood, not actual (False Positive)\n",
    "# 2 = Actual flood, not predicted (False Negative)\n",
    "# 3 = Correctly predicted flood (True Positive)\n",
    "confusion_matrix = flood_mask.add(reference_data.multiply(2)).clip(aoi)\n",
    "\n",
    "\n",
    "# Adds confusion matrix to the map\n",
    "Map.addLayer(confusion_matrix, {'min': 0, 'max': 3, 'palette': ['white', 'green', 'blue', 'red']}, 'Confusion Matrix')\n",
    "Map.centerObject(aoi)\n",
    "Map\n",
    "\n",
    "# Calculates true positives, false positives, and false negatives\n",
    "true_positives = confusion_matrix.eq(3).rename('TP')\n",
    "false_positives = confusion_matrix.eq(1).rename('FP')\n",
    "false_negatives = confusion_matrix.eq(2).rename('FN')\n",
    "\n",
    "# Sums the values over the AOI\n",
    "tp_sum = true_positives.reduceRegion(ee.Reducer.sum(), aoi, 30).get('TP').getInfo()\n",
    "fp_sum = false_positives.reduceRegion(ee.Reducer.sum(), aoi, 30).get('FP').getInfo()\n",
    "fn_sum = false_negatives.reduceRegion(ee.Reducer.sum(), aoi, 30).get('FN').getInfo()\n",
    "\n",
    "# Calculates metrics\n",
    "accuracy = (tp_sum) / (tp_sum + fp_sum + fn_sum)\n",
    "precision = tp_sum / (tp_sum + fp_sum)\n",
    "recall = tp_sum / (tp_sum + fn_sum)\n",
    "\n",
    "# Prints the results\n",
    "print(f\"Accuracy: {accuracy:.2f}\")\n",
    "print(f\"Precision: {precision:.2f}\")\n",
    "print(f\"Recall: {recall:.2f}\")\n",
    "\n",
    "# Visualize flood mask and verified data\n",
    "Map.addLayer(flood_mask.clip(aoi), {'min': 0, 'max': 1, 'palette': ['white', 'red']}, 'Flood Mask')\n",
    "Map.addLayer(reference_data.clip(aoi), {'min': 0, 'max': 1, 'palette': ['white', 'blue']}, 'Valid Data')\n",
    "Map"
   ]
  },
  {
   "cell_type": "markdown",
   "id": "976cc1b5",
   "metadata": {},
   "source": [
    "EXPLANATION \n",
    "\n",
    "True Positives (TP): Areas where both Sentinel-1 and NDWI detect water.\n",
    "\n",
    "False Positives (FP): Areas where Sentinel-1 detects water, but NDWI does not.\n",
    "\n",
    "False Negatives (FN): Areas where NDWI detects water, but Sentinel-1 does not.\n",
    "\n",
    "Accuracy: Percentage of correctly identified flooded areas.\n",
    "\n",
    "Precision: Percentage of detected floods that are correct.\n",
    "\n",
    "Recall: Percentage of actual floods that were detected."
   ]
  },
  {
   "cell_type": "code",
   "execution_count": null,
   "id": "10112dc7",
   "metadata": {},
   "outputs": [
    {
     "data": {
      "text/html": [
       "\n",
       "            <style>\n",
       "                .geemap-dark {\n",
       "                    --jp-widgets-color: white;\n",
       "                    --jp-widgets-label-color: white;\n",
       "                    --jp-ui-font-color1: white;\n",
       "                    --jp-layout-color2: #454545;\n",
       "                    background-color: #383838;\n",
       "                }\n",
       "\n",
       "                .geemap-dark .jupyter-button {\n",
       "                    --jp-layout-color3: #383838;\n",
       "                }\n",
       "\n",
       "                .geemap-colab {\n",
       "                    background-color: var(--colab-primary-surface-color, white);\n",
       "                }\n",
       "\n",
       "                .geemap-colab .jupyter-button {\n",
       "                    --jp-layout-color3: var(--colab-primary-surface-color, white);\n",
       "                }\n",
       "            </style>\n",
       "            "
      ],
      "text/plain": [
       "<IPython.core.display.HTML object>"
      ]
     },
     "metadata": {},
     "output_type": "display_data"
    },
    {
     "name": "stdout",
     "output_type": "stream",
     "text": [
      "True Positives: 0\n",
      "False Positives: 76135.58823529413\n",
      "False Negatives: 0\n",
      "True Negatives: 1030612.3411764749\n",
      "Accuracy: 0.93\n",
      "Precision: 0.00\n",
      "Recall: 0.00\n"
     ]
    }
   ],
   "source": [
    "# 1. Calculate optimal NDWI threshold (Otsu method)\n",
    "histogram = ndwi_image.select('NDWI').reduceRegion(\n",
    "    ee.Reducer.histogram(), \n",
    "    aoi, \n",
    "    scale=30\n",
    ").get('NDWI').getInfo()\n",
    "\n",
    "# Otsu threshold calculation \n",
    "optimal_threshold = 0.3  # Replace with computed value\n",
    "ndwi = ndwi_image.select('NDWI').gt(optimal_threshold)\n",
    "\n",
    "# 2. Generate confusion matrix\n",
    "confusion_matrix = flood_mask.add(ndwi.multiply(2)).clip(aoi)\n",
    "\n",
    "# 3. Compute metrics (with true negatives)\n",
    "true_positives = confusion_matrix.eq(3).rename('TP')\n",
    "false_positives = confusion_matrix.eq(1).rename('FP')\n",
    "false_negatives = confusion_matrix.eq(2).rename('FN')\n",
    "true_negatives = confusion_matrix.eq(0).rename('TN')\n",
    "\n",
    "stats = ee.Dictionary({\n",
    "    'TP': true_positives.reduceRegion(ee.Reducer.sum(), aoi, 30).get('TP'),\n",
    "    'FP': false_positives.reduceRegion(ee.Reducer.sum(), aoi, 30).get('FP'),\n",
    "    'FN': false_negatives.reduceRegion(ee.Reducer.sum(), aoi, 30).get('FN'),\n",
    "    'TN': true_negatives.reduceRegion(ee.Reducer.sum(), aoi, 30).get('TN')\n",
    "}).getInfo()\n",
    "\n",
    "tp, fp, fn, tn = stats['TP'], stats['FP'], stats['FN'], stats['TN']\n",
    "\n",
    "# 4. Calculate metrics\n",
    "accuracy = (tp + tn) / (tp + tn + fp + fn) if (tp + tn + fp + fn) > 0 else 0\n",
    "precision = tp / (tp + fp) if (tp + fp) > 0 else 0\n",
    "recall = tp / (tp + fn) if (tp + fn) > 0 else 0\n",
    "\n",
    "print(f\"True Positives: {tp}\")\n",
    "print(f\"False Positives: {fp}\")\n",
    "print(f\"False Negatives: {fn}\")\n",
    "print(f\"True Negatives: {tn}\")\n",
    "print(f\"Accuracy: {accuracy:.2f}\")\n",
    "print(f\"Precision: {precision:.2f}\")\n",
    "print(f\"Recall: {recall:.2f}\")"
   ]
  },
  {
   "cell_type": "code",
   "execution_count": null,
   "id": "7dcc39d2",
   "metadata": {},
   "outputs": [],
   "source": [
    "# Check how many pixels are flagged in each mask\n",
    "print(\"Flood mask pixel count:\", flood_mask.reduceRegion(ee.Reducer.sum(), aoi, 30).getInfo())\n",
    "print(\"NDWI water mask pixel count:\", ndwi.reduceRegion(ee.Reducer.sum(), aoi, 30).getInfo())"
   ]
  },
  {
   "cell_type": "code",
   "execution_count": 69,
   "id": "1c813bbf",
   "metadata": {},
   "outputs": [
    {
     "data": {
      "text/html": [
       "\n",
       "            <style>\n",
       "                .geemap-dark {\n",
       "                    --jp-widgets-color: white;\n",
       "                    --jp-widgets-label-color: white;\n",
       "                    --jp-ui-font-color1: white;\n",
       "                    --jp-layout-color2: #454545;\n",
       "                    background-color: #383838;\n",
       "                }\n",
       "\n",
       "                .geemap-dark .jupyter-button {\n",
       "                    --jp-layout-color3: #383838;\n",
       "                }\n",
       "\n",
       "                .geemap-colab {\n",
       "                    background-color: var(--colab-primary-surface-color, white);\n",
       "                }\n",
       "\n",
       "                .geemap-colab .jupyter-button {\n",
       "                    --jp-layout-color3: var(--colab-primary-surface-color, white);\n",
       "                }\n",
       "            </style>\n",
       "            "
      ],
      "text/plain": [
       "<IPython.core.display.HTML object>"
      ]
     },
     "metadata": {},
     "output_type": "display_data"
    },
    {
     "data": {
      "application/vnd.jupyter.widget-view+json": {
       "model_id": "38ddb7cfa3dd4d13b495bb1f8a7ebdd5",
       "version_major": 2,
       "version_minor": 0
      },
      "text/plain": [
       "Map(center=[0, 0], controls=(WidgetControl(options=['position', 'transparent_bg'], widget=SearchDataGUI(childr…"
      ]
     },
     "metadata": {},
     "output_type": "display_data"
    }
   ],
   "source": [
    "Map = geemap.Map()\n",
    "Map.addLayer(flood_mask.selfMask(), {'palette': ['red']}, 'Flood Mask')\n",
    "Map.addLayer(ndwi.selfMask(), {'palette': ['blue']}, 'NDWI Water Mask')\n",
    "Map.addLayer(aoi, {'color': 'green'}, 'AOI Boundary')\n",
    "Map.centerObject(aoi)\n",
    "Map"
   ]
  },
  {
   "cell_type": "code",
   "execution_count": 70,
   "id": "ab726224",
   "metadata": {},
   "outputs": [
    {
     "data": {
      "text/html": [
       "\n",
       "            <style>\n",
       "                .geemap-dark {\n",
       "                    --jp-widgets-color: white;\n",
       "                    --jp-widgets-label-color: white;\n",
       "                    --jp-ui-font-color1: white;\n",
       "                    --jp-layout-color2: #454545;\n",
       "                    background-color: #383838;\n",
       "                }\n",
       "\n",
       "                .geemap-dark .jupyter-button {\n",
       "                    --jp-layout-color3: #383838;\n",
       "                }\n",
       "\n",
       "                .geemap-colab {\n",
       "                    background-color: var(--colab-primary-surface-color, white);\n",
       "                }\n",
       "\n",
       "                .geemap-colab .jupyter-button {\n",
       "                    --jp-layout-color3: var(--colab-primary-surface-color, white);\n",
       "                }\n",
       "            </style>\n",
       "            "
      ],
      "text/plain": [
       "<IPython.core.display.HTML object>"
      ]
     },
     "metadata": {},
     "output_type": "display_data"
    },
    {
     "name": "stdout",
     "output_type": "stream",
     "text": [
      "NDWI statistics: {'NDWI_max': 0.22480005025863647, 'NDWI_mean': -0.17145714456050368, 'NDWI_min': -0.5738680362701416}\n"
     ]
    }
   ],
   "source": [
    "ndwi_stats = ndwi_image.select('NDWI').reduceRegion(\n",
    "    ee.Reducer.minMax().combine(ee.Reducer.mean(), None,True),\n",
    "    aoi,\n",
    "    30\n",
    ").getInfo()\n",
    "print(\"NDWI statistics:\", ndwi_stats)"
   ]
  },
  {
   "cell_type": "code",
   "execution_count": 71,
   "id": "cb77aab4",
   "metadata": {},
   "outputs": [
    {
     "data": {
      "text/html": [
       "\n",
       "            <style>\n",
       "                .geemap-dark {\n",
       "                    --jp-widgets-color: white;\n",
       "                    --jp-widgets-label-color: white;\n",
       "                    --jp-ui-font-color1: white;\n",
       "                    --jp-layout-color2: #454545;\n",
       "                    background-color: #383838;\n",
       "                }\n",
       "\n",
       "                .geemap-dark .jupyter-button {\n",
       "                    --jp-layout-color3: #383838;\n",
       "                }\n",
       "\n",
       "                .geemap-colab {\n",
       "                    background-color: var(--colab-primary-surface-color, white);\n",
       "                }\n",
       "\n",
       "                .geemap-colab .jupyter-button {\n",
       "                    --jp-layout-color3: var(--colab-primary-surface-color, white);\n",
       "                }\n",
       "            </style>\n",
       "            "
      ],
      "text/plain": [
       "<IPython.core.display.HTML object>"
      ]
     },
     "metadata": {},
     "output_type": "display_data"
    },
    {
     "name": "stdout",
     "output_type": "stream",
     "text": [
      "New water pixels: {'NDWI_WATER': 80652.71764705883}\n"
     ]
    }
   ],
   "source": [
    "# Calculate the mean NDWI dynamically\n",
    "new_threshold = ndwi_stats['NDWI_mean'] * 1.2  # 20% above the mean NDWI value\n",
    "ndwi = ndwi_image.select('NDWI').gt(0.1).rename('NDWI_WATER')\n",
    "\n",
    "\n",
    "\n",
    "# Recheck water pixels\n",
    "print(\"New water pixels:\", ndwi.reduceRegion(ee.Reducer.sum(), aoi, 30).getInfo())"
   ]
  },
  {
   "cell_type": "code",
   "execution_count": 72,
   "id": "630688ae",
   "metadata": {},
   "outputs": [
    {
     "data": {
      "text/html": [
       "\n",
       "            <style>\n",
       "                .geemap-dark {\n",
       "                    --jp-widgets-color: white;\n",
       "                    --jp-widgets-label-color: white;\n",
       "                    --jp-ui-font-color1: white;\n",
       "                    --jp-layout-color2: #454545;\n",
       "                    background-color: #383838;\n",
       "                }\n",
       "\n",
       "                .geemap-dark .jupyter-button {\n",
       "                    --jp-layout-color3: #383838;\n",
       "                }\n",
       "\n",
       "                .geemap-colab {\n",
       "                    background-color: var(--colab-primary-surface-color, white);\n",
       "                }\n",
       "\n",
       "                .geemap-colab .jupyter-button {\n",
       "                    --jp-layout-color3: var(--colab-primary-surface-color, white);\n",
       "                }\n",
       "            </style>\n",
       "            "
      ],
      "text/plain": [
       "<IPython.core.display.HTML object>"
      ]
     },
     "metadata": {},
     "output_type": "display_data"
    },
    {
     "name": "stdout",
     "output_type": "stream",
     "text": [
      "Flood mask overlap with JRC water: {'VV': 1172.207843137255}\n"
     ]
    },
    {
     "data": {
      "application/vnd.jupyter.widget-view+json": {
       "model_id": "38ddb7cfa3dd4d13b495bb1f8a7ebdd5",
       "version_major": 2,
       "version_minor": 0
      },
      "text/plain": [
       "Map(center=[51.87510724712848, -8.375], controls=(WidgetControl(options=['position', 'transparent_bg'], widget…"
      ]
     },
     "metadata": {},
     "output_type": "display_data"
    }
   ],
   "source": [
    "# Comparing with a known water source (permanent water from JRC)\n",
    "# Load JRC permanent water dataset\n",
    "jrc_water = ee.ImageCollection(\"JRC/GSW1_4/YearlyHistory\") \\\n",
    "    .filter(ee.Filter.eq('year', 2021)) \\\n",
    "    .first() \\\n",
    "    .eq(2) # Permanent water\n",
    "\n",
    "# Add JRC water layer to the map\n",
    "Map.addLayer(jrc_water.clip(aoi), {'palette': ['blue']}, 'JRC Permanent Water')\n",
    "\n",
    "# Compare overlap with NDWI water mask\n",
    "flood_water_overlap = flood_mask.And(jrc_water)\n",
    "print(\"Flood mask overlap with JRC water:\", flood_water_overlap.reduceRegion(ee.Reducer.sum(), aoi, 30).getInfo())\n",
    "Map"
   ]
  },
  {
   "cell_type": "markdown",
   "id": "e523ef47",
   "metadata": {},
   "source": [
    "The YearlyHistory band contains classifications for each pixel, where:​\n",
    "\n",
    "0 indicates no water detected,\n",
    "\n",
    "1 indicates seasonal water, and\n",
    "\n",
    "2 indicates permanent water.​\n",
    "\n",
    "By applying .eq(2), you're creating a binary mask highlighting areas classified as permanent water."
   ]
  },
  {
   "cell_type": "code",
   "execution_count": 73,
   "id": "ec676479",
   "metadata": {},
   "outputs": [
    {
     "data": {
      "text/html": [
       "\n",
       "            <style>\n",
       "                .geemap-dark {\n",
       "                    --jp-widgets-color: white;\n",
       "                    --jp-widgets-label-color: white;\n",
       "                    --jp-ui-font-color1: white;\n",
       "                    --jp-layout-color2: #454545;\n",
       "                    background-color: #383838;\n",
       "                }\n",
       "\n",
       "                .geemap-dark .jupyter-button {\n",
       "                    --jp-layout-color3: #383838;\n",
       "                }\n",
       "\n",
       "                .geemap-colab {\n",
       "                    background-color: var(--colab-primary-surface-color, white);\n",
       "                }\n",
       "\n",
       "                .geemap-colab .jupyter-button {\n",
       "                    --jp-layout-color3: var(--colab-primary-surface-color, white);\n",
       "                }\n",
       "            </style>\n",
       "            "
      ],
      "text/plain": [
       "<IPython.core.display.HTML object>"
      ]
     },
     "metadata": {},
     "output_type": "display_data"
    }
   ],
   "source": [
    "# Sometimes the projection() or resolution of Sentinel-1 vs Sentinel-2 vs JRC can differ.\n",
    "# Reproject to a common CRS and scale (e.g., EPSG:4326, 30m)\n",
    "flood_mask = flood_mask.reproject(crs='EPSG:4326', scale=30)\n",
    "jrc_water = jrc_water.reproject(crs='EPSG:4326', scale=30)\n"
   ]
  },
  {
   "cell_type": "code",
   "execution_count": 74,
   "id": "b432540a",
   "metadata": {},
   "outputs": [
    {
     "data": {
      "text/html": [
       "\n",
       "            <style>\n",
       "                .geemap-dark {\n",
       "                    --jp-widgets-color: white;\n",
       "                    --jp-widgets-label-color: white;\n",
       "                    --jp-ui-font-color1: white;\n",
       "                    --jp-layout-color2: #454545;\n",
       "                    background-color: #383838;\n",
       "                }\n",
       "\n",
       "                .geemap-dark .jupyter-button {\n",
       "                    --jp-layout-color3: #383838;\n",
       "                }\n",
       "\n",
       "                .geemap-colab {\n",
       "                    background-color: var(--colab-primary-surface-color, white);\n",
       "                }\n",
       "\n",
       "                .geemap-colab .jupyter-button {\n",
       "                    --jp-layout-color3: var(--colab-primary-surface-color, white);\n",
       "                }\n",
       "            </style>\n",
       "            "
      ],
      "text/plain": [
       "<IPython.core.display.HTML object>"
      ]
     },
     "metadata": {},
     "output_type": "display_data"
    },
    {
     "name": "stdout",
     "output_type": "stream",
     "text": [
      "Flood mask overlap with JRC water: {'VV': 1172.207843137255}\n",
      "Export task started. Check Google Drive for the flood mask.\n"
     ]
    },
    {
     "data": {
      "image/png": "[encoded data removed]",
      "text/plain": [
       "<Figure size 640x480 with 2 Axes>"
      ]
     },
     "metadata": {},
     "output_type": "display_data"
    }
   ],
   "source": [
    "flood_water_overlap = flood_mask.And(jrc_water)\n",
    "print(\"Flood mask overlap with JRC water:\", flood_water_overlap.reduceRegion(ee.Reducer.sum(), aoi, 30).getInfo())\n",
    "# Export the flood mask to Google Drive\n",
    "task = ee.batch.Export.image.toDrive(\n",
    "    image=flood_mask.clip(aoi),\n",
    "    description='FloodMask',\n",
    "    folder='EarthEngineImages',\n",
    "    scale=30,\n",
    "    region=aoi\n",
    ")\n",
    "task.start()\n",
    "print(\"Export task started. Check Google Drive for the flood mask.\")\n",
    "# Convert the flood_mask to a NumPy array for visualization\n",
    "flood_mask_array = geemap.ee_to_numpy(flood_mask, region=aoi, scale=30)\n",
    "\n",
    "# Check if the array is valid\n",
    "if flood_mask_array is not None:\n",
    "    plt.imshow(flood_mask_array, cmap='Blues', vmin=0, vmax=1)\n",
    "    plt.colorbar(label='Flood Mask')\n",
    "    plt.title('Flood Mask')\n",
    "    plt.show()\n",
    "else:\n",
    "    print(\"Failed to convert flood_mask to a NumPy array.\")\n"
   ]
  },
  {
   "cell_type": "code",
   "execution_count": 75,
   "id": "060f5067",
   "metadata": {},
   "outputs": [
    {
     "data": {
      "text/html": [
       "\n",
       "            <style>\n",
       "                .geemap-dark {\n",
       "                    --jp-widgets-color: white;\n",
       "                    --jp-widgets-label-color: white;\n",
       "                    --jp-ui-font-color1: white;\n",
       "                    --jp-layout-color2: #454545;\n",
       "                    background-color: #383838;\n",
       "                }\n",
       "\n",
       "                .geemap-dark .jupyter-button {\n",
       "                    --jp-layout-color3: #383838;\n",
       "                }\n",
       "\n",
       "                .geemap-colab {\n",
       "                    background-color: var(--colab-primary-surface-color, white);\n",
       "                }\n",
       "\n",
       "                .geemap-colab .jupyter-button {\n",
       "                    --jp-layout-color3: var(--colab-primary-surface-color, white);\n",
       "                }\n",
       "            </style>\n",
       "            "
      ],
      "text/plain": [
       "<IPython.core.display.HTML object>"
      ]
     },
     "metadata": {},
     "output_type": "display_data"
    },
    {
     "data": {
      "application/vnd.jupyter.widget-view+json": {
       "model_id": "e65921349bb642ed94b9bb6cbd18abd5",
       "version_major": 2,
       "version_minor": 0
      },
      "text/plain": [
       "Map(center=[51.7, -8.35], controls=(WidgetControl(options=['position', 'transparent_bg'], widget=SearchDataGUI…"
      ]
     },
     "metadata": {},
     "output_type": "display_data"
    }
   ],
   "source": [
    "Map = geemap.Map(center=[51.7, -8.35], zoom=10)\n",
    "\n",
    "Map.addLayer(flood_mask.updateMask(flood_mask).clip(aoi), {'palette': ['cyan']}, 'Flood Mask')\n",
    "Map.addLayer(jrc_water.updateMask(jrc_water).clip(aoi), {'palette': ['blue']}, 'JRC Water')\n",
    "Map.addLayer(flood_water_overlap.updateMask(flood_water_overlap).clip(aoi), {'palette': ['purple']}, 'Flood ∩ Water')\n",
    "\n",
    "Map"
   ]
  },
  {
   "cell_type": "code",
   "execution_count": null,
   "id": "fd0b1a2f",
   "metadata": {},
   "outputs": [],
   "source": [
    "print(\"Flood mask overlap with JRC water:\", flood_water_overlap.reduceRegion(ee.Reducer.sum(), aoi, 30).getInfo())\n",
    "print(\"JRC water pixel count:\", jrc_water.reduceRegion(ee.Reducer.sum(), aoi, 30).getInfo())"
   ]
  },
  {
   "cell_type": "code",
   "execution_count": 76,
   "id": "38317c18",
   "metadata": {},
   "outputs": [
    {
     "data": {
      "text/html": [
       "\n",
       "            <style>\n",
       "                .geemap-dark {\n",
       "                    --jp-widgets-color: white;\n",
       "                    --jp-widgets-label-color: white;\n",
       "                    --jp-ui-font-color1: white;\n",
       "                    --jp-layout-color2: #454545;\n",
       "                    background-color: #383838;\n",
       "                }\n",
       "\n",
       "                .geemap-dark .jupyter-button {\n",
       "                    --jp-layout-color3: #383838;\n",
       "                }\n",
       "\n",
       "                .geemap-colab {\n",
       "                    background-color: var(--colab-primary-surface-color, white);\n",
       "                }\n",
       "\n",
       "                .geemap-colab .jupyter-button {\n",
       "                    --jp-layout-color3: var(--colab-primary-surface-color, white);\n",
       "                }\n",
       "            </style>\n",
       "            "
      ],
      "text/plain": [
       "<IPython.core.display.HTML object>"
      ]
     },
     "metadata": {},
     "output_type": "display_data"
    },
    {
     "name": "stdout",
     "output_type": "stream",
     "text": [
      "0.0 0\n"
     ]
    }
   ],
   "source": [
    "precision = tp / (tp + fp) if (tp + fp) > 0 else 0\n",
    "recall = tp / (tp + fn) if (tp + fn) > 0 else 0\n",
    "\n",
    "print(precision, recall)"
   ]
  },
  {
   "cell_type": "code",
   "execution_count": 77,
   "id": "ad405b05",
   "metadata": {},
   "outputs": [
    {
     "data": {
      "text/html": [
       "\n",
       "            <style>\n",
       "                .geemap-dark {\n",
       "                    --jp-widgets-color: white;\n",
       "                    --jp-widgets-label-color: white;\n",
       "                    --jp-ui-font-color1: white;\n",
       "                    --jp-layout-color2: #454545;\n",
       "                    background-color: #383838;\n",
       "                }\n",
       "\n",
       "                .geemap-dark .jupyter-button {\n",
       "                    --jp-layout-color3: #383838;\n",
       "                }\n",
       "\n",
       "                .geemap-colab {\n",
       "                    background-color: var(--colab-primary-surface-color, white);\n",
       "                }\n",
       "\n",
       "                .geemap-colab .jupyter-button {\n",
       "                    --jp-layout-color3: var(--colab-primary-surface-color, white);\n",
       "                }\n",
       "            </style>\n",
       "            "
      ],
      "text/plain": [
       "<IPython.core.display.HTML object>"
      ]
     },
     "metadata": {},
     "output_type": "display_data"
    },
    {
     "name": "stdout",
     "output_type": "stream",
     "text": [
      "=== Confusion Matrix Metrics ===\n",
      "Correctly Detected Water Pixels (TP): 1172\n",
      "Incorrectly Detected Water Pixels (FP): 5794\n",
      "Missed Water Pixels (FN): 19997\n",
      "Correctly Detected Non-Water Pixels (TN): 80256\n",
      "Overall Accuracy : 75.95%\n",
      "Water Detection Precision  : 16.83%\n",
      "Water Detection Recall: 5.54%\n"
     ]
    }
   ],
   "source": [
    "# Generate confusion matrix image\n",
    "# flood_mask = prediction; jrc_water = reference\n",
    "confusion = jrc_water.add(flood_mask.multiply(2)).clip(aoi)\n",
    "# Meaning of pixel values:\n",
    "# 0 = TN, 1 = FP, 2 = FN, 3 = TP\n",
    "\n",
    "# Extract each category\n",
    "TP = confusion.eq(3).rename('TP')\n",
    "FP = confusion.eq(1).rename('FP')\n",
    "FN = confusion.eq(2).rename('FN')\n",
    "TN = confusion.eq(0).rename('TN')\n",
    "\n",
    "# Count each category\n",
    "metrics = {\n",
    "    'TP': TP.reduceRegion(ee.Reducer.sum(), aoi, 30).get('TP'),\n",
    "    'FP': FP.reduceRegion(ee.Reducer.sum(), aoi, 30).get('FP'),\n",
    "    'FN': FN.reduceRegion(ee.Reducer.sum(), aoi, 30).get('FN'),\n",
    "    'TN': TN.reduceRegion(ee.Reducer.sum(), aoi, 30).get('TN')\n",
    "}\n",
    "\n",
    "# Retrieve and compute accuracy stats\n",
    "stats = ee.Dictionary(metrics).getInfo()\n",
    "tp, fp, fn, tn = stats['TP'], stats['FP'], stats['FN'], stats['TN']\n",
    "total = tp + fp + fn + tn\n",
    "\n",
    "accuracy = (tp + tn) / total if total else 0\n",
    "precision = tp / (tp + fp) if (tp + fp) else 0\n",
    "recall = tp / (tp + fn) if (tp + fn) else 0\n",
    "\n",
    "# Display results\n",
    "print(\"=== Confusion Matrix Metrics ===\")\n",
    "print(f\"Correctly Detected Water Pixels (TP): {tp:.0f}\")\n",
    "print(f\"Incorrectly Detected Water Pixels (FP): {fp:.0f}\")\n",
    "print(f\"Missed Water Pixels (FN): {fn:.0f}\")\n",
    "print(f\"Correctly Detected Non-Water Pixels (TN): {tn:.0f}\")\n",
    "print(f\"Overall Accuracy : {accuracy:.2%}\")\n",
    "print(f\"Water Detection Precision  : {precision:.2%}\")\n",
    "print(f\"Water Detection Recall: {recall:.2%}\")\n"
   ]
  },
  {
   "cell_type": "markdown",
   "id": "d0addd25",
   "metadata": {},
   "source": [
    "Final Metrics\n",
    "\n",
    "Accuracy: 88.12%\n",
    "model correctly identified flood presence or absence 27.75% of the time.\n",
    "\n",
    "Precision: 12.12%\n",
    "Of all the areas predicted as flood, only 36% were actually water. \n",
    "\n",
    "Recall: 11.32%\n",
    "Of all real water bodies, only 3% were detected. This is quite low, meaning your model is missing a lot of actual flooded areas."
   ]
  },
  {
   "cell_type": "markdown",
   "id": "58111976",
   "metadata": {},
   "source": [
    "flood detection method is currently:\n",
    "\n",
    "- With low recall (misses real floods).\n",
    "\n",
    "- Not extremely noisy (Precision at 36% isn't bad), so it’s not spamming false floods.\n",
    "\n",
    "- Could benefit from tuning the NDWI threshold, improving masking (e.g., clouds), or using temporal changes (NDWI before vs after flood).\n",
    "\n"
   ]
  },
  {
   "cell_type": "markdown",
   "id": "674ce448",
   "metadata": {},
   "source": [
    "# Confusion Matrix with Real Numbers\n",
    "\n",
    "This shows actual counts:\n",
    "\n",
    "- **Floods correctly found** (True Positives)\n",
    "- **Places wrongly marked as floods** (False Positives)\n",
    "- **Real floods that were missed** (False Negatives)\n",
    "- **Non-floods correctly ignored** (True Negatives)"
   ]
  },
  {
   "cell_type": "code",
   "execution_count": 78,
   "id": "b795513b",
   "metadata": {},
   "outputs": [
    {
     "data": {
      "text/html": [
       "\n",
       "            <style>\n",
       "                .geemap-dark {\n",
       "                    --jp-widgets-color: white;\n",
       "                    --jp-widgets-label-color: white;\n",
       "                    --jp-ui-font-color1: white;\n",
       "                    --jp-layout-color2: #454545;\n",
       "                    background-color: #383838;\n",
       "                }\n",
       "\n",
       "                .geemap-dark .jupyter-button {\n",
       "                    --jp-layout-color3: #383838;\n",
       "                }\n",
       "\n",
       "                .geemap-colab {\n",
       "                    background-color: var(--colab-primary-surface-color, white);\n",
       "                }\n",
       "\n",
       "                .geemap-colab .jupyter-button {\n",
       "                    --jp-layout-color3: var(--colab-primary-surface-color, white);\n",
       "                }\n",
       "            </style>\n",
       "            "
      ],
      "text/plain": [
       "<IPython.core.display.HTML object>"
      ]
     },
     "metadata": {},
     "output_type": "display_data"
    },
    {
     "data": {
      "image/png": "[encoded data removed]",
      "text/plain": [
       "<Figure size 600x500 with 1 Axes>"
      ]
     },
     "metadata": {},
     "output_type": "display_data"
    }
   ],
   "source": [
    "# Collected statistics\n",
    "tp, fp, fn, tn = stats['TP'], stats['FP'], stats['FN'], stats['TN']\n",
    "\n",
    "# Create confusion matrix as a 2x2 array\n",
    "conf_matrix = np.array([[tp, fn],\n",
    "                        [fp, tn]])\n",
    "\n",
    "# Create labels for rows and columns\n",
    "labels = ['Flood', 'Non-Flood']\n",
    "df_cm = pd.DataFrame(conf_matrix, index=labels, columns=labels)\n",
    "\n",
    "# Plot the heatmap\n",
    "plt.figure(figsize=(6, 5))\n",
    "sns.heatmap(df_cm, annot=True, fmt='g', cmap='Blues', cbar=False)\n",
    "plt.xlabel(\"Valid Data\")\n",
    "plt.ylabel(\"Detection\")\n",
    "plt.title(\"Confusion Matrix Heatmap\")\n",
    "plt.tight_layout()\n",
    "plt.savefig('images/charts/confusion_matrix_heatmap.png', dpi=300)\n",
    "plt.show()\n"
   ]
  },
  {
   "cell_type": "code",
   "execution_count": 79,
   "id": "fd2c78b1",
   "metadata": {},
   "outputs": [
    {
     "data": {
      "text/html": [
       "\n",
       "            <style>\n",
       "                .geemap-dark {\n",
       "                    --jp-widgets-color: white;\n",
       "                    --jp-widgets-label-color: white;\n",
       "                    --jp-ui-font-color1: white;\n",
       "                    --jp-layout-color2: #454545;\n",
       "                    background-color: #383838;\n",
       "                }\n",
       "\n",
       "                .geemap-dark .jupyter-button {\n",
       "                    --jp-layout-color3: #383838;\n",
       "                }\n",
       "\n",
       "                .geemap-colab {\n",
       "                    background-color: var(--colab-primary-surface-color, white);\n",
       "                }\n",
       "\n",
       "                .geemap-colab .jupyter-button {\n",
       "                    --jp-layout-color3: var(--colab-primary-surface-color, white);\n",
       "                }\n",
       "            </style>\n",
       "            "
      ],
      "text/plain": [
       "<IPython.core.display.HTML object>"
      ]
     },
     "metadata": {},
     "output_type": "display_data"
    },
    {
     "data": {
      "image/png": "[encoded data removed]",
      "text/plain": [
       "<Figure size 600x500 with 2 Axes>"
      ]
     },
     "metadata": {},
     "output_type": "display_data"
    }
   ],
   "source": [
    "conf_matrix = np.array([[tp, fn],\n",
    "                        [fp, tn]])\n",
    "\n",
    "# Normalize the matrix \n",
    "conf_matrix_normalized = conf_matrix.astype('float') / conf_matrix.sum(axis=1)[:, np.newaxis]\n",
    "\n",
    "# Create a DataFrame with percentage formatting\n",
    "df_cm_norm = pd.DataFrame(conf_matrix_normalized,\n",
    "                          index=['Detected: Flood', 'Detected: Non-Flood'],\n",
    "                          columns=['Valid Data: Flood', 'Valid Data: Non-Flood'])\n",
    "\n",
    "# Plot the percentage heatmap\n",
    "plt.figure(figsize=(6, 5))\n",
    "sns.heatmap(df_cm_norm, annot=True, fmt='.2%', cmap='YlGnBu', cbar=True)\n",
    "plt.title(\"Precentage Confusion Matrix Heatmap\")\n",
    "plt.xlabel(\"Valid Data\")\n",
    "plt.ylabel(\"Detection\")\n",
    "plt.tight_layout()\n",
    "plt.savefig('images/charts/confusion_matrix_heatmap_percentages.png',  dpi=300)\n",
    "plt.show()\n"
   ]
  },
  {
   "cell_type": "code",
   "execution_count": null,
   "id": "0af4854e",
   "metadata": {},
   "outputs": [],
   "source": [
    "histogram = ndwi_image.select('NDWI').reduceRegion(\n",
    "    ee.Reducer.histogram(), \n",
    "    aoi, \n",
    "    scale=30\n",
    ").get('NDWI').getInfo()\n",
    "\n",
    "# Example: Otsu threshold calculation\n",
    "optimal_threshold = calculate_otsu_threshold(histogram['histogram'], histogram['bucketMeans'])\n",
    "ndwi = ndwi_image.select('NDWI').gt(optimal_threshold)"
   ]
  }
 ],
 "metadata": {
  "kernelspec": {
   "display_name": "base",
   "language": "python",
   "name": "python3"
  },
  "language_info": {
   "codemirror_mode": {
    "name": "ipython",
    "version": 3
   },
   "file_extension": ".py",
   "mimetype": "text/x-python",
   "name": "python",
   "nbconvert_exporter": "python",
   "pygments_lexer": "ipython3",
   "version": "3.12.3"
  }
 },
 "nbformat": 4,
 "nbformat_minor": 5
}
